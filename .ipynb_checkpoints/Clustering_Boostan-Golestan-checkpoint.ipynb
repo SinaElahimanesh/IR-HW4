{
 "cells": [
  {
   "cell_type": "markdown",
   "id": "ba815bce",
   "metadata": {},
   "source": [
    "<html> \n",
    "    <head>\n",
    "        <link rel=\"preconnect\" href=\"//fdn.fontcdn.ir\">\n",
    "        <link rel=\"preconnect\" href=\"//v1.fontapi.ir\">\n",
    "        <link href=\"https://v1.fontapi.ir/css/Vazir\" rel=\"stylesheet\">\n",
    "    </head>\n",
    "    <body>\n",
    "        <h1 dir=\"rtl\" style=\"font-family: 'Vazir', sans-serif; line-height: 1.8;\"> خوشه‌بند اشعار بوستان سعدی\n",
    "        </h1>\n",
    "        <h3 dir=\"rtl\" style=\"font-family: 'Vazir', sans-serif; line-height: 1.6;\">\n",
    "         \n",
    "            \n",
    "<!--        </h3>\n",
    "    </body> -->\n",
    "</html>"
   ]
  },
  {
   "cell_type": "markdown",
   "id": "a1a3497f",
   "metadata": {},
   "source": [
    "<html> \n",
    "    <head>\n",
    "        <link rel=\"preconnect\" href=\"//fdn.fontcdn.ir\">\n",
    "        <link rel=\"preconnect\" href=\"//v1.fontapi.ir\">\n",
    "        <link href=\"https://v1.fontapi.ir/css/Vazir\" rel=\"stylesheet\">\n",
    "    </head>\n",
    "    <body>\n",
    "     <h3 dir=\"rtl\" style=\"font-family: 'Vazir', sans-serif; line-height: 1.6;\">\n",
    "    ابتدا باید پکیج های مورد نیاز را نصب کنیم.\n",
    "</html>    "
   ]
  },
  {
   "cell_type": "code",
   "execution_count": 1,
   "id": "f525e938",
   "metadata": {},
   "outputs": [
    {
     "name": "stdout",
     "output_type": "stream",
     "text": [
      "\u001b[33mWARNING: Ignoring invalid distribution -sgiref (/Library/Frameworks/Python.framework/Versions/3.9/lib/python3.9/site-packages)\u001b[0m\u001b[33m\n",
      "\u001b[0m\u001b[33mWARNING: Ignoring invalid distribution - (/Library/Frameworks/Python.framework/Versions/3.9/lib/python3.9/site-packages)\u001b[0m\u001b[33m\n",
      "\u001b[0m\u001b[33mWARNING: Ignoring invalid distribution -sgiref (/Library/Frameworks/Python.framework/Versions/3.9/lib/python3.9/site-packages)\u001b[0m\u001b[33m\n",
      "\u001b[0m\u001b[33mWARNING: Ignoring invalid distribution - (/Library/Frameworks/Python.framework/Versions/3.9/lib/python3.9/site-packages)\u001b[0m\u001b[33m\n",
      "\u001b[0mRequirement already satisfied: nltk in /Library/Frameworks/Python.framework/Versions/3.9/lib/python3.9/site-packages (3.3)\n",
      "Requirement already satisfied: six in /Library/Frameworks/Python.framework/Versions/3.9/lib/python3.9/site-packages (from nltk) (1.15.0)\n",
      "\u001b[33mWARNING: Ignoring invalid distribution -sgiref (/Library/Frameworks/Python.framework/Versions/3.9/lib/python3.9/site-packages)\u001b[0m\u001b[33m\n",
      "\u001b[0m\u001b[33mWARNING: Ignoring invalid distribution - (/Library/Frameworks/Python.framework/Versions/3.9/lib/python3.9/site-packages)\u001b[0m\u001b[33m\n",
      "\u001b[0m\u001b[33mWARNING: Ignoring invalid distribution -sgiref (/Library/Frameworks/Python.framework/Versions/3.9/lib/python3.9/site-packages)\u001b[0m\u001b[33m\n",
      "\u001b[0m\u001b[33mWARNING: Ignoring invalid distribution - (/Library/Frameworks/Python.framework/Versions/3.9/lib/python3.9/site-packages)\u001b[0m\u001b[33m\n",
      "\u001b[0m\u001b[33mWARNING: Ignoring invalid distribution -sgiref (/Library/Frameworks/Python.framework/Versions/3.9/lib/python3.9/site-packages)\u001b[0m\u001b[33m\n",
      "\u001b[0m\u001b[33mWARNING: Ignoring invalid distribution - (/Library/Frameworks/Python.framework/Versions/3.9/lib/python3.9/site-packages)\u001b[0m\u001b[33m\n",
      "\u001b[0m\u001b[33mWARNING: Ignoring invalid distribution -sgiref (/Library/Frameworks/Python.framework/Versions/3.9/lib/python3.9/site-packages)\u001b[0m\u001b[33m\n",
      "\u001b[0m\u001b[33mWARNING: Ignoring invalid distribution - (/Library/Frameworks/Python.framework/Versions/3.9/lib/python3.9/site-packages)\u001b[0m\u001b[33m\n",
      "\u001b[0m\u001b[33mWARNING: Ignoring invalid distribution -sgiref (/Library/Frameworks/Python.framework/Versions/3.9/lib/python3.9/site-packages)\u001b[0m\u001b[33m\n",
      "\u001b[0m\u001b[33mWARNING: Ignoring invalid distribution - (/Library/Frameworks/Python.framework/Versions/3.9/lib/python3.9/site-packages)\u001b[0m\u001b[33m\n",
      "\u001b[0m\u001b[33mWARNING: Ignoring invalid distribution -sgiref (/Library/Frameworks/Python.framework/Versions/3.9/lib/python3.9/site-packages)\u001b[0m\u001b[33m\n",
      "\u001b[0m\u001b[33mWARNING: Ignoring invalid distribution - (/Library/Frameworks/Python.framework/Versions/3.9/lib/python3.9/site-packages)\u001b[0m\u001b[33m\n",
      "\u001b[0mRequirement already satisfied: hazm in /Library/Frameworks/Python.framework/Versions/3.9/lib/python3.9/site-packages (0.7.0)\n",
      "Requirement already satisfied: libwapiti>=0.2.1 in /Library/Frameworks/Python.framework/Versions/3.9/lib/python3.9/site-packages (from hazm) (0.2.1)\n",
      "Requirement already satisfied: nltk==3.3 in /Library/Frameworks/Python.framework/Versions/3.9/lib/python3.9/site-packages (from hazm) (3.3)\n",
      "Requirement already satisfied: six in /Library/Frameworks/Python.framework/Versions/3.9/lib/python3.9/site-packages (from nltk==3.3->hazm) (1.15.0)\n",
      "\u001b[33mWARNING: Ignoring invalid distribution -sgiref (/Library/Frameworks/Python.framework/Versions/3.9/lib/python3.9/site-packages)\u001b[0m\u001b[33m\n",
      "\u001b[0m\u001b[33mWARNING: Ignoring invalid distribution - (/Library/Frameworks/Python.framework/Versions/3.9/lib/python3.9/site-packages)\u001b[0m\u001b[33m\n",
      "\u001b[0m\u001b[33mWARNING: Ignoring invalid distribution -sgiref (/Library/Frameworks/Python.framework/Versions/3.9/lib/python3.9/site-packages)\u001b[0m\u001b[33m\n",
      "\u001b[0m\u001b[33mWARNING: Ignoring invalid distribution - (/Library/Frameworks/Python.framework/Versions/3.9/lib/python3.9/site-packages)\u001b[0m\u001b[33m\n",
      "\u001b[0m\u001b[33mWARNING: Ignoring invalid distribution -sgiref (/Library/Frameworks/Python.framework/Versions/3.9/lib/python3.9/site-packages)\u001b[0m\u001b[33m\n",
      "\u001b[0m\u001b[33mWARNING: Ignoring invalid distribution - (/Library/Frameworks/Python.framework/Versions/3.9/lib/python3.9/site-packages)\u001b[0m\u001b[33m\n",
      "\u001b[0m\u001b[33mWARNING: Ignoring invalid distribution -sgiref (/Library/Frameworks/Python.framework/Versions/3.9/lib/python3.9/site-packages)\u001b[0m\u001b[33m\n",
      "\u001b[0m\u001b[33mWARNING: Ignoring invalid distribution - (/Library/Frameworks/Python.framework/Versions/3.9/lib/python3.9/site-packages)\u001b[0m\u001b[33m\n",
      "\u001b[0m\u001b[33mWARNING: Ignoring invalid distribution -sgiref (/Library/Frameworks/Python.framework/Versions/3.9/lib/python3.9/site-packages)\u001b[0m\u001b[33m\n",
      "\u001b[0m\u001b[33mWARNING: Ignoring invalid distribution - (/Library/Frameworks/Python.framework/Versions/3.9/lib/python3.9/site-packages)\u001b[0m\u001b[33m\n",
      "\u001b[0m\u001b[33mWARNING: Ignoring invalid distribution -sgiref (/Library/Frameworks/Python.framework/Versions/3.9/lib/python3.9/site-packages)\u001b[0m\u001b[33m\n",
      "\u001b[0m\u001b[33mWARNING: Ignoring invalid distribution - (/Library/Frameworks/Python.framework/Versions/3.9/lib/python3.9/site-packages)\u001b[0m\u001b[33m\n",
      "\u001b[0mRequirement already satisfied: future in /Library/Frameworks/Python.framework/Versions/3.9/lib/python3.9/site-packages (0.18.2)\n",
      "\u001b[33mWARNING: Ignoring invalid distribution -sgiref (/Library/Frameworks/Python.framework/Versions/3.9/lib/python3.9/site-packages)\u001b[0m\u001b[33m\n",
      "\u001b[0m\u001b[33mWARNING: Ignoring invalid distribution - (/Library/Frameworks/Python.framework/Versions/3.9/lib/python3.9/site-packages)\u001b[0m\u001b[33m\n",
      "\u001b[0m\u001b[33mWARNING: Ignoring invalid distribution -sgiref (/Library/Frameworks/Python.framework/Versions/3.9/lib/python3.9/site-packages)\u001b[0m\u001b[33m\n",
      "\u001b[0m\u001b[33mWARNING: Ignoring invalid distribution - (/Library/Frameworks/Python.framework/Versions/3.9/lib/python3.9/site-packages)\u001b[0m\u001b[33m\n",
      "\u001b[0m\u001b[33mWARNING: Ignoring invalid distribution -sgiref (/Library/Frameworks/Python.framework/Versions/3.9/lib/python3.9/site-packages)\u001b[0m\u001b[33m\n",
      "\u001b[0m\u001b[33mWARNING: Ignoring invalid distribution - (/Library/Frameworks/Python.framework/Versions/3.9/lib/python3.9/site-packages)\u001b[0m\u001b[33m\n",
      "\u001b[0m\u001b[33mWARNING: Ignoring invalid distribution -sgiref (/Library/Frameworks/Python.framework/Versions/3.9/lib/python3.9/site-packages)\u001b[0m\u001b[33m\n",
      "\u001b[0m\u001b[33mWARNING: Ignoring invalid distribution - (/Library/Frameworks/Python.framework/Versions/3.9/lib/python3.9/site-packages)\u001b[0m\u001b[33m\n",
      "\u001b[0m\u001b[33mWARNING: Ignoring invalid distribution -sgiref (/Library/Frameworks/Python.framework/Versions/3.9/lib/python3.9/site-packages)\u001b[0m\u001b[33m\n",
      "\u001b[0m\u001b[33mWARNING: Ignoring invalid distribution - (/Library/Frameworks/Python.framework/Versions/3.9/lib/python3.9/site-packages)\u001b[0m\u001b[33m\n",
      "\u001b[0m\u001b[33mWARNING: Ignoring invalid distribution -sgiref (/Library/Frameworks/Python.framework/Versions/3.9/lib/python3.9/site-packages)\u001b[0m\u001b[33m\n",
      "\u001b[0m\u001b[33mWARNING: Ignoring invalid distribution - (/Library/Frameworks/Python.framework/Versions/3.9/lib/python3.9/site-packages)\u001b[0m\u001b[33m\n",
      "\u001b[0mRequirement already satisfied: bs4 in /Library/Frameworks/Python.framework/Versions/3.9/lib/python3.9/site-packages (0.0.1)\n",
      "Requirement already satisfied: beautifulsoup4 in /Library/Frameworks/Python.framework/Versions/3.9/lib/python3.9/site-packages (from bs4) (4.11.1)\n",
      "Requirement already satisfied: soupsieve>1.2 in /Library/Frameworks/Python.framework/Versions/3.9/lib/python3.9/site-packages (from beautifulsoup4->bs4) (2.3.2.post1)\n",
      "\u001b[33mWARNING: Ignoring invalid distribution -sgiref (/Library/Frameworks/Python.framework/Versions/3.9/lib/python3.9/site-packages)\u001b[0m\u001b[33m\n",
      "\u001b[0m\u001b[33mWARNING: Ignoring invalid distribution - (/Library/Frameworks/Python.framework/Versions/3.9/lib/python3.9/site-packages)\u001b[0m\u001b[33m\n",
      "\u001b[0m\u001b[33mWARNING: Ignoring invalid distribution -sgiref (/Library/Frameworks/Python.framework/Versions/3.9/lib/python3.9/site-packages)\u001b[0m\u001b[33m\n",
      "\u001b[0m\u001b[33mWARNING: Ignoring invalid distribution - (/Library/Frameworks/Python.framework/Versions/3.9/lib/python3.9/site-packages)\u001b[0m\u001b[33m\n",
      "\u001b[0m\u001b[33mWARNING: Ignoring invalid distribution -sgiref (/Library/Frameworks/Python.framework/Versions/3.9/lib/python3.9/site-packages)\u001b[0m\u001b[33m\n",
      "\u001b[0m\u001b[33mWARNING: Ignoring invalid distribution - (/Library/Frameworks/Python.framework/Versions/3.9/lib/python3.9/site-packages)\u001b[0m\u001b[33m\n",
      "\u001b[0m\u001b[33mWARNING: Ignoring invalid distribution -sgiref (/Library/Frameworks/Python.framework/Versions/3.9/lib/python3.9/site-packages)\u001b[0m\u001b[33m\n",
      "\u001b[0m\u001b[33mWARNING: Ignoring invalid distribution - (/Library/Frameworks/Python.framework/Versions/3.9/lib/python3.9/site-packages)\u001b[0m\u001b[33m\n",
      "\u001b[0m"
     ]
    }
   ],
   "source": [
    "!pip install nltk\n",
    "!pip install hazm\n",
    "!pip install future\n",
    "!pip install bs4"
   ]
  },
  {
   "cell_type": "code",
   "execution_count": 2,
   "id": "441950c7",
   "metadata": {},
   "outputs": [],
   "source": [
    "from __future__ import unicode_literals\n",
    "from hazm import *\n",
    "from bs4 import BeautifulSoup\n",
    "import sys\n",
    "import codecs\n",
    "import tqdm\n",
    "import re\n",
    "import codecs\n",
    "import numpy as np\n",
    "from __future__ import unicode_literals\n",
    "import random\n",
    "import os, os.path"
   ]
  },
  {
   "cell_type": "markdown",
   "id": "2197e1f0",
   "metadata": {},
   "source": [
    "Get number of files"
   ]
  },
  {
   "cell_type": "code",
   "execution_count": 3,
   "id": "bb56823e",
   "metadata": {},
   "outputs": [
    {
     "data": {
      "text/plain": [
       "230"
      ]
     },
     "execution_count": 3,
     "metadata": {},
     "output_type": "execute_result"
    }
   ],
   "source": [
    "boostanPath = \"./Boostan\"\n",
    "golestanPath = \"./Golestan\"\n",
    "NumOfBoostanFiles = len([name for name in os.listdir(boostanPath)])\n",
    "NumOfGolestanFiles = len([name for name in os.listdir(golestanPath)])\n",
    "NumOfBoostanFiles"
   ]
  },
  {
   "cell_type": "markdown",
   "id": "c2a6d016",
   "metadata": {},
   "source": [
    "<html> \n",
    "    <head>\n",
    "        <link rel=\"preconnect\" href=\"//fdn.fontcdn.ir\">\n",
    "        <link rel=\"preconnect\" href=\"//v1.fontapi.ir\">\n",
    "        <link href=\"https://v1.fontapi.ir/css/Vazir\" rel=\"stylesheet\">\n",
    "    </head>\n",
    "    <body>\n",
    "     <h3 dir=\"rtl\" style=\"font-family: 'Vazir', sans-serif; line-height: 1.6;\">\n",
    "        نام فایل های بوستان سعدی را در یک آرایه ذخیره میکنیم تا بعدا از آن استفاده کنیم.\n",
    "\n",
    "</html> "
   ]
  },
  {
   "cell_type": "markdown",
   "id": "d488926c",
   "metadata": {},
   "source": [
    "<html> \n",
    "    <head>\n",
    "        <link rel=\"preconnect\" href=\"//fdn.fontcdn.ir\">\n",
    "        <link rel=\"preconnect\" href=\"//v1.fontapi.ir\">\n",
    "        <link href=\"https://v1.fontapi.ir/css/Vazir\" rel=\"stylesheet\">\n",
    "    </head>\n",
    "    <body>\n",
    "     <h3 dir=\"rtl\" style=\"font-family: 'Vazir', sans-serif; line-height: 1.6;\">\n",
    "        فایل های بوستان\n",
    "</html> "
   ]
  },
  {
   "cell_type": "code",
   "execution_count": 5,
   "id": "4005f182",
   "metadata": {},
   "outputs": [
    {
     "name": "stdout",
     "output_type": "stream",
     "text": [
      "/Users/sinaelahimanesh/Desktop/HW4\n",
      "230\n",
      "/Users/sinaelahimanesh/Desktop/HW4\n"
     ]
    },
    {
     "data": {
      "text/plain": [
       "['bab1sh17.txt',\n",
       " 'bab3sh1.txt',\n",
       " 'bab4sh8.txt',\n",
       " 'bab8sh14.txt',\n",
       " 'bab8sh8.txt',\n",
       " 'bab1sh4.txt',\n",
       " 'bab9sh11.txt',\n",
       " 'bab4sh26.txt',\n",
       " 'bab9sh10.txt',\n",
       " 'bab4sh27.txt']"
      ]
     },
     "execution_count": 5,
     "metadata": {},
     "output_type": "execute_result"
    }
   ],
   "source": [
    "print(os.getcwd()) \n",
    "boostan_folder_path = \"./Boostan\"\n",
    "\n",
    "boostan_file_name = []\n",
    "golestan_file_name = []\n",
    "\n",
    "os.chdir(boostan_folder_path)\n",
    "print(len(os.listdir()))\n",
    "for filename in os.listdir():\n",
    "    if os.path.isfile(filename):\n",
    "        boostan_file_name.append(filename)\n",
    "\n",
    "os.chdir(\"..\")\n",
    "print(os.getcwd()) \n",
    "boostan_file_name[0:10]"
   ]
  },
  {
   "cell_type": "markdown",
   "id": "1ee4a4d1",
   "metadata": {},
   "source": [
    "make array for boostan"
   ]
  },
  {
   "cell_type": "code",
   "execution_count": 6,
   "id": "97cbbade",
   "metadata": {},
   "outputs": [
    {
     "data": {
      "text/plain": [
       "['مگو جاهی از سلطنت بیش نیست',\n",
       " 'که ایمن\\u200cتر از ملک درویش نیست',\n",
       " 'سبکبار مردم سبک\\u200cتر روند',\n",
       " 'حق این است و صاحبدلان بشنوند',\n",
       " 'تهیدست تشویش نانی خورد',\n",
       " 'جهانبان به قدر جهانی خورد',\n",
       " 'گدا را چو حاصل شود نان شام',\n",
       " 'چنان خوش بخسبد که سلطان شام',\n",
       " 'غم و شادمانی به سر می\\u200cرود',\n",
       " 'به مرگ این دو از سر به در می\\u200cرود']"
      ]
     },
     "execution_count": 6,
     "metadata": {},
     "output_type": "execute_result"
    }
   ],
   "source": [
    "boostan = ''\n",
    "\n",
    "for file in boostan_file_name:\n",
    "    fi = open(\"./Boostan/\"+file, \"r\", encoding=\"utf-8\")\n",
    "    text = fi.read()\n",
    "    boostan += text\n",
    "    boostan += \"\\n\"\n",
    "\n",
    "boostan_poems = boostan.split(\"\\n\")\n",
    "boostan_poems[0:10]"
   ]
  },
  {
   "cell_type": "markdown",
   "id": "91cc1ddb",
   "metadata": {},
   "source": [
    "# start preprocessing Boostan"
   ]
  },
  {
   "cell_type": "markdown",
   "id": "f1027364",
   "metadata": {},
   "source": [
    "normalize boostan"
   ]
  },
  {
   "cell_type": "code",
   "execution_count": 7,
   "id": "de7b87d5",
   "metadata": {
    "scrolled": true
   },
   "outputs": [
    {
     "data": {
      "text/plain": [
       "['مگو جاهی از سلطنت بیش نیست',\n",
       " 'که ایمن\\u200cتر از ملک درویش نیست',\n",
       " 'سبکبار مردم سبک\\u200cتر روند',\n",
       " 'حق این است و صاحبدلان بشنوند',\n",
       " 'تهیدست تشویش نانی خورد',\n",
       " 'جهانبان به قدر جهانی خورد',\n",
       " 'گدا را چو حاصل شود نان شام',\n",
       " 'چنان خوش بخسبد که سلطان شام',\n",
       " 'غم و شادمانی به سر می\\u200cرود',\n",
       " 'به مرگ این دو از سر به در می\\u200cرود']"
      ]
     },
     "execution_count": 7,
     "metadata": {},
     "output_type": "execute_result"
    }
   ],
   "source": [
    "normalizer = Normalizer()\n",
    "normalized_boostan_poems = []\n",
    "for p in boostan_poems:\n",
    "    normalized_boostan_poems.append(normalizer.normalize(p))\n",
    "normalized_boostan_poems[0:10]"
   ]
  },
  {
   "cell_type": "markdown",
   "id": "aed9a04d",
   "metadata": {},
   "source": [
    "lemmatize and remove stopwords boostan"
   ]
  },
  {
   "cell_type": "code",
   "execution_count": 8,
   "id": "2f9bea3d",
   "metadata": {
    "scrolled": true
   },
   "outputs": [
    {
     "name": "stdout",
     "output_type": "stream",
     "text": [
      "['مگو جاه سلطنت', 'ایمن ملک درویش', 'سبکبار مردم سبک', 'حق صاحبدلان شنید#شنو', 'تهیدست تشویش نان خورد#خور', 'جهانبان قدر جهانی خورد#خور', 'گدا چو حاصل نان شام', 'چنان خوش بخسبد سلطان شام', 'غم شادمان سر', 'مرگ سر']\n",
      "[['مگو', 'جاه', 'سلطنت'], ['ایمن', 'ملک', 'درویش'], ['سبکبار', 'مردم', 'سبک'], ['حق', 'صاحبدلان', 'شنید#شنو'], ['تهیدست', 'تشویش', 'نان', 'خورد#خور'], ['جهانبان', 'قدر', 'جهانی', 'خورد#خور'], ['گدا', 'چو', 'حاصل', 'نان', 'شام'], ['چنان', 'خوش', 'بخسبد', 'سلطان', 'شام'], ['غم', 'شادمان', 'سر'], ['مرگ', 'سر']]\n"
     ]
    }
   ],
   "source": [
    "lemmatizer = Lemmatizer()\n",
    "lemmatize_boostan_poems = []\n",
    "all_cleaned_tokens = []\n",
    "stopwords = [normalizer.normalize(x.strip()) for x in stopwords_list()]+[\"-\", \"/\", \"ز\", '\\ufeff', \"]\", \"[\", \"?\", \"؟\"]\n",
    "\n",
    "mesra_boostan = []\n",
    "mesra_boostan_tokenized = []\n",
    "\n",
    "for p in normalized_boostan_poems:\n",
    "    all_tokens =  word_tokenize(p)\n",
    "    all_tokens_nonstop = [t for t in (all_tokens) if t not in stopwords]\n",
    "    all_tokens_nonstop = [t for t in (all_tokens_nonstop) if len(t)>1]\n",
    "\n",
    "    all_tokens_lemm = []\n",
    "    for i in all_tokens_nonstop:\n",
    "        all_tokens_lemm.append(lemmatizer.lemmatize(i))\n",
    "    \n",
    "    mesra_boostan.append(' '.join(all_tokens_lemm))\n",
    "    # print(all_tokens_nonstop[0])\n",
    "    mesra_boostan_tokenized.append(all_tokens_lemm)\n",
    "\n",
    "print(mesra_boostan[0:10])\n",
    "print(mesra_boostan_tokenized[0:10])"
   ]
  },
  {
   "cell_type": "markdown",
   "id": "5aa909d3",
   "metadata": {},
   "source": [
    "# Read Boostan with titles"
   ]
  },
  {
   "cell_type": "markdown",
   "id": "c1331ab1",
   "metadata": {},
   "source": [
    "<html> \n",
    "    <head>\n",
    "        <link rel=\"preconnect\" href=\"//fdn.fontcdn.ir\">\n",
    "        <link rel=\"preconnect\" href=\"//v1.fontapi.ir\">\n",
    "        <link href=\"https://v1.fontapi.ir/css/Vazir\" rel=\"stylesheet\">\n",
    "    </head>\n",
    "    <body>\n",
    "     <h3 dir=\"rtl\" style=\"font-family: 'Vazir', sans-serif; line-height: 1.6;\">\n",
    "    ابتدا باید پکیج های مورد نیاز را نصب کنیم.\n",
    "</html>    "
   ]
  },
  {
   "cell_type": "code",
   "execution_count": 9,
   "id": "bef79d83",
   "metadata": {},
   "outputs": [
    {
     "name": "stdout",
     "output_type": "stream",
     "text": [
      "\u001b[33mWARNING: Ignoring invalid distribution -sgiref (/Library/Frameworks/Python.framework/Versions/3.9/lib/python3.9/site-packages)\u001b[0m\u001b[33m\n",
      "\u001b[0m\u001b[33mWARNING: Ignoring invalid distribution - (/Library/Frameworks/Python.framework/Versions/3.9/lib/python3.9/site-packages)\u001b[0m\u001b[33m\n",
      "\u001b[0m\u001b[33mWARNING: Ignoring invalid distribution -sgiref (/Library/Frameworks/Python.framework/Versions/3.9/lib/python3.9/site-packages)\u001b[0m\u001b[33m\n",
      "\u001b[0m\u001b[33mWARNING: Ignoring invalid distribution - (/Library/Frameworks/Python.framework/Versions/3.9/lib/python3.9/site-packages)\u001b[0m\u001b[33m\n",
      "\u001b[0mRequirement already satisfied: bs4 in /Library/Frameworks/Python.framework/Versions/3.9/lib/python3.9/site-packages (0.0.1)\n",
      "Requirement already satisfied: beautifulsoup4 in /Library/Frameworks/Python.framework/Versions/3.9/lib/python3.9/site-packages (from bs4) (4.11.1)\n",
      "Requirement already satisfied: soupsieve>1.2 in /Library/Frameworks/Python.framework/Versions/3.9/lib/python3.9/site-packages (from beautifulsoup4->bs4) (2.3.2.post1)\n",
      "\u001b[33mWARNING: Ignoring invalid distribution -sgiref (/Library/Frameworks/Python.framework/Versions/3.9/lib/python3.9/site-packages)\u001b[0m\u001b[33m\n",
      "\u001b[0m\u001b[33mWARNING: Ignoring invalid distribution - (/Library/Frameworks/Python.framework/Versions/3.9/lib/python3.9/site-packages)\u001b[0m\u001b[33m\n",
      "\u001b[0m\u001b[33mWARNING: Ignoring invalid distribution -sgiref (/Library/Frameworks/Python.framework/Versions/3.9/lib/python3.9/site-packages)\u001b[0m\u001b[33m\n",
      "\u001b[0m\u001b[33mWARNING: Ignoring invalid distribution - (/Library/Frameworks/Python.framework/Versions/3.9/lib/python3.9/site-packages)\u001b[0m\u001b[33m\n",
      "\u001b[0m\u001b[33mWARNING: Ignoring invalid distribution -sgiref (/Library/Frameworks/Python.framework/Versions/3.9/lib/python3.9/site-packages)\u001b[0m\u001b[33m\n",
      "\u001b[0m\u001b[33mWARNING: Ignoring invalid distribution - (/Library/Frameworks/Python.framework/Versions/3.9/lib/python3.9/site-packages)\u001b[0m\u001b[33m\n",
      "\u001b[0m\u001b[33mWARNING: Ignoring invalid distribution -sgiref (/Library/Frameworks/Python.framework/Versions/3.9/lib/python3.9/site-packages)\u001b[0m\u001b[33m\n",
      "\u001b[0m\u001b[33mWARNING: Ignoring invalid distribution - (/Library/Frameworks/Python.framework/Versions/3.9/lib/python3.9/site-packages)\u001b[0m\u001b[33m\n",
      "\u001b[0m\u001b[33mWARNING: Ignoring invalid distribution -sgiref (/Library/Frameworks/Python.framework/Versions/3.9/lib/python3.9/site-packages)\u001b[0m\u001b[33m\n",
      "\u001b[0m\u001b[33mWARNING: Ignoring invalid distribution - (/Library/Frameworks/Python.framework/Versions/3.9/lib/python3.9/site-packages)\u001b[0m\u001b[33m\n",
      "\u001b[0m\u001b[33mWARNING: Ignoring invalid distribution -sgiref (/Library/Frameworks/Python.framework/Versions/3.9/lib/python3.9/site-packages)\u001b[0m\u001b[33m\n",
      "\u001b[0m\u001b[33mWARNING: Ignoring invalid distribution - (/Library/Frameworks/Python.framework/Versions/3.9/lib/python3.9/site-packages)\u001b[0m\u001b[33m\n",
      "\u001b[0m\u001b[31mERROR: Could not find a version that satisfies the requirement pands (from versions: none)\u001b[0m\u001b[31m\n",
      "\u001b[0m\u001b[31mERROR: No matching distribution found for pands\u001b[0m\u001b[31m\n",
      "\u001b[0m\u001b[33mWARNING: Ignoring invalid distribution -sgiref (/Library/Frameworks/Python.framework/Versions/3.9/lib/python3.9/site-packages)\u001b[0m\u001b[33m\n",
      "\u001b[0m\u001b[33mWARNING: Ignoring invalid distribution - (/Library/Frameworks/Python.framework/Versions/3.9/lib/python3.9/site-packages)\u001b[0m\u001b[33m\n",
      "\u001b[0m\u001b[33mWARNING: Ignoring invalid distribution -sgiref (/Library/Frameworks/Python.framework/Versions/3.9/lib/python3.9/site-packages)\u001b[0m\u001b[33m\n",
      "\u001b[0m\u001b[33mWARNING: Ignoring invalid distribution - (/Library/Frameworks/Python.framework/Versions/3.9/lib/python3.9/site-packages)\u001b[0m\u001b[33m\n",
      "\u001b[0m\u001b[33mWARNING: Ignoring invalid distribution -sgiref (/Library/Frameworks/Python.framework/Versions/3.9/lib/python3.9/site-packages)\u001b[0m\u001b[33m\n",
      "\u001b[0m\u001b[33mWARNING: Ignoring invalid distribution - (/Library/Frameworks/Python.framework/Versions/3.9/lib/python3.9/site-packages)\u001b[0m\u001b[33m\n",
      "\u001b[0m"
     ]
    }
   ],
   "source": [
    "!pip install bs4\n",
    "!pip install pands"
   ]
  },
  {
   "cell_type": "code",
   "execution_count": 10,
   "id": "737b59a3",
   "metadata": {},
   "outputs": [],
   "source": [
    "from bs4 import BeautifulSoup\n",
    "import requests\n",
    "import pandas as pd\n",
    "import re"
   ]
  },
  {
   "cell_type": "code",
   "execution_count": 11,
   "id": "7883a03c",
   "metadata": {},
   "outputs": [],
   "source": [
    "boostan_url = \"https://ganjoor.net/saadi/boostan\""
   ]
  },
  {
   "cell_type": "markdown",
   "id": "30821974",
   "metadata": {},
   "source": [
    "request to boostan"
   ]
  },
  {
   "cell_type": "code",
   "execution_count": 12,
   "id": "60891c8c",
   "metadata": {},
   "outputs": [
    {
     "data": {
      "text/plain": [
       "<Response [200]>"
      ]
     },
     "execution_count": 12,
     "metadata": {},
     "output_type": "execute_result"
    }
   ],
   "source": [
    "boostan_response = requests.get(boostan_url)\n",
    "boostan_response"
   ]
  },
  {
   "cell_type": "markdown",
   "id": "c5dcac13",
   "metadata": {},
   "source": [
    "extract boostan links"
   ]
  },
  {
   "cell_type": "code",
   "execution_count": 13,
   "id": "e1097432",
   "metadata": {},
   "outputs": [
    {
     "name": "stdout",
     "output_type": "stream",
     "text": [
      "[<a href=\"/saadi/boostan/niyayesh\">در نیایش خداوند</a>, <a href=\"/saadi/boostan/bab1\">باب اول در عدل و تدبیر و رای</a>, <a href=\"/saadi/boostan/bab2\">باب دوم در احسان</a>, <a href=\"/saadi/boostan/bab3\">باب سوم در عشق و مستی و شور</a>, <a href=\"/saadi/boostan/bab4\">باب چهارم در تواضع</a>, <a href=\"/saadi/boostan/bab5\">باب پنجم در رضا</a>, <a href=\"/saadi/boostan/bab6\">باب ششم در قناعت</a>, <a href=\"/saadi/boostan/bab7\">باب هفتم در عالم تربیت</a>, <a href=\"/saadi/boostan/bab8\">باب هشتم در شکر بر عافیت</a>, <a href=\"/saadi/boostan/bab9\">باب نهم در توبه و راه صواب</a>, <a href=\"/saadi/boostan/bab10\">باب دهم در مناجات و ختم کتاب</a>]\n"
     ]
    }
   ],
   "source": [
    "boostan_page = BeautifulSoup(boostan_response.content, \"html.parser\")\n",
    "boostan_links = boostan_page.find_all('a', {'href': re.compile(r'/saadi/boostan/')})\n",
    "\n",
    "print(boostan_links)"
   ]
  },
  {
   "cell_type": "markdown",
   "id": "747da075",
   "metadata": {},
   "source": [
    "clean the arrays and just exist link"
   ]
  },
  {
   "cell_type": "code",
   "execution_count": 14,
   "id": "e52ccccb",
   "metadata": {},
   "outputs": [],
   "source": [
    "pre_url = \"https://ganjoor.net/\""
   ]
  },
  {
   "cell_type": "markdown",
   "id": "70f7a1b5",
   "metadata": {},
   "source": [
    "# start Boostan crawling"
   ]
  },
  {
   "cell_type": "code",
   "execution_count": 15,
   "id": "402ac3da",
   "metadata": {},
   "outputs": [
    {
     "data": {
      "text/plain": [
       "['https://ganjoor.net//saadi/boostan/niyayesh',\n",
       " 'https://ganjoor.net//saadi/boostan/bab1',\n",
       " 'https://ganjoor.net//saadi/boostan/bab2',\n",
       " 'https://ganjoor.net//saadi/boostan/bab3',\n",
       " 'https://ganjoor.net//saadi/boostan/bab4',\n",
       " 'https://ganjoor.net//saadi/boostan/bab5',\n",
       " 'https://ganjoor.net//saadi/boostan/bab6',\n",
       " 'https://ganjoor.net//saadi/boostan/bab7',\n",
       " 'https://ganjoor.net//saadi/boostan/bab8',\n",
       " 'https://ganjoor.net//saadi/boostan/bab9',\n",
       " 'https://ganjoor.net//saadi/boostan/bab10']"
      ]
     },
     "execution_count": 15,
     "metadata": {},
     "output_type": "execute_result"
    }
   ],
   "source": [
    "boostan_list_urls = []\n",
    "\n",
    "for link in boostan_links:\n",
    "    link = pre_url + link['href']\n",
    "    boostan_list_urls.append(link)\n",
    "\n",
    "boostan_list_urls"
   ]
  },
  {
   "cell_type": "code",
   "execution_count": 16,
   "id": "38aa8084",
   "metadata": {},
   "outputs": [
    {
     "data": {
      "text/plain": [
       "['niyayesh',\n",
       " 'bab1',\n",
       " 'bab2',\n",
       " 'bab3',\n",
       " 'bab4',\n",
       " 'bab5',\n",
       " 'bab6',\n",
       " 'bab7',\n",
       " 'bab8',\n",
       " 'bab9',\n",
       " 'bab10']"
      ]
     },
     "execution_count": 16,
     "metadata": {},
     "output_type": "execute_result"
    }
   ],
   "source": [
    "boostan_sec_names = []\n",
    "y = len(boostan_list_urls)\n",
    "\n",
    "\n",
    "\n",
    "for x in range(y):\n",
    "    boostan_sec_names.append(boostan_list_urls[x].split(\"/\")[6])\n",
    "\n",
    "boostan_sec_names"
   ]
  },
  {
   "cell_type": "code",
   "execution_count": 17,
   "id": "cf0fd075",
   "metadata": {},
   "outputs": [
    {
     "data": {
      "text/plain": [
       "[<a href=\"/saadi/boostan/bab1/sh1\">بخش ۱ - سر آغاز</a>,\n",
       " <a href=\"/saadi/boostan/bab1/sh2\">بخش ۲ - حکایت در تدبیر و تأخیر در سیاست</a>,\n",
       " <a href=\"/saadi/boostan/bab1/sh3\">بخش ۳ - گفتار اندر بخشایش بر ضعیفان</a>,\n",
       " <a href=\"/saadi/boostan/bab1/sh4\">بخش ۴ - در معنی شفقت بر حال رعیت</a>,\n",
       " <a href=\"/saadi/boostan/bab1/sh5\">بخش ۵ - حکایت در شناختن دوست و دشمن را</a>]"
      ]
     },
     "execution_count": 17,
     "metadata": {},
     "output_type": "execute_result"
    }
   ],
   "source": [
    "url = boostan_list_urls[1]\n",
    "res = requests.get(url)\n",
    "rgx = '/saadi/boostan/' + boostan_sec_names[1] + '/sh'\n",
    "content = BeautifulSoup(res.content, \"html.parser\").find('article').find_all('a', {'href': re.compile(rgx)})\n",
    "content[0:5]"
   ]
  },
  {
   "cell_type": "code",
   "execution_count": 18,
   "id": "c7e8c936",
   "metadata": {},
   "outputs": [
    {
     "data": {
      "text/plain": [
       "['بخش ۱ - سر آغاز',\n",
       " 'بخش ۲ - حکایت در تدبیر و تأخیر در سیاست',\n",
       " 'بخش ۳ - گفتار اندر بخشایش بر ضعیفان',\n",
       " 'بخش ۴ - در معنی شفقت بر حال رعیت',\n",
       " 'بخش ۵ - حکایت در شناختن دوست و دشمن را',\n",
       " 'بخش ۶ - گفتار اندر نظر در حق رعیت مظلوم',\n",
       " 'بخش ۷ - هم در این معنی',\n",
       " 'بخش ۸ - حکایت در معنی شفقت',\n",
       " 'بخش ۹ - حکایت اتابک تکله',\n",
       " 'بخش ۱۰ - حکایت ملک روم با دانشمند',\n",
       " 'بخش ۱۱ - حکایت مرزبان ستمگار با زاهد',\n",
       " 'بخش ۱۲ - گفتار اندر نگه داشتن خاطر درویشان',\n",
       " 'بخش ۱۳ - حکایت در معنی رحمت با ناتوانان در حال توانایی',\n",
       " 'بخش ۱۴ - حکایت',\n",
       " 'بخش ۱۵ - اندر معنی عدل و ظلم و ثمرهٔ آن',\n",
       " 'بخش ۱۶ - حکایت برادران ظالم و عادل و عاقبت ایشان',\n",
       " 'بخش ۱۷ - صفت جمعیت اوقات درویشان راضی',\n",
       " 'بخش ۱۸ - حکایت عابد و استخوان پوسیده',\n",
       " 'بخش ۱۹ - گفتار اندر نکوکاری و بدکاری و عاقبت آنها',\n",
       " 'بخش ۲۰ - حکایت شحنه مردم آزار',\n",
       " 'بخش ۲۱ - حکایت حجاج یوسف',\n",
       " 'بخش ۲۲ - در نواخت رعیت و رحمت بر افتادگان',\n",
       " 'بخش ۲۳ - حکایت در این معنی',\n",
       " 'بخش ۲۴ - گفتار اندر بی\\u200cوفائی دنیا',\n",
       " 'بخش ۲۵ - در تغیر روزگار و انتقال مملکت',\n",
       " 'بخش ۲۶ - حکایت قزل ارسلان با دانشمند',\n",
       " 'بخش ۲۷ - حکایت',\n",
       " 'بخش ۲۸ - حکایت پادشاه غور با روستایی',\n",
       " 'بخش ۲۹ - حکایت مأمون با کنیزک',\n",
       " 'بخش ۳۰ - حکایت درویش صادق و پادشاه بیدادگر',\n",
       " 'بخش ۳۱ - حکایت زورآزمای تنگدست',\n",
       " 'بخش ۳۲ - حکایت در معنی خاموشی از نصیحت کسی که پند نپذیرد',\n",
       " 'بخش ۳۳ - گفتار اندر رای و تدبیر ملک و لشکرکشی',\n",
       " 'بخش ۳۴ - گفتار اندر نواخت لشکریان در حالت امن',\n",
       " 'بخش ۳۵ - گفتار اندر تقویت مردان کار آزموده',\n",
       " 'بخش ۳۶ - گفتار اندر دلداری هنرمندان',\n",
       " 'بخش ۳۷ - گفتار اندر حذر کردن از دشمنان',\n",
       " 'بخش ۳۸ - گفتار اندر دفع دشمن به رای و تدبیر',\n",
       " 'بخش ۳۹ - گفتار اندر ملاطفت با دشمن از روی عاقبت اندیشی',\n",
       " 'بخش ۴۰ - گفتار اندر حذر از دشمنی که در طاعت آید',\n",
       " 'بخش ۴۱ - گفتار اندر پوشیدن راز خویش']"
      ]
     },
     "execution_count": 18,
     "metadata": {},
     "output_type": "execute_result"
    }
   ],
   "source": [
    "c = str(content[0])\n",
    "re.sub('<.*?>', '', c)\n",
    "poem_names = []\n",
    "\n",
    "for i in content:\n",
    "    c = str(i)\n",
    "    poem_names.append(re.sub('<.*?>', '', c))\n",
    "\n",
    "poem_names"
   ]
  },
  {
   "cell_type": "code",
   "execution_count": 20,
   "id": "19e53e92",
   "metadata": {},
   "outputs": [],
   "source": [
    "poem_names = []\n",
    "ind = 0\n",
    "for url in boostan_list_urls:\n",
    "    res = requests.get(url)\n",
    "    rgx = '/saadi/boostan/' + boostan_sec_names[ind] + '/sh'\n",
    "    ind += 1\n",
    "    content = BeautifulSoup(res.content, \"html.parser\").find('article').find_all('a', {'href': re.compile(rgx)})\n",
    "    contentToStr = str(content[0])\n",
    "    re.sub('<.*?>', '', contentToStr)\n",
    "    for i in content:\n",
    "        contentToStr = str(i)\n",
    "        poem_names.append(re.sub('<.*?>', '', contentToStr))"
   ]
  },
  {
   "cell_type": "markdown",
   "id": "1fc3e6c5",
   "metadata": {},
   "source": [
    "Names of all poems saved in poem_names"
   ]
  },
  {
   "cell_type": "code",
   "execution_count": 21,
   "id": "ef7ee23a",
   "metadata": {},
   "outputs": [
    {
     "data": {
      "text/plain": [
       "['بخش ۱ - سرآغاز',\n",
       " 'بخش ۲ - فی نعت سید المرسلین علیه الصلوة و السلام',\n",
       " 'بخش ۳ - سبب نظم کتاب',\n",
       " 'بخش ۴ - مدح ابوبکر بن سعد بن زنگی',\n",
       " 'بخش ۵ - مدح محمد بن سعد بن ابوبکر',\n",
       " 'بخش ۶ - حکایت',\n",
       " 'بخش ۱ - سر آغاز',\n",
       " 'بخش ۲ - حکایت در تدبیر و تأخیر در سیاست',\n",
       " 'بخش ۳ - گفتار اندر بخشایش بر ضعیفان',\n",
       " 'بخش ۴ - در معنی شفقت بر حال رعیت']"
      ]
     },
     "execution_count": 21,
     "metadata": {},
     "output_type": "execute_result"
    }
   ],
   "source": [
    "poem_names[0:10]"
   ]
  },
  {
   "cell_type": "markdown",
   "id": "aaf8fa36",
   "metadata": {},
   "source": [
    "# Save each poem to one element in array"
   ]
  },
  {
   "cell_type": "code",
   "execution_count": 22,
   "id": "b3be08fb",
   "metadata": {},
   "outputs": [],
   "source": [
    "import os"
   ]
  },
  {
   "cell_type": "code",
   "execution_count": 23,
   "id": "5b85e3ac",
   "metadata": {},
   "outputs": [],
   "source": [
    "path = './Boostan/'\n",
    "all_path = []\n",
    "for filename in os.listdir(path):\n",
    "    all_files = os.path.join(path, filename)\n",
    "    if os.path.isfile(all_files):\n",
    "        all_path.append(all_files)"
   ]
  },
  {
   "cell_type": "code",
   "execution_count": 24,
   "id": "25e66bdb",
   "metadata": {},
   "outputs": [
    {
     "data": {
      "text/plain": [
       "['./Boostan/bab1sh17.txt',\n",
       " './Boostan/bab3sh1.txt',\n",
       " './Boostan/bab4sh8.txt',\n",
       " './Boostan/bab8sh14.txt',\n",
       " './Boostan/bab8sh8.txt',\n",
       " './Boostan/bab1sh4.txt',\n",
       " './Boostan/bab9sh11.txt',\n",
       " './Boostan/bab4sh26.txt',\n",
       " './Boostan/bab9sh10.txt',\n",
       " './Boostan/bab4sh27.txt',\n",
       " './Boostan/bab1sh5.txt',\n",
       " './Boostan/bab8sh9.txt',\n",
       " './Boostan/bab8sh15.txt',\n",
       " './Boostan/bab10sh1.txt',\n",
       " './Boostan/bab4sh9.txt',\n",
       " './Boostan/bab1sh16.txt',\n",
       " './Boostan/bab1sh28.txt',\n",
       " './Boostan/bab1sh14.txt',\n",
       " './Boostan/bab3sh2.txt',\n",
       " './Boostan/bab10sh3.txt',\n",
       " './Boostan/bab1sh7.txt',\n",
       " './Boostan/bab4sh19.txt',\n",
       " './Boostan/bab4sh25.txt',\n",
       " './Boostan/bab9sh12.txt',\n",
       " './Boostan/bab4sh24.txt',\n",
       " './Boostan/bab9sh13.txt',\n",
       " './Boostan/bab4sh18.txt',\n",
       " './Boostan/bab1sh6.txt',\n",
       " './Boostan/bab10sh2.txt',\n",
       " './Boostan/bab3sh3.txt',\n",
       " './Boostan/bab1sh15.txt',\n",
       " './Boostan/bab1sh29.txt',\n",
       " './Boostan/bab1sh11.txt',\n",
       " './Boostan/bab1sh39.txt',\n",
       " './Boostan/bab3sh7.txt',\n",
       " './Boostan/bab8sh12.txt',\n",
       " './Boostan/bab1sh2.txt',\n",
       " './Boostan/bab9sh17.txt',\n",
       " './Boostan/bab4sh20.txt',\n",
       " './Boostan/bab9sh16.txt',\n",
       " './Boostan/bab4sh21.txt',\n",
       " './Boostan/bab1sh3.txt',\n",
       " './Boostan/bab8sh13.txt',\n",
       " './Boostan/bab3sh6.txt',\n",
       " './Boostan/bab1sh38.txt',\n",
       " './Boostan/bab1sh10.txt',\n",
       " './Boostan/bab1sh12.txt',\n",
       " './Boostan/bab3sh4.txt',\n",
       " './Boostan/bab8sh11.txt',\n",
       " './Boostan/bab1sh1.txt',\n",
       " './Boostan/bab6sh8.txt',\n",
       " './Boostan/bab4sh23.txt',\n",
       " './Boostan/bab9sh14.txt',\n",
       " './Boostan/bab4sh22.txt',\n",
       " './Boostan/bab9sh15.txt',\n",
       " './Boostan/bab6sh9.txt',\n",
       " './Boostan/bab10sh4.txt',\n",
       " './Boostan/bab8sh10.txt',\n",
       " './Boostan/bab3sh5.txt',\n",
       " './Boostan/bab1sh13.txt',\n",
       " './Boostan/bab7sh19.txt',\n",
       " './Boostan/bab9sh3.txt',\n",
       " './Boostan/bab7sh6.txt',\n",
       " './Boostan/bab7sh25.txt',\n",
       " './Boostan/niyayeshsh6.txt',\n",
       " './Boostan/bab3sh11.txt',\n",
       " './Boostan/bab2sh28.txt',\n",
       " './Boostan/bab5sh3.txt',\n",
       " './Boostan/bab2sh14.txt',\n",
       " './Boostan/bab2sh15.txt',\n",
       " './Boostan/bab5sh2.txt',\n",
       " './Boostan/bab2sh29.txt',\n",
       " './Boostan/bab3sh10.txt',\n",
       " './Boostan/bab7sh7.txt',\n",
       " './Boostan/bab7sh24.txt',\n",
       " './Boostan/bab9sh2.txt',\n",
       " './Boostan/bab7sh18.txt',\n",
       " './Boostan/bab7sh26.txt',\n",
       " './Boostan/bab7sh5.txt',\n",
       " './Boostan/niyayeshsh5.txt',\n",
       " './Boostan/bab3sh12.txt',\n",
       " './Boostan/bab2sh17.txt',\n",
       " './Boostan/bab2sh9.txt',\n",
       " './Boostan/bab5sh1.txt',\n",
       " './Boostan/bab2sh8.txt',\n",
       " './Boostan/bab2sh16.txt',\n",
       " './Boostan/bab3sh13.txt',\n",
       " './Boostan/niyayeshsh4.txt',\n",
       " './Boostan/bab7sh27.txt',\n",
       " './Boostan/bab7sh4.txt',\n",
       " './Boostan/bab9sh1.txt',\n",
       " './Boostan/bab7sh23.txt',\n",
       " './Boostan/bab9sh5.txt',\n",
       " './Boostan/bab3sh17.txt',\n",
       " './Boostan/bab2sh12.txt',\n",
       " './Boostan/bab5sh5.txt',\n",
       " './Boostan/bab5sh4.txt',\n",
       " './Boostan/bab2sh13.txt',\n",
       " './Boostan/bab3sh16.txt',\n",
       " './Boostan/niyayeshsh1.txt',\n",
       " './Boostan/bab9sh4.txt',\n",
       " './Boostan/bab7sh1.txt',\n",
       " './Boostan/bab7sh22.txt',\n",
       " './Boostan/bab7sh20.txt',\n",
       " './Boostan/bab7sh3.txt',\n",
       " './Boostan/bab9sh6.txt',\n",
       " './Boostan/niyayeshsh3.txt',\n",
       " './Boostan/bab3sh14.txt',\n",
       " './Boostan/bab5sh6.txt',\n",
       " './Boostan/bab2sh11.txt',\n",
       " './Boostan/bab2sh10.txt',\n",
       " './Boostan/bab5sh7.txt',\n",
       " './Boostan/bab3sh15.txt',\n",
       " './Boostan/niyayeshsh2.txt',\n",
       " './Boostan/bab9sh7.txt',\n",
       " './Boostan/bab7sh21.txt',\n",
       " './Boostan/bab7sh2.txt',\n",
       " './Boostan/bab1sh41.txt',\n",
       " './Boostan/bab7sh10.txt',\n",
       " './Boostan/bab6sh15.txt',\n",
       " './Boostan/bab3sh18.txt',\n",
       " './Boostan/bab3sh24.txt',\n",
       " './Boostan/bab2sh3.txt',\n",
       " './Boostan/bab2sh21.txt',\n",
       " './Boostan/bab2sh20.txt',\n",
       " './Boostan/bab2sh2.txt',\n",
       " './Boostan/bab3sh25.txt',\n",
       " './Boostan/bab3sh19.txt',\n",
       " './Boostan/bab6sh14.txt',\n",
       " './Boostan/bab7sh11.txt',\n",
       " './Boostan/bab1sh40.txt',\n",
       " './Boostan/bab7sh13.txt',\n",
       " './Boostan/bab9sh9.txt',\n",
       " './Boostan/bab5sh9.txt',\n",
       " './Boostan/bab2sh22.txt',\n",
       " './Boostan/bab2sh23.txt',\n",
       " './Boostan/bab2sh1.txt',\n",
       " './Boostan/bab5sh8.txt',\n",
       " './Boostan/bab9sh8.txt',\n",
       " './Boostan/bab7sh12.txt',\n",
       " './Boostan/bab7sh16.txt',\n",
       " './Boostan/bab7sh9.txt',\n",
       " './Boostan/bab6sh13.txt',\n",
       " './Boostan/bab3sh22.txt',\n",
       " './Boostan/bab2sh27.txt',\n",
       " './Boostan/bab2sh5.txt',\n",
       " './Boostan/bab2sh4.txt',\n",
       " './Boostan/bab2sh26.txt',\n",
       " './Boostan/bab3sh23.txt',\n",
       " './Boostan/bab6sh12.txt',\n",
       " './Boostan/bab7sh8.txt',\n",
       " './Boostan/bab7sh17.txt',\n",
       " './Boostan/bab7sh15.txt',\n",
       " './Boostan/bab7sh29.txt',\n",
       " './Boostan/bab6sh10.txt',\n",
       " './Boostan/bab3sh21.txt',\n",
       " './Boostan/bab2sh24.txt',\n",
       " './Boostan/bab2sh30.txt',\n",
       " './Boostan/bab2sh18.txt',\n",
       " './Boostan/bab2sh6.txt',\n",
       " './Boostan/bab2sh7.txt',\n",
       " './Boostan/bab2sh19.txt',\n",
       " './Boostan/bab2sh25.txt',\n",
       " './Boostan/bab3sh20.txt',\n",
       " './Boostan/bab6sh11.txt',\n",
       " './Boostan/bab7sh28.txt',\n",
       " './Boostan/bab7sh14.txt',\n",
       " './Boostan/bab1sh36.txt',\n",
       " './Boostan/bab1sh22.txt',\n",
       " './Boostan/bab4sh1.txt',\n",
       " './Boostan/bab3sh8.txt',\n",
       " './Boostan/bab6sh4.txt',\n",
       " './Boostan/bab8sh1.txt',\n",
       " './Boostan/bab9sh18.txt',\n",
       " './Boostan/bab4sh13.txt',\n",
       " './Boostan/bab4sh12.txt',\n",
       " './Boostan/bab9sh19.txt',\n",
       " './Boostan/bab6sh5.txt',\n",
       " './Boostan/bab3sh9.txt',\n",
       " './Boostan/bab1sh23.txt',\n",
       " './Boostan/bab1sh37.txt',\n",
       " './Boostan/bab1sh21.txt',\n",
       " './Boostan/bab1sh35.txt',\n",
       " './Boostan/bab4sh2.txt',\n",
       " './Boostan/bab5sh15.txt',\n",
       " './Boostan/bab6sh7.txt',\n",
       " './Boostan/bab8sh2.txt',\n",
       " './Boostan/bab4sh10.txt',\n",
       " './Boostan/bab4sh11.txt',\n",
       " './Boostan/bab8sh3.txt',\n",
       " './Boostan/bab6sh6.txt',\n",
       " './Boostan/bab5sh14.txt',\n",
       " './Boostan/bab4sh3.txt',\n",
       " './Boostan/bab1sh34.txt',\n",
       " './Boostan/bab1sh20.txt',\n",
       " './Boostan/bab1sh24.txt',\n",
       " './Boostan/bab1sh30.txt',\n",
       " './Boostan/bab1sh18.txt',\n",
       " './Boostan/bab4sh7.txt',\n",
       " './Boostan/bab5sh10.txt',\n",
       " './Boostan/bab8sh7.txt',\n",
       " './Boostan/bab6sh2.txt',\n",
       " './Boostan/bab4sh15.txt',\n",
       " './Boostan/bab9sh22.txt',\n",
       " './Boostan/bab4sh28.txt',\n",
       " './Boostan/bab4sh14.txt',\n",
       " './Boostan/bab6sh3.txt',\n",
       " './Boostan/bab8sh6.txt',\n",
       " './Boostan/bab5sh11.txt',\n",
       " './Boostan/bab4sh6.txt',\n",
       " './Boostan/bab1sh19.txt',\n",
       " './Boostan/bab1sh31.txt',\n",
       " './Boostan/bab1sh25.txt',\n",
       " './Boostan/bab1sh33.txt',\n",
       " './Boostan/bab1sh27.txt',\n",
       " './Boostan/bab4sh4.txt',\n",
       " './Boostan/bab5sh13.txt',\n",
       " './Boostan/bab8sh4.txt',\n",
       " './Boostan/bab6sh1.txt',\n",
       " './Boostan/bab1sh8.txt',\n",
       " './Boostan/bab9sh21.txt',\n",
       " './Boostan/bab4sh16.txt',\n",
       " './Boostan/bab9sh20.txt',\n",
       " './Boostan/bab4sh17.txt',\n",
       " './Boostan/bab1sh9.txt',\n",
       " './Boostan/bab8sh5.txt',\n",
       " './Boostan/bab5sh12.txt',\n",
       " './Boostan/bab4sh5.txt',\n",
       " './Boostan/bab1sh26.txt',\n",
       " './Boostan/bab1sh32.txt']"
      ]
     },
     "execution_count": 24,
     "metadata": {},
     "output_type": "execute_result"
    }
   ],
   "source": [
    "all_path"
   ]
  },
  {
   "cell_type": "code",
   "execution_count": 25,
   "id": "f0b72b2d",
   "metadata": {},
   "outputs": [
    {
     "name": "stdout",
     "output_type": "stream",
     "text": [
      "['./Boostan/bab1sh1.txt', './Boostan/bab1sh2.txt', './Boostan/bab1sh3.txt', './Boostan/bab1sh4.txt', './Boostan/bab1sh5.txt', './Boostan/bab1sh6.txt', './Boostan/bab1sh7.txt', './Boostan/bab1sh8.txt', './Boostan/bab1sh9.txt']\n"
     ]
    }
   ],
   "source": [
    "import re\n",
    "\n",
    "def atoi(text):\n",
    "    return int(text) if text.isdigit() else text\n",
    "\n",
    "def natural_keys(text):\n",
    "    return [atoi(c) for i, c in enumerate( re.split(r'(\\d+)', text)) if c.isdigit()]\n",
    "\n",
    "alist=[\"b10sh1\", \"b2sh1\",\n",
    "\"b1sh1\"]\n",
    "\n",
    "all_path.sort(key=natural_keys)\n",
    "print(all_path[1:10])"
   ]
  },
  {
   "cell_type": "code",
   "execution_count": 180,
   "id": "bd03cde0",
   "metadata": {},
   "outputs": [
    {
     "data": {
      "text/plain": [
       "['به نام خداوندِ جان\\u200cآفرین حکیمِ سخن\\u200cدرزبان\\u200cآفرین خداوند بخشندهٔ دستگیر کریم خطابخش پوزش\\u200cپذیر عزیزی که هر کز درش سر بتافت به هر در که شد هیچ عزت نیافت سر پادشاهان گردن\\u200cفراز به درگاه او بر زمین نیاز نه گردن\\u200cکشان را بگیرد به فور نه عذرآوران را براند به جور وگر خشم گیرد ز کردار زشت چو بازآمدی ماجرا درنوشت اگر با پدر جنگ جوید کسی پدر بی\\u200cگمان خشم گیرد بسی وگر خویش راضی نباشد ز خویش چو بیگانگانش براند ز پیش وگر بنده چابک نباشد به کار عزیزش ندارد خداوندگار وگر بر رفیقان نباشی شفیق به فرسنگ بگریزد از تو رفیق وگر ترک خدمت کند لشکری شود شاهِ لشکرکُش از وی بری ولیکن خداوند بالا و پست به عصیان در رزق بر کس نبست دو کونش یکی قطره از بحر علم گنه بیند و پرده پوشد به حلم ادیم زمین، سفرهٔ عام اوست بر این خوان یغما چه دشمن چه دوست اگر بر جفاپیشه بشتافتی که از دست قهرش امان یافتی؟ بری ذاتش از تهمت ضد و جنس غنی ملکش از طاعت جن و انس پرستار امرش همه چیز و کس بنی\\u200cآدم و مرغ و مور و مگس چنان پهن خوان کرم گسترد که سیمرغ در قاف قسمت خورد لطیف کرم\\u200cگستر کارساز که دارای خَلق است و دانای راز مر او را رسد کبریا و منی که ملکش قدیم است و ذاتش غنی یکی را به سر برنهد تاج بخت یکی را به خاک اندر آرد ز تخت کلاه سعادت یکی بر سرش گلیم شقاوت یکی در برش گلستان کند آتشی بر خلیل گروهی بر آتش برد ز آب نیل گر آن است، منشور احسان اوست ور این است، توقیع فرمان اوست پس پرده بیند عمل\\u200cهای بد هم او پرده پوشد به آلای خود به تهدید اگر برکشد تیغ حکم بمانند کروبیان صم و بکم وگر دردهد یک صلای کرم عزازیل گوید نصیبی برم به درگاه لطف و بزرگیش بر بزرگان نهاده بزرگی ز سر فروماندگان را به رحمت قریب تضرع\\u200cکنان را به دعوت مجیب بر احوال نابوده، علمش بصیر به اسرار ناگفته، لطفش خبیر به قدرت، نگهدار بالا و شیب خداوند دیوان روز حسیب نه مستغنی از طاعتش پشت کس نه بر حرف او جای انگشت کس قدیمی نکوکار نیکی\\u200cپسند به کلک قضا در رحم نقش\\u200cبند ز مشرق به مغرب مه و آفتاب روان کرد و بنهاد گیتی بر آب زمین از تبِ لرزه آمد ستوه فروکوفت بر دامنش میخ کوه دهد نطفه را صورتی چون پری که کرده\\u200cست بر آب صورتگری؟ نهد لعل و پیروزه در صلب سنگ گل و لعل در شاخ پیروزه\\u200cرنگ ز ابر افکند قطره\\u200cای سویِ یَم ز صلب افکند نطفه\\u200cای در شکم از آن قطره لولوی لالا کند وز این، صورتی سروبالا کند بر او علم یک ذره پوشیده نیست که پیدا و پنهان به نزدش یکی\\u200cست مهیاکن روزی مار و مور اگر چند بی\\u200cدست\\u200cوپایند و زور به امرش وجود از عدم نقش بست که داند جز او کردن از نیست، هست؟ دگر ره به کتم عدم در برد وز آنجا به صحرای محشر برد جهان متفق بر الهیتش فرومانده از کنه ماهیتش بشر ماورای جلالش نیافت بصر منتهای جمالش نیافت نه بر اوج ذاتش پرد مرغ وهم نه در ذیل وصفش رسد دست فهم در این ورطه کشتی فروشد هزار که پیدا نشد تخته\\u200cای بر کنار چه شب\\u200cها نشستم در این سِیر، گم که دهشت گرفت آستینم که قم محیط است علم مَلِک بر بسیط قیاس تو بر وی نگردد محیط نه ادراک در کنه ذاتش رسید نه فکرت به غور صفاتش رسید توان در بلاغت به سَحبان رسید نه در کنه بی\\u200cچون سُبحان رسید که خاصان در این ره فَرَس رانده\\u200cاند به لااحصیٖ از تک فرومانده\\u200cاند نه هر جای مرکب توان تاختن که جاها سپر باید انداختن وگر سالکی محرم راز گشت ببندند بر وی در بازگشت کسی را در این بزم ساغر دهند که داروی بیهوشی\\u200cاش دَردهند یکی باز را دیده بردوخته\\u200cست یکی دیده\\u200cها باز و پر سوخته\\u200cست کسی ره سوی گنج قارون نِبُرد وگر بُرد، ره باز بیرون نبرد بمردم در این موج دریای خون کز او کس نبرده\\u200cست کشتی برون اگر طالبی کاین زمین طی کنی نخست اسب بازآمدن پی کنی تأمل در آیینهٔ دل کنی صفایی به\\u200cتدریج حاصل کنی مگر بویی از عشق مستت کند طلبکار عهد الستت کند به پای طلب ره بدان جا بری وز آنجا به بال محبت پری بِدَرَّد یقین پرده\\u200cهای خیال نماند سراپرده الا جلال دگر مرکب عقل را پویه نیست عنانش بگیرد تحیر که بیست در این بحر جز مرد راعی نرفت گم آن شد که دنبال داعی نرفت کسانی کز این راه برگشته\\u200cاند برفتند بسیار و سرگشته\\u200cاند خلاف پیمبر کسی ره گزید که هرگز به منزل نخواهد رسید مپندار سعدی که راه صفا توان رفت جز بر پی مصطفی ',\n",
       " 'شنیدم که در وقت نزع روان به هرمز چنین گفت نوشیروان که خاطر نگهدار درویش باش نه در بند آسایش خویش باش نیاساید اندر دیار تو کس چو آسایش خویش جویی و بس نیاید به نزدیک دانا پسند شبان خفته و گرگ در گوسفند برو پاس درویش محتاج دار که شاه از رعیت بود تاجدار رعیت چو بیخند و سلطان درخت درخت، ای پسر، باشد از بیخ سخت مکن تا توانی دل خلق ریش وگر می\\u200cکنی می\\u200cکنی بیخ خویش اگر جاده\\u200cای بایدت مستقیم ره پارسایان امید است و بیم طبیعت شود مرد را بخردی به امید نیکی و بیم بدی گر این هر دو در پادشه یافتی در اقلیم و ملکش پنه یافتی که بخشایش آرد بر امیدوار به امید بخشایش کردگار گزند کسانش نیاید پسند که ترسد که در ملکش آید گزند وگر در سرشت وی این خوی نیست در آن کشور آسودگی بوی نیست اگر پای بندی رضا پیش گیر وگر یک سواری سر خویش گیر فراخی در آن مرز و کشور مخواه که دلتنگ بینی رعیت ز شاه ز مستکبران دلاور بترس از آن کاو نترسد ز داور بترس دگر کشور آباد بیند به خواب که دارد دل اهل کشور خراب خرابی و بدنامی آید ز جور رسد پیش بین این سخن را به غور رعیت نشاید به بیداد کشت که مر سلطنت را پناهند و پشت مراعات دهقان کن از بهر خویش که مزدور خوشدل کند کار بیش مروت نباشد بدی با کسی کز او نیکویی دیده باشی بسی شنیدم که خسرو به شیرویه گفت در آن دم که چشمش زدیدن بخفت بر آن باش تا هرچه نیت کنی نظر در صلاح رعیت کنی الا تا نپیچی سر از عدل و رای که مردم ز دستت نپیچند پای گریزد رعیت ز بیدادگر کند نام زشتش به گیتی سمر بسی بر نیاید که بنیاد خود بکند آن که بنهاد بنیاد بد خرابی کند مرد شمشیر زن نه چندان که دود دل طفل و زن چراغی که بیوه زنی برفروخت بسی دیده باشی که شهری بسوخت از آن بهره\\u200cورتر در آفاق کیست که در ملکرانی به انصاف زیست چو نوبت رسد زین جهان غربتش ترحم فرستند بر تربتش بد و نیک مردم چو می\\u200cبگذرند همان به که نامت به نیکی برند خداترس را بر رعیت گمار که معمار ملک است پرهیزگار بد اندیش توست آن و خونخوار خلق که نفع تو جوید در آزار خلق ریاست به دست کسانی خطاست که از دستشان دستها برخداست نکوکارپرور نبیند بدی چو بد پروری خصم خون خودی مکافات موذی به مالش مکن که بیخش برآورد باید ز بن مکن صبر بر عامل ظلم دوست که از فربهی بایدش کند پوست سر گرگ باید هم اول برید نه چون گوسفندان مردم درید چه خوش گفت بازارگانی اسیر چو گردش گرفتند دزدان به تیر چو مردانگی آید از رهزنان چه مردان لشکر، چه خیل زنان شهنشه که بازارگان را بخست در خیر بر شهر و لشکر ببست کی آن جا دگر هوشمندان روند چو آوازهٔ رسم بد بشنوند؟ نکو بایدت نام و نیکی قبول نکو دار بازارگان و رسول بزرگان مسافر به جان پرورند که نام نکویی به عالم برند تبه گردد آن مملکت عن قریب کز او خاطر آزرده آید غریب غریب آشنا باش و سیاح دوست که سیاح جلاب نام نکوست نکو دار ضیف و مسافر عزیز وز آسیبشان بر حذر باش نیز ز بیگانه پرهیز کردن نکوست که دشمن توان بود در زی دوست غریبی که پر فتنه باشد سرش میازار و بیرون کن از کشورش تو گر خشم بر وی نگیری رواست که خود خوی بد دشمنش در قفاست وگر پارسی باشدش زاد و بوم به صنعاش مفرست و سقلاب و روم هم آن جا امانش مده تا به چاشت نشاید بلا بر دگر کس گماشت که گویند برگشته باد آن زمین کز او مردم آیند بیرون چنین قدیمان خود را بیفزای قدر که هرگز نیاید ز پرورده غدر چو خدمتگزاریت گردد کهن حق سالیانش فرامش مکن گر او را هرم دست خدمت ببست تو را بر کرم همچنان دست هست شنیدم که شاپور دم در کشید چو خسرو به رسمش قلم در کشید چو شد حالش از بینوایی تباه نبشت این حکایت به نزدیک شاه چو بذل تو کردم جوانی خویش به هنگام پیری مرانم ز پیش عمل گر دهی مرد منعم شناس که مفلس ندارد ز سلطان هراس چو مفلس فرو برد گردن به دوش از او بر نیاید دگر جز خروش چو مشرف دو دست از امانت بداشت بباید بر او ناظری بر گماشت ور او نیز در ساخت با خاطرش ز مشرف عمل بر کن و ناظرش خدا ترس باید امانت گزار امین کز تو ترسد امینش مدار امین باید از داور اندیشناک نه از رفع دیوان و زجر و هلاک بیفشان و بشمار و فارغ نشین که از صد یکی را نبینی امین دو همجنس دیرینه را هم\\u200cقلم نباید فرستاد یک جا به هم چه دانی که همدست گردند و یار یکی دزد باشد، یکی پرده\\u200cدار چو دزدان ز هم باک دارند و بیم رود در میان کاروانی سلیم یکی را که معزول کردی ز جاه چو چندی برآید ببخشش گناه بر آوردن کام امیدوار به از قید بندی شکستن هزار نویسنده را گر ستون عمل بیفتد، نبرد طناب امل به فرمانبران بر شه دادگر پدروار خشم آورد بر پسر گهش می\\u200cزند تا شود دردناک گهی می\\u200cکند آبش از دیده پاک چو نرمی کنی خصم گردد دلیر وگر خشم گیری شوند از تو سیر درشتی و نرمی به هم در به است چو رگ\\u200cزن که جراح و مرهم نه است جوانمرد و خوش خوی و بخشنده باش چو حق بر تو پاشد تو بر خلق پاش نیامد کس اندر جهان کاو بماند مگر آن کز او نام نیکو بماند نمرد آن که ماند پس از وی به جای پل و خانی و خان و مهمان سرای هر آن کاو نماند از پسش یادگار درخت وجودش نیاورد بار وگر رفت و آثار خیرش نماند نشاید پس مرگش الحمد خواند چو خواهی که نامت بود جاودان مکن نام نیک بزرگان نهان همین نقش بر خوان پس از عهد خویش که دیدی پس از عهد شاهان پیش همین کام و ناز و طرب داشتند به آخر برفتند و بگذاشتند یکی نام نیکو ببرد از جهان یکی رسم بد ماند از او جاودان به سمع رضا مشنو ایذای کس وگر گفته آید به غورش برس گنهکار را عذر نسیان بنه چو زنهار خواهند زنهار ده گر آید گنهکاری اندر پناه نه شرط است کشتن به اول گناه چو باری بگفتند و نشنید پند بده گوشمالش به زندان و بند وگر پند و بندش نیاید بکار درختی خبیث است بیخش برآر چو خشم آیدت بر گناه کسی تأمل کنش در عقوبت بسی که سهل است لعل بدخشان شکست شکسته نشاید دگرباره بست ']"
      ]
     },
     "execution_count": 180,
     "metadata": {},
     "output_type": "execute_result"
    }
   ],
   "source": [
    "poems_array = []\n",
    "for p in all_path:\n",
    "    path = p\n",
    "    f = open(path, 'r', encoding='utf8')\n",
    "    poems_array.append(f.read().replace(\"\\n\", \" \"))\n",
    "poems_array[:2]"
   ]
  },
  {
   "cell_type": "markdown",
   "id": "4f34a558",
   "metadata": {},
   "source": [
    "# Preprocessing Poems"
   ]
  },
  {
   "cell_type": "markdown",
   "id": "2667d438",
   "metadata": {},
   "source": [
    "normalize boostan"
   ]
  },
  {
   "cell_type": "code",
   "execution_count": 94,
   "id": "dec7c478",
   "metadata": {
    "scrolled": true
   },
   "outputs": [
    {
     "data": {
      "text/plain": [
       "['به نام خداوند جان\\u200cآفرین حکیم سخن\\u200cدرزبان\\u200cآفرین خداوند بخشندهٔ دستگیر کریم خطابخش پوزش\\u200cپذیر عزیزی که هر کز درش سر بتافت به هر در که شد هیچ عزت نیافت سر پادشاهان گردن\\u200cفراز به درگاه او بر زمین نیاز نه گردن\\u200cکشان را بگیرد به فور نه عذرآوران را براند به جور وگر خشم گیرد ز کردار زشت چو بازآمدی ماجرا درنوشت اگر با پدر جنگ جوید کسی پدر بی\\u200cگمان خشم گیرد بسی وگر خویش راضی نباشد ز خویش چو بیگانگانش براند ز پیش وگر بنده چابک نباشد به کار عزیزش ندارد خداوندگار وگر بر رفیقان نباشی شفیق به فرسنگ بگریزد از تو رفیق وگر ترک خدمت کند لشکری شود شاه لشکرکش از وی بری ولیکن خداوند بالا و پست به عصیان در رزق بر کس نبست دو کونش یکی قطره از بحر علم گنه بیند و پرده پوشد به حلم ادیم زمین، سفرهٔ عام اوست بر این خوان یغما چه دشمن چه دوست اگر بر جفاپیشه بشتافتی که از دست قهرش امان یافتی؟ بری ذاتش از تهمت ضد و جنس غنی ملکش از طاعت جن و انس پرستار امرش همه چیز و کس بنی\\u200cآدم و مرغ و مور و مگس چنان پهن خوان کرم گسترد که سیمرغ در قاف قسمت خورد لطیف کرم\\u200cگستر کارساز که دارای خلق است و دانای راز مر او را رسد کبریا و منی که ملکش قدیم است و ذاتش غنی یکی را به سر برنهد تاج بخت یکی را به خاک اندر آرد ز تخت کلاه سعادت یکی بر سرش گلیم شقاوت یکی در برش گلستان کند آتشی بر خلیل گروهی بر آتش برد ز آب نیل\\u200cگر آن است، منشور احسان اوست ور این است، توقیع فرمان اوست پس پرده بیند عمل\\u200cهای بد هم او پرده پوشد به آلای خود به تهدید اگر برکشد تیغ حکم بمانند کروبیان صم و بکم وگر دردهد یک صلای کرم عزازیل گوید نصیبی برم به درگاه لطف و بزرگیش بر بزرگان نهاده بزرگی ز سر فروماندگان را به رحمت قریب تضرع\\u200cکنان را به دعوت مجیب بر احوال نابوده، علمش بصیر به اسرار ناگفته، لطفش خبیر به قدرت، نگهدار بالا و شیب خداوند دیوان روز حسیب نه مستغنی از طاعتش پشت کس نه بر حرف او جای انگشت کس قدیمی نکوکار نیکی\\u200cپسند به کلک قضا در رحم نقش\\u200cبند ز مشرق به مغرب مه و آفتاب روان کرد و بنهاد گیتی بر آب زمین از تب لرزه آمد ستوه فروکوفت بر دامنش میخ کوه دهد نطفه را صورتی چون پری که کرده\\u200cست بر آب صورتگری؟ نهد لعل و پیروزه در صلب سنگ گل و لعل در شاخ پیروزه\\u200cرنگ ز ابر افکند قطره\\u200cای سوی یم ز صلب افکند نطفه\\u200cای در شکم از آن قطره لولوی لالا کند وز این، صورتی سروبالا کند بر او علم یک ذره پوشیده نیست که پیدا و پنهان به نزدش یکی\\u200cست مهیاکن روزی مار و مور اگر چند بی\\u200cدست\\u200cوپایند و زور به امرش وجود از عدم نقش بست که داند جز او کردن از نیست، هست؟ دگر ره به کتم عدم در برد وز آنجا به صحرای محشر برد جهان متفق بر الهیتش فرومانده از کنه ماهیتش بشر ماورای جلالش نیافت بصر منتهای جمالش نیافت نه بر اوج ذاتش پرد مرغ وهم نه در ذیل وصفش رسد دست فهم در این ورطه کشتی فروشد هزار که پیدا نشد تخته\\u200cای بر کنار چه شب\\u200cها نشستم در این سیر، گم که دهشت گرفت آستینم که قم محیط است علم ملک بر بسیط قیاس تو بر وی نگردد محیط نه ادراک در کنه ذاتش رسید نه فکرت به غور صفاتش رسید توان در بلاغت به سحبان رسید نه در کنه بی\\u200cچون سبحان رسید که خاصان در این ره فرس رانده\\u200cاند به لااحصیٖ از تک فرومانده\\u200cاند نه هر جای مرکب توان تاختن که جاها سپر باید انداختن وگر سالکی محرم راز گشت ببندند بر وی در بازگشت کسی را در این بزم ساغر دهند که داروی بیهوشی\\u200cاش دردهند یکی باز را دیده بردوخته\\u200cست یکی دیده\\u200cها باز و پر سوخته\\u200cست کسی ره سوی گنج قارون نبرد وگر برد، ره باز بیرون نبرد بمردم در این موج دریای خون کز او کس نبرده\\u200cست کشتی برون اگر طالبی کاین زمین طی کنی نخست اسب بازآمدن پی کنی تأمل در آیینهٔ دل کنی صفایی به\\u200cتدریج حاصل کنی مگر بویی از عشق مستت کند طلبکار عهد الستت کند به پای طلب ره بدان جا بری وز آنجا به بال محبت پری بدرد یقین پرده\\u200cهای خیال نماند سراپرده الا جلال دگر مرکب عقل را پویه نیست عنانش بگیرد تحیر که بیست در این بحر جز مرد راعی نرفت گم آن شد که دنبال داعی نرفت کسانی کز این راه برگشته\\u200cاند برفتند بسیار و سرگشته\\u200cاند خلاف پیمبر کسی ره گزید که هرگز به منزل نخواهد رسید مپندار سعدی که راه صفا توان رفت جز بر پی مصطفی ',\n",
       " 'شنیدم که در وقت نزع روان به هرمز چنین گفت نوشیروان که خاطر نگهدار درویش باش نه در بند آسایش خویش باش نیاساید اندر دیار تو کس چو آسایش خویش جویی و بس نیاید به نزدیک دانا پسند شبان خفته و گرگ در گوسفند برو پاس درویش محتاج دار که شاه از رعیت بود تاجدار رعیت چو بیخند و سلطان درخت درخت، ای پسر، باشد از بیخ سخت مکن تا توانی دل خلق ریش وگر می\\u200cکنی می\\u200cکنی بیخ خویش اگر جاده\\u200cای بایدت مستقیم ره پارسایان امید است و بیم طبیعت شود مرد را بخردی به امید نیکی و بیم بدی\\u200cگر این هر دو در پادشه یافتی در اقلیم و ملکش پنه یافتی که بخشایش آرد بر امیدوار به امید بخشایش کردگار گزند کسانش نیاید پسند که ترسد که در ملکش آید گزند وگر در سرشت وی این خوی نیست در آن کشور آسودگی بوی نیست اگر پای بندی رضا پیش گیر وگر یک سواری سر خویش گیر فراخی در آن مرز و کشور مخواه که دلتنگ بینی رعیت ز شاه ز مستکبران دلاور بترس از آن کاو نترسد ز داور بترس دگر کشور آباد بیند به خواب که دارد دل اهل کشور خراب خرابی و بدنامی آید ز جور رسد پیش بین این سخن را به غور رعیت نشاید به بیداد کشت که مر سلطنت را پناهند و پشت مراعات دهقان کن از بهر خویش که مزدور خوشدل کند کار بیش مروت نباشد بدی با کسی کز او نیکویی دیده باشی بسی شنیدم که خسرو به شیرویه گفت در آن دم که چشمش زدیدن بخفت بر آن باش تا هرچه نیت کنی نظر در صلاح رعیت کنی الا تا نپیچی سر از عدل و رای که مردم ز دستت نپیچند پای گریزد رعیت ز بیدادگر کند نام زشتش به گیتی سمر بسی بر نیاید که بنیاد خود بکند آن که بنهاد بنیاد بد خرابی کند مرد شمشیر زن نه چندان که دود دل طفل و زن چراغی که بیوه زنی برفروخت بسی دیده باشی که شهری بسوخت از آن بهره\\u200cورتر در آفاق کیست که در ملکرانی به انصاف زیست چو نوبت رسد زین جهان غربتش ترحم فرستند بر تربتش بد و نیک مردم چو می\\u200cبگذرند همان به که نامت به نیکی برند خداترس را بر رعیت گمار که معمار ملک است پرهیزگار بد اندیش توست آن و خونخوار خلق که نفع تو جوید در آزار خلق ریاست به دست کسانی خطاست که از دستشان دستها برخداست نکوکارپرور نبیند بدی چو بد پروری خصم خون خودی مکافات موذی به مالش مکن که بیخش برآورد باید ز بن مکن صبر بر عامل ظلم دوست که از فربهی بایدش کند پوست سر گرگ باید هم اول برید نه چون گوسفندان مردم درید چه خوش گفت بازارگانی اسیر چو گردش گرفتند دزدان به تیر چو مردانگی آید از رهزنان چه مردان لشکر، چه خیل زنان شهنشه که بازارگان را بخست در خیر بر شهر و لشکر ببست کی آن جا دگر هوشمندان روند چو آوازهٔ رسم بد بشنوند؟ نکو بایدت نام و نیکی قبول نکو دار بازارگان و رسول بزرگان مسافر به جان پرورند که نام نکویی به عالم برند تبه گردد آن مملکت عن قریب کز او خاطر آزرده آید غریب غریب آشنا باش و سیاح دوست که سیاح جلاب نام نکوست نکو دار ضیف و مسافر عزیز وز آسیبشان بر حذر باش نیز ز بیگانه پرهیز کردن نکوست که دشمن توان بود در زی دوست غریبی که پر فتنه باشد سرش میازار و بیرون کن از کشورش تو\\u200cگر خشم بر وی نگیری رواست که خود خوی بد دشمنش در قفاست وگر پارسی باشدش زاد و بوم به صنعاش مفرست و سقلاب و روم هم آن جا امانش مده تا به چاشت نشاید بلا بر دگر کس گماشت که گویند برگشته باد آن زمین کز او مردم آیند بیرون چنین قدیمان خود را بیفزای قدر که هرگز نیاید ز پرورده غدر چو خدمتگزاریت گردد کهن حق سالیانش فرامش مکن\\u200cگر او را هرم دست خدمت ببست تو را بر کرم همچنان دست هست شنیدم که شاپور دم در کشید چو خسرو به رسمش قلم در کشید چو شد حالش از بینوایی تباه نبشت این حکایت به نزدیک شاه چو بذل تو کردم جوانی خویش به هنگام پیری مرانم ز پیش عمل\\u200cگر دهی مرد منعم شناس که مفلس ندارد ز سلطان هراس چو مفلس فرو برد گردن به دوش از او بر نیاید دگر جز خروش چو مشرف دو دست از امانت بداشت بباید بر او ناظری بر گماشت ور او نیز در ساخت با خاطرش ز مشرف عمل بر کن و ناظرش خدا ترس باید امانت گزار امین کز تو ترسد امینش مدار امین باید از داور اندیشناک نه از رفع دیوان و زجر و هلاک بیفشان و بشمار و فارغ نشین که از صد یکی را نبینی امین دو همجنس دیرینه را هم\\u200cقلم نباید فرستاد یک جا به هم چه دانی که همدست گردند و یار یکی دزد باشد، یکی پرده\\u200cدار چو دزدان ز هم باک دارند و بیم رود در میان کاروانی سلیم یکی را که معزول کردی ز جاه چو چندی برآید ببخشش گناه بر آوردن کام امیدوار به از قید بندی شکستن هزار نویسنده را\\u200cگر ستون عمل بیفتد، نبرد طناب امل به فرمانبران بر شه دادگر پدروار خشم آورد بر پسر گهش می\\u200cزند تا شود دردناک گهی می\\u200cکند آبش از دیده پاک چو نرمی کنی خصم گردد دلیر وگر خشم گیری شوند از تو سیر درشتی و نرمی به هم در به است چو رگ\\u200cزن که جراح و مرهم نه است جوانمرد و خوش خوی و بخشنده باش چو حق بر تو پاشد تو بر خلق پاش نیامد کس اندر جهان کاو بماند مگر آن کز او نام نیکو بماند نمرد آن که ماند پس از وی به جای پل و خانی و خان و مهمان سرای هر آن کاو نماند از پسش یادگار درخت وجودش نیاورد بار وگر رفت و آثار خیرش نماند نشاید پس مرگش الحمد خواند چو خواهی که نامت بود جاودان مکن نام نیک بزرگان نهان همین نقش بر خوان پس از عهد خویش که دیدی پس از عهد شاهان پیش همین کام و ناز و طرب داشتند به آخر برفتند و بگذاشتند یکی نام نیکو ببرد از جهان یکی رسم بد ماند از او جاودان به سمع رضا مشنو ایذای کس وگر گفته آید به غورش برس گنهکار را عذر نسیان بنه چو زنهار خواهند زنهار ده\\u200cگر آید گنهکاری اندر پناه نه شرط است کشتن به اول گناه چو باری بگفتند و نشنید پند بده گوشمالش به زندان و بند وگر پند و بندش نیاید بکار درختی خبیث است بیخش برآر چو خشم آیدت بر گناه کسی تأمل کنش در عقوبت بسی که سهل است لعل بدخشان شکست شکسته نشاید دگرباره بست ',\n",
       " 'ز دریای عمان برآمد کسی سفر کرده هامون و دریا بسی عرب دیده و ترک و تاجیک و روم ز هر جنس در نفس پاکش علوم جهان گشته و دانش اندوخته سفر کرده و صحبت آموخته به هیکل قوی چون تناور درخت ولیکن فرو مانده بی برگ سخت دو صد رقعه بالای هم دوخته ز حراق و او در میان سوخته به شهری در آمد ز دریا کنار بزرگی در آن ناحیت شهریار که طبعی نکونامی اندیش داشت سر عجز در پای درویش داشت بشستند خدمتگزاران شاه سر و تن به حمامش از گرد راه چو بر آستان ملک سر نهاد نیایش کنان دست بر بر نهاد درآمد به ایوان شاهنشهی که بختت جوان باد و دولت رهی نرفتم در این مملکت منزلی کز آسیب آزرده دیدم دلی ندیدم کسی سرگران از شراب مگر هم خرابات دیدم خراب ملک را همین ملک پیرایه بس که راضی نگرد به آزار کس سخن گفت و دامان گوهر فشاند به نطقی که شه آستین برفشاند پسند آمدش حسن گفتار مرد به نزد خودش خواند و اکرام کرد زرش داد و گوهر به شکر قدوم بپرسیدش از گوهر و زاد و بوم بگفت آنچه پرسیدش از سرگذشت به قربت ز دیگر کسان بر گذشت ملک با دل خویش با گفت و گو که دست وزارت سپارد بدو ولیکن بتدریج تا انجمن به سستی نخندند بر رای من به عقلش بباید نخست آزمود به قدر هنر پایگاهش فزود برد بر دل از جور غم بارها که نا آزموده کند کارها چو قاضی به فکرت نویسد سجل نگردد ز دستاربندان خجل نظر کن چو سوفار داری به شست نه آنگه که پرتاب کردی ز دست چو یوسف کسی در صلاح و تمیز به یک سال باید که گردد عزیز به ایام تا بر نیاید بسی نشاید رسیدن به غور کسی ز هر نوع اخلاق او کشف کرد خردمند و پاکیزه دین بود مرد نکو سیرتش دید و روشن قیاس سخن سنج و مقدار مردم شناس به رای از بزرگان مهش دید و بیش نشاندش زبردست دستور خویش چنان حکمت و معرفت کار بست که از امر و نهیش درونی نخست در آورد ملکی به زیر قلم کز او بر وجودی نیامد الم زبان همه حرف گیران ببست که حرفی بدش بر نیامد ز دست حسودی که یک جو خیانت ندید به کارش نیامد چو گندم تپید ز روشن دلش ملک پرتو گرفت وزیر کهن را غم نو گرفت ندید آن خردمند را رخنه\\u200cای که در وی تواند زدن طعنه\\u200cای امین و بد اندیش طشتند و مور نشاید در او رخنه کردن به زور ملک را دو خورشید طلعت غلام به سر بر، کمر بسته بودی مدام دو پاکیزه پیکر چو حور و پری چو خورشید و ماه از سدیگر بری دو صورت که گفتی یکی نیست بیش نموده در آیینه همتای خویش سخنهای دانای شیرین سخن گرفت اندر آن هر دو شمشاد بن چو دیدند کاوصاف و خلقش نکوست به طبعش هواخواه گشتند و دوست در او هم اثر کرد میل بشر نه میلی چو کوتاه\\u200cبینان به شر از آسایش آنگه خبر داشتی که در روی ایشان نظر داشتی چو خواهی که قدرت بماند بلند دل، ای خواجه، در ساده رویان مبند وگر خود نباشد غرض در میان حذر کن که دارد به هیبت زیان وزیر اندر این شمه\\u200cای راه برد به خبث این حکایت بر شاه برد که این را ندانم چه خوانند و کیست! نخواهد به سامان در این ملک زیست سفر کردگان لاابالی زیند که پروردهٔ ملک و دولت نیند شنیدم که با بندگانش سر است خیانت پسند است و شهوت پرست نشاید چنین خیره روی تباه که بد نامی آرد در ایوان شاه مگر نعمت شه فرامش کنم که بینم تباهی و خامش کنم به پندار نتوان سخن گفت زود نگفتم تو را تا یقینم نبود ز فرمانبرانم کسی گوش داشت که آغوش را اندر آغوش داشت من این گفتم اکنون ملک راست رای چو من آزمودم تو نیز آزمای به ناخوب\\u200cتر صورتی شرح داد که بد مرد را نیکروزی مباد بداندیش بر خرده چون دست یافت درون بزرگان به آتش بتافت به خرده توان آتش افروختن پس آنگه درخت کهن سوختن ملک را چنان گرم کرد این خبر که جوشش برآمد چو مرجل به سر غضب دست در خون درویش داشت ولیکن سکون دست در پیش داشت که پرورده کشتن نه مردی بود ستم در پی داد، سردی بود میازار پروردهٔ خویشتن چو تیر تو دارد به تیرش مزن به نعمت نبایست پروردنش چو خواهی به بیداد خون خوردنش از او تا هنرها یقینت نشد در ایوان شاهی قرینت نشد کنون تا یقینت نگردد گناه به گفتار دشمن گزندش مخواه ملک در دل این راز پوشیده داشت که قول حکیمان نیوشیده داشت دل است، ای خردمند، زندان راز چو گفتی نیاید به زنجیر باز نظر کرد پوشیده در کار مرد خلل دید در رای هشیار مرد که ناگه نظر زی یکی بنده کرد پری چهره در زیر لب خنده کرد دو کس را که با هم بود جان و هوش حکایت کنانند و ایشان خموش چو دیده به دیدار کردی دلیر نگردی چو مستسقی از دجله سیر ملک را گمان بدی راست شد ز سودا بر او خشمگین خواست شد هم از حسن تدبیر و رای تمام به آهستگی گفتش ای نیک نام تو را من خردمند پنداشتم بر اسرار ملکت امین داشتم گمان بردمت زیرک و هوشمند ندانستمت خیره و ناپسند چنین مرتفع پایه جای تو نیست گناه از من آمد خطای تو نیست که چون بدگهر پرورم لاجرم خیانت روا داردم در حرم برآورد سر مرد بسیاردان چنین گفت با خسرو کاردان مرا چون بود دامن از جرم پاک نباشد ز خبث بداندیش باک به خاطر درم هرگز این ظن نرفت ندانم که گفت آنچه بر من نرفت شهنشاه گفت: آنچه گفتم برت بگویند خصمان به روی اندرت چنین گفت با من وزیر کهن تو نیز آنچه دانی بگوی و بکن تسبم کنان دست بر لب گرفت کز او هر چه آید نیاید شگفت حسودی که بیند به جای خودم کجا بر زبان آورد جز بدم من آن ساعت انگاشتم دشمنش که بنشاند شه زیردست منش چو سلطان فضیلت نهد بر ویم ندانی که دشمن بود در پیم؟ مرا تا قیامت نگیرد به دوست چو بیند که در عز من ذل اوست بر اینت بگویم حدیثی درست اگر گوش با بنده داری نخست ندانم کجا دیده\\u200cام در کتاب که ابلیس را دید شخصی به خواب به بالا صنوبر، به دیدن چو حور چو خورشیدش از چهره می\\u200cتافت نور فرا رفت و گفت: ای عجب، این تویی فرشته نباشد بدین نیکویی تو کاین روی داری به حسن قمر چرا در جهانی به زشتی سمر؟ چرا نقش بندت در ایوان شاه دژم روی کرده\\u200cست و زشت و تباه؟ شنید این سخن بخت برگشته دیو به زاری برآورد بانگ و غریو که\\u200cای نیکبخت این نه شکل من است ولیکن قلم در کف دشمن است مرا همچنین نام نیک است لیک ز علت نگوید بداندیش نیک وزیری که جاه من آبش بریخت به فرسنگ باید ز مکرش گریخت ولیکن نیندیشم از خشم شاه دلاور بود در سخن، بی\\u200cگناه اگر محتسب گردد آن را غم است که سنگ ترازوی بارش کم است چو حرفم برآید درست از قلم مرا از همه حرف گیران چه غم؟ ملک در سخن گفتنش خیره ماند سر دست فرماندهی برفشاند که مجرم به زرق و زبان آوری ز جرمی که دارد نگردد بری ز خصمت همانا که نشنیده\\u200cام نه آخر به چشم خودم دیده\\u200cام؟ کز این زمره خلق در بارگاه نمی\\u200cباشدت جز در اینان نگاه بخندید مرد سخنگوی و گفت حق است این سخن، حق نشاید نهفت در این نکته\\u200cای هست اگر بشنوی که حکمت روان باد و دولت قوی نبینی که درویش بی دستگاه به حسرت کند در توانگر نگاه مرا دستگاه جوانی برفت به لهو و لعب زندگانی برفت ز دیدار اینان ندارم شکیب که سرمایه داران حسنند و زیب مرا همچنین چهره گلفام بود بلورینم از خوبی اندام بود در این غایتم رشت باید کفن که مویم چو پنبه\\u200cست و دوکم بدن مرا همچنین جعد شبرنگ بود قبا در بر از نازکی تنگ بود دو رسته درم در دهن داشت جای چو دیواری از خشت سیمین بپای کنونم نگه کن به وقت سخن بیفتاده یک یک چو سور کهن در اینان به حسرت چرا ننگرم؟ که عمر تلف کرده یاد آورم برفت از من آن روزهای عزیز به پایان رسد ناگه این روز نیز چو دانشور این در معنی بسفت بگفت این کز این به محال است گفت در ارکان دولت نگه کرد شاه کز این خوبتر لفظ و معنی مخواه کسی را نظر سوی شاهد رواست که داند بدین شاهدی عذر خواست به عقل ار نه آهستگی کردمی به گفتار خصمش بیازردمی به تندی سبک دست بردن به تیغ به دندان برد پشت دست دریغ ز صاحب غرض تا سخن نشنوی که\\u200cگر کار بندی پشیمان شوی نکونام را جاه و تشریف و مال بیفزود و، بدگوی را گوشمال به تدبیر دستور دانشورش به نیکی بشد نام در کشورش به عدل و کرم سالها ملک راند برفت و نکونامی از وی بماند چنین پادشاهان که دین پرورند به بازوی دین، گوی دولت برند از آنان نبینم در این عهد کس وگر هست بوبکر سعد است و بس بهشتی درختی تو، ای پادشاه که افکنده\\u200cای سایه یک ساله راه طمع بود از بخت نیک اخترم که بال همای افکند بر سرم خرد گفت دولت نبخشد همای\\u200cگر اقبال خواهی در این سایه آی خدایا به رحمت نظر کرده\\u200cای که این سایه بر خلق گسترده\\u200cای دعا گوی این دولتم بنده\\u200cوار خدایا تو این سایه پاینده دار صواب است پیش از کشش بند کرد که نتوان سر کشته پیوند کرد خداوند فرمان و رای و شکوه ز غوغای مردم نگردد ستوه سر پر غرور از تحمل تهی حرامش بود تاج شاهنشهی نگویم چو جنگ آوری پای دار چو خشم آیدت عقل بر جای دار تحمل کند هر که را عقل هست نه عقلی که خشمش کند زیردست چو لشکر برون تاخت خشم از کمین نه انصاف ماند نه تقوی نه دین ندیدم چنین دیو زیر فلک که از وی گریزند چندین ملک ',\n",
       " 'نه بر حکم شرع آب خوردن خطاست وگر خون به فتوی بریزی رواست که را شرع فتوی دهد بر هلاک الا تا نداری ز کشتنش باک وگر دانی اندر تبارش کسان بر ایشان ببخشای و راحت رسان گنه بود مرد ستمکاره را چه تاوان زن و طفل بیچاره را؟ تنت زورمند است و لشکر گران ولیکن در اقلیم دشمن مران که وی بر حصاری گریزد بلند رسد کشوری بی گنه را گزند نظر کن در احوال زندانیان که ممکن بود بی\\u200cگنه در میان چو بازارگان در دیارت بمرد به مالش خساست بود دستبرد کز آن پس که بر وی بگریند زار به هم باز گویند خویش و تبار که مسکین در اقلیم غربت بمرد متاعی کز او ماند ظالم ببرد بیندیش از آن طفلک بی پدر وز آه دل دردمندش حذر بسا نام نیکوی پنجاه سال که یک نام زشتش کند پایمال پسندیده کاران جاوید نام تطاول نکردند بر مال عام بر آفاق اگر سر به سر پادشاست چو مال از توانگر ستاند گداست بمرد از تهیدستی آزاد مرد ز پهلوی مسکین شکم پر نکرد ',\n",
       " 'شنیدم که فرماندهی دادگر قبا داشتی هر دو روی آستر یکی گفتش ای خسرو نیکروز ز دیبای چینی قبایی بدوز بگفت این قدر ستر و آسایش است وز این بگذری زیب و آرایش است نه از بهر آن می\\u200cستانم خراج که زینت کنم بر خود و تخت و تاج چو همچون زنان حله در تن کنم به مردی کجا دفع دشمن کنم؟ مرا هم ز صد گونه آز و هواست ولیکن خزینه نه تنها مراست خزاین پر از بهر لشکر بود نه از بهر آذین و زیور بود سپاهی که خوشدل نباشد ز شاه ندارد حدود ولایت نگاه چو دشمن خر روستایی برد ملک باج و ده یک چرا می\\u200cخورد؟ مخالف خرش برد و سلطان خراج چه اقبال ماند در آن تخت و تاج؟ رعیت درخت است اگر پروری به کام دل دوستان بر خوری به بی\\u200cرحمی از بیخ و بارش مکن که نادان کند حیف بر خویشتن مروت نباشد بر افتاده زور برد مرغ دون دانه از پیش مور کسان بر خورند از جوانی و بخت که بر زیردستان نگیرند سخت اگر زیردستی در آید ز پای حذر کن ز نالیدنش بر خدای چو شاید گرفتن به نرمی دیار به پیکار خون از مشامی میار به مردی که ملک سراسر زمین نیرزد که خونی چکد بر زمین شنیدم که جمشید فرخ سرشت به سرچشمه\\u200cای بر به سنگی نوشت بر این چشمه چون ما بسی دم زدند برفتند چون چشم بر هم زدند گرفتیم عالم به مردی و زور ولیکن نبردیم با خود به گور چو بر دشمنی باشدت دسترس مرنجانش کاو را همین غصه بس عدو زنده سرگشته پیرامنت به از خون او کشته در گردنت ',\n",
       " 'شنیدم که دارای فرخ تبار ز لشکر جدا ماند روز شکار دوان آمدش گله\\u200cبانی به پیش به دل گفت دارای فرخنده کیش مگر دشمن است این که آمد به جنگ ز دورش بدوزم به تیر خدنگ کمان کیانی به زه راست کرد به یک دم وجودش عدم خواست کرد بگفت ای خداوند ایران و تور که چشم بد از روزگار تو دور من آنم که اسبان شه پرورم به خدمت بدین مرغزار اندرم ملک را دل رفته آمد به جای بخندید و گفت: ای نکوهیده رای تو را یاوری کرد فرخ سروش وگر نه زه آورده بودم به گوش نگهبان مرعی بخندید و گفت: نصیحت ز منعم نباید نهفت نه تدبیر محمود و رای نکوست که دشمن نداند شهنشه ز دوست چنان است در مهتری شرط زیست که هر کهتری را بدانی که کیست مرا بارها در حضر دیده\\u200cای ز خیل و چراگاه پرسیده\\u200cای کنونت به مهر آمدم پیشباز نمی\\u200cدانیم از بداندیش باز توانم من، ای نامور شهریار که اسبی برون آرم از صد هزار مرا گله\\u200cبانی به عقل است و رای تو هم گلهٔ خویش باری، بپای در آن تخت و ملک از خلل غم بود که تدبیر شاه از شبان کم بود ',\n",
       " 'تو کی بشنوی نالهٔ دادخواه به کیوان برت کلهٔ خوابگاه؟ چنان خسب کآید فغانت به گوش اگر دادخواهی برآرد خروش که نالد ز ظالم که در دور توست که هر جور کاو می\\u200cکند جور توست نه سگ دامن کاروانی درید که دهقان نادان که سگ پرورید دلیر آمدی سعدیا در سخن چو تیغت به دست است فتحی بکن بگو آنچه دانی که حق گفته به نه رشوت ستانی و نه عشوه ده طمع بند و دفتر ز حکمت بشوی طمع بگسل و هرچه دانی بگوی ',\n",
       " 'خبر یافت گردن\\u200cکشی در عراق که می\\u200cگفت مسکینی از زیر طاق تو هم بر دری هستی امیدوار پس امید بر در نشینان برآر نخواهی که باشد دلت دردمند دل دردمندان برآور ز بند پریشانی خاطر دادخواه براندازد از مملکت پادشاه تو خفته خنک در حرم نیمروز غریب از برون گو به گرما بسوز ستاننده داد آن کس خداست که نتواند از پادشه دادخواست ',\n",
       " 'یکی از بزرگان اهل تمیز حکایت کند ز ابن عبدالعزیز که بودش نگینی در انگشتری فرو مانده در قیمتش جوهری به شب گفتی از جرم گیتی فروز دری بود از روشنایی چو روز قضا را درآمد یکی خشک سال که شد بدر سیمای مردم هلال چو در مردم آرام و قوت ندید خود آسوده بودن مروت ندید چو بیند کسی زهر در کام خلق کیش بگذرد آب نوشین به حلق بفرمود و بفروختندش به سیم که رحم آمدش بر غریب و یتیم به یک هفته نقدش به تاراج داد به درویش و مسکین و محتاج داد فتادند در وی ملامت کنان که دیگر به دستت نیاید چنان شنیدم که می\\u200cگفت و باران دمع فرو می\\u200cدویدش به عارض چو شمع که زشت است پیرایه بر شهریار دل شهری از ناتوانی فگار مرا شاید انگشتری بی\\u200cنگین نشاید دل خلقی اندوهگین خنک آن که آسایش مرد و زن گزیند بر آرایش خویشتن نکردند رغبت هنرپروران به شادی خویش از غم دیگران اگر خوش بخسبد ملک بر سریر نپندارم آسوده خسبد فقیر وگر زنده دارد شب دیر باز بخسبند مردم به آرام و ناز بحمدالله این سیرت و راه راست اتابک ابوبکر بن سعد راست کس از فتنه در پارس دیگر نشان نبیند مگر قامت مهوشان یکی پنج بیتم خوش آمد به گوش که در مجلسی می\\u200cسرودند دوش مرا راحت از زندگی دوش بود که آن ماهرویم در آغوش بود مر او را چو دیدم سر از خواب مست بدو گفتم ای سرو پیش تو پست دمی نرگس از خواب نوشین بشوی چو گلبن بخند و چو بلبل بگوی چه می\\u200cخسبی ای فتنه روزگار؟ بیا و می\\u200cلعل نوشین بیار نگه کرد شوریده از خواب و گفت مرا فتنه خوانی و گویی مخفت در ایام سلطان روشن نفس نبیند دگر فتنه بیدار کس ',\n",
       " 'در اخبار شاهان پیشینه هست که چون تکله بر تخت زنگی نشست به دورانش از کس نیازرد کس سبق برد اگر خود همین بود و بس چنین گفت یک ره به صاحبدلی که عمرم به سر رفت بی حاصلی بخواهم به کنج عبادت نشست که دریابم این پنج روزی که هست چو می\\u200cبگذرد جاه و ملک و سریر نبرد از جهان دولت الا فقیر چو بشنید دانای روشن نفس به تندی برآشفت کای تکله بس! طریقت به جز خدمت خلق نیست به تسبیح و سجاده و دلق نیست تو بر تخت سلطانی خویش باش به اخلاق پاکیزه درویش باش به صدق و ارادت میان بسته\\u200cدار ز طامات و دعوی زبان بسته\\u200cدار قدم باید اندر طریقت نه دم که اصلی ندارد دم بی\\u200cقدم بزرگان که نقد صفا داشتند چنین خرقه زیر قبا داشتند ']"
      ]
     },
     "execution_count": 94,
     "metadata": {},
     "output_type": "execute_result"
    }
   ],
   "source": [
    "normalizer = Normalizer()\n",
    "normalized_boostan_poems = []\n",
    "for p in poems_array:\n",
    "    normalized_boostan_poems.append(normalizer.normalize(p))\n",
    "normalized_boostan_poems[0:10]"
   ]
  },
  {
   "cell_type": "markdown",
   "id": "fb9c5aea",
   "metadata": {},
   "source": [
    "lemmatize and remove stopwords boostan"
   ]
  },
  {
   "cell_type": "code",
   "execution_count": 96,
   "id": "23c1e4f5",
   "metadata": {
    "scrolled": true
   },
   "outputs": [
    {
     "name": "stdout",
     "output_type": "stream",
     "text": [
      "['نام خداوند جان\\u200cآفرین حکیم سخن\\u200cدرزبان\\u200cآفرین خداوند بخشنده دستگیر کریم خطابخش پوزش\\u200cپذیر عزیزی کز در سر بتافت عزت یافت#یاب سر پادشاه گردن\\u200cفراز درگاه زمین گردن\\u200cکشان گرفت#گیر فور عذرآوران براند جور وگر خشم کردار زشت چو بازآمدی ماجرا درنوشت پدر جنگ جست#جو پدر بی\\u200cگمان خشم بس وگر راضی بود#باش چو بیگانگان براند وگر بنده چابک بود#باش کار عزیز خداوندگار وگر رفیق بود#باش شفیق فرسنگ بگریزد رفیق وگر ترک خدمت لشکر شاه لشکرک بری ولیکن خداوند پست عصیان رزق کس بست#بند کون قطره بحر علم گنه دید#بین پرده پوشید#پوش حلم ادیم زمین سفره عام اوست خوان یغما دشمن دوست جفاپیشه بشتافتی دست قهر امان یافت#یاب بری ذات تهمت ضد جنس غنی ملک طاعت جن انس پرستار امر کس بنی\\u200cآدم مرغ مور مگس چنان پهن خوان کرم گسترد سیمرغ قاف قسمت خورد#خور لطیف کرم\\u200cگستر کارساز خلق دانا راز مر رسید#رس کبریا منی ملک قدیم ذات غنی سر برنهد تاج بخت خاک اندر آرد تخت کلاه سعادت سر گلیم شقاوت برش گلستان آتش خلیل آتش برد آب نیل\\u200cگر منشور احسان اوست ور توقیع فرمان اوست پرده دید#بین عمل بد پرده پوشید#پوش آلای تهدید برکشد تیغ حکم ماند#مان کروبیان صم بک وگر دردهد صلا کرم عزازیل گفت#گو نصیب برد#بر درگاه لطف بزرگ بزرگ نهاده بزرگ سر فروماندگان رحمت قریب تضرع\\u200cکنان دعوت مجیب احوال نابوده علم بصیر اسرار ناگفته لطف خبیر قدرت نگهدار شیب خداوند دیوان روز حسیب مستغنی طاعت کس حرف انگشت کس قدیم نکوکار نیکی\\u200cپسند کلک قضا رحم نقش\\u200cبند مشرق مغرب مه آفتاب روان بنهاد گیتی آب زمین تب لرزه ستوه فروکوفت دامن میخ کوه نطفه صورت پری کرده\\u200cست آب صورتگر نهد لعل پیروزه صلب سنگ گل لعل شاخ پیروزه\\u200cرنگ ابر افکند قطره یم صلب افکند نطفه شکم قطره لولو لالا وز صورت سروبالا علم ذره پوشیده پنهان نزد یکی\\u200cست مهیاکن روز مار مور بی\\u200cدست\\u200cوپایند زور امر نقش بست#بند دانست#دان #هست دگر ره کتم برد وز صحرا محشر برد جهان متفق الهیتش فرومانده کنه ماهیت بشر ماورا جلال یافت#یاب بصر منت جمال یافت#یاب اوج ذات پرید#پر مرغ وهم ذیل وصف رسید#رس دست فهم ورطه کشتی فروخت#فروش هزار شد#شو تخته شب نشست#نشین سیر گم دهشت آستین قم محیط علم ملک بسیط قیاس گشت#گرد محیط ادراک کنه ذات فکرت غور صفات توان بلاغت سحبان کنه بی\\u200cچون سبحان خاص ره فرس رانده\\u200cاند لااحصیٖ تک فرومانده\\u200cاند مرکب توان تاختن جا سپر انداختن وگر سالک محرم راز گشت ببندند بازگشت بزم ساغر دارو بیهوشی\\u200cاش دردهند دیده بردوخته\\u200cست دیده سوخته\\u200cست ره گنج قارون نبرد وگر برد ره نبرد بمردم موج دریا خون کز کس نبرده\\u200cست کشتی برون طالب کاین زمین کرد#کن اسب بازآمدن کرد#کن تأمل آیینه دل کرد#کن صفا به\\u200cتدریج حاصل کرد#کن مگر بویی عشق مست طلبکار عهد الست پای طلب ره بدان بری وز بال محبت پری بدرد یقین پرده خیال ماند#مان سراپرده الا جلال دگر مرکب عقل پویه عنان گرفت#گیر تحیر بیست بحر مرد راعی رفت#رو گم دنبال داعی رفت#رو کز برگشته\\u200cاند برفتند سرگشته\\u200cاند خلاف پیمبر ره گزید هرگز منزل رسید#رس مپندار سعدی صفا توان مصطفی', 'شنید#شنو وقت نزع روان هرمز نوشیروان خاطر نگهدار درویش با بند آسایش با نیاساید اندر دیار کس چو آسایش جو بس آمد#آ دانا پسند شبان خفته گرگ گوسفند برو پاس درویش محتاج شاه رعیت تاجدار رعیت چو بیخند سلطان درخت درخت ای پسر بیخ سخت مکن توانی دل خلق ریش وگر کرد#کن کرد#کن بیخ جاده باید مستقیم ره پارسا امید بیم طبیعت مرد بخردی امید نیک بیم بدی\\u200cگر پادشه یافت#یاب اقلیم ملک پنه یافت#یاب بخشایش آرد امیدوار امید بخشایش کردگار گزند کسانش آمد#آ پسند ترسید#ترس ملک آمد#آ گزند وگر سرشت خو کشور آسودگی بو پای رضا گیر وگر سوار سر گیر فراخ مرز کشور مخواه دلتنگ بینی رعیت شاه مستکبر دلاور ترسید#ترس کاو ترسید#ترس داور ترسید#ترس دگر کشور آباد دید#بین خواب دل اهل کشور خراب خراب بدنام آمد#آ جور رسید#رس سخن غور رعیت نشاید بیداد کشت مر سلطنت پناهند مراعات دهقان کن بهر مزدور خوشدل کار مروت بود#باش بدی کز نیکو دید#بین بس شنید#شنو خسرو شیرویه دم چشم زدیدن بخفت با هرچه نیت کرد#کن صلاح رعیت کرد#کن الا پیچید#پیچ سر عدل را مردم دست پیچید#پیچ پای گریزد رعیت بیدادگر نام زشت گیتی سمر بس آمد#آ بنیاد کرد#کن بنهاد بنیاد بد خراب مرد شمشیر زن چندان دود دل طفل زن چراغ بیوه زنی برفروخت بس دید#بین شهر بسوخت بهره\\u200cور آفاق کیست ملکرانی انصاف زیست چو نوبت رسید#رس زین جهان غربت ترحم فرستاد#فرست تربت بد نیک مردم چو می\\u200cبگذرند نام نیک برد#بر خداترس رعیت گمار معمار ملک پرهیزگار بد اندیش توس خونخوار خلق نفع جست#جو آزار خلق ریاست دست خطاست دست دست برخداست نکوکارپرور دید#بین بدی چو بد پروری خصم خون خودی مکافات موذی مالش مکن بیخ برآورد بن مکن صبر عامل ظلم دوست فربه باید پوست سر گرگ برد#بر گوسفند مردم درید خوش بازارگانی اسیر چو گردش گرفت#گیر دزد تیر چو مردانگی آمد#آ رهزن مرد لشکر خیل زن شهنشه بازارگان بخست خیر شهر لشکر ببست کی دگر هوشمند چو آوازه رسم بد شنید#شنو نکو باید نام نیک قبول نکو بازارگان رسول بزرگ مسافر جان پرورند نام نکو عالم برد#بر تبه مملکت عن قریب کز خاطر آزرده آمد#آ غریب غریب آشنا با سیاح دوست سیاح جلاب نام نکوست نکو ضیف مسافر عزیز وز آسیب حذر با بیگانه پرهیز نکوست دشمن توان زی دوست غریب فتنه سر میازار کن کشور تو\\u200cگر خشم گرفت#گیر رواست خو بد دشمن قفاست وگر پارس باشدش زاد بوم صنعا مفرست سقلاب روم امان مده چاشت نشاید بلا دگر کس گماشت گفت#گو برگشته باد زمین کز مردم آمد#آ قد بیفزای قدر هرگز آمد#آ پرورده غدر چو خدمتگزاریت کهن حق سالیانش فرامش مکن\\u200cگر هرم دست خدمت ببست کرم دست #هست شنید#شنو شاپور دم کشید#کش چو خسرو رسم قلم کشید#کش چو حال بینوا تباه نبشت حکایت شاه چو بذل جوان پیر مرانم عمل\\u200cگر داد#ده مرد منعم شناس مفلس سلطان هراس چو مفلس فرو برد گردن دوش آمد#آ دگر خروش چو مشرف دست امانت بدا بباید ناظر گماشت ور ساخت خاطر مشرف عمل کن ناظر خدا ترس امانت گزار امین کز ترسید#ترس امین مدار امین داور اندیشناک رفع دیوان زجر هلاک بیفشان شمرد#شمار فارغ نشین صد دید#بین امین همجنس دیرینه هم\\u200cقلم فرستاد#فرست دانست#دان همدست گشت#گرد یار دزد پرده\\u200cدار چو دزد باک بیم رود کاروان سلیم معزول کردی جاه چو چند برآید ببخشش گناه آوردن کام امیدوار قید شکستن هزار نویسنده را\\u200cگر ستون عمل بیفتد نبرد طناب امل فرمانبران شه دادگر پدروار خشم پسر گه زد#زن دردناک گهی آب دیده پاک چو نرمی کرد#کن خصم دلیر وگر خشم سیر درشت نرمی چو رگ\\u200cزن جراح مرهم #هست جوانمرد خوش خو بخشنده با چو حق پاشد خلق پا آمد#آ کس اندر جهان کاو ماند#مان مگر کز نام نیکو ماند#مان مرد#میر ماند#مان پل خان خان مهمان سرا کاو ماند#مان پس یادگار درخت وجود آورد#آور وگر آثار خیر ماند#مان نشاید مرگ الحمد خواند#خوان چو خواهی_که نام جاودان مکن نام نیک بزرگ نهان نقش خوان عهد دید#بین عهد شاه کام ناز طرب آخر برفتند بگذاشتند نام نیکو ببرد جهان رسم بد ماند#مان جاودان سمع رضا مشنو ایذا کس وگر آمد#آ غور رسید#رس گنهکار عذر نسیان بنه چو زنهار خواهند_زنهار ده\\u200cگر آمد#آ گنهکاری اندر پناه شرط کشتن گناه چو باری بگفتند شنید#شنو پند داد#ده گوشمال زندان بند وگر پند بند آمد#آ کاشت#کار درخت خبیث بیخ برآر چو خشم آیدت گناه تأمل کنش عقوبت بس سهل لعل بدخشان شکست شکسته نشاید دگرباره بست#بند', 'دریا عمان برآمد سفر هامون دریا بس عرب دیده ترک تاجیک روم جنس نفس پاک علوم جهان گشته دانش اندوخته سفر صحبت آموخته هیکل قوی تناور درخت ولیکن فرو مانده برگ سخت صد رقعه بالا دوخته حراق سوخته شهر دریا بزرگ ناحیت شهریار طبعی نکونام اندیش سر عجز پای درویش بشستند خدمتگزاران شاه سر تن حمام گرد چو آستان ملک سر نهاد نیایش کن دست نهاد درآمد ایوان شاهنشه بخت جوان باد دولت ره رفت#رو مملکت منزل کز آسیب آزرده دید#بین دل دید#بین سرگران شراب مگر خرابات دید#بین خراب ملک ملک پیرایه بس راضی نگریست#نگر آزار کس سخن دامان گوهر فشاند نطق شه آستین برفشاند پسند آمدش حسن گفتار مرد نزد خواند#خوان اکرام زر گوهر شکر قدوم بپرسیدش گوهر زاد بوم بگفت پرسیدش سرگذشت قربت کس گذشت#گذر ملک دل گو دست وزارت سپارد#سپار دوید#دو ولیکن بتدریج انجمن سستی خندید#خند را عقل بباید آزمود قدر هنر پایگاه فزود برد دل جور غم بار نا آزموده کار چو قاضی فکرت نوشت#نویس سجل گشت#گرد دستاربندان خجل کن چو سوفار داشت#دار شست آنگه پرتاب کردی دست چو یوسف صلاح تمیز سال عزیز ایام آمد#آ بس نشاید غور اخلاق کشف خردمند پاکیزه دین مرد نکو سیرت دید روشن قیاس سخن سنج مقدار مردم شناس را بزرگ مه دید نشاندش زبردست دستور چنان حکمت معرفت کار بست#بند نه درون ملک قلم کز وجودی آمد#آ الم زبان حرف گیر ببست حرف بد آمد#آ دست حسود جو خیانت دید#بین کار آمد#آ چو گندم تپید روشن دل ملک پرتو وزیر کهن غم نو دید#بین خردمند رخنه توانست#توان زدن طعنه امین بد اندیش طشتند مور نشاید رخنه زور ملک خورشید طلعت غلام سر کمر بست#بند مدام پاکیزه پیکر چو حور پری چو خورشید ماه سدیگر بری صورت گفت#گو نموده آیینه همتا سخن دانا شیرین سخن اندر شمشاد بن چو دید#بین کاوصاف خلق نکوست طبع هواخواه گشت#گرد دوست میل بشر میلی چو کوتاه\\u200cبینان شر آسایش آنگه خبر داشت#دار داشت#دار چو خواهی_که قدرت ماند#مان بلند دل ای خواجه ساده رویان مبند وگر بود#باش غرض حذر کن هیبت زیان وزیر اندر شمه برد خبث حکایت شاه برد دانست#دان خواند#خوان کیست نخواهد_به سامان ملک زیست سفر کردگان لاابالی زیند پرورده ملک دولت نیند شنید#شنو بندگان سر خیانت پسند شهوت پرس نشاید خیره تباه بد نامی آرد ایوان شاه مگر نعمت شه فرامش دید#بین تباهی خام پندار توانست#توان سخن زود گفت#گو یقین فرمانبرانم گوش آغوش اندر آغوش گفت#گو ملک راست را چو آزمودم آزمای ناخوب\\u200cتر صورت شرح بد مرد نیکروزی مباد بداندیش خرده دست بزرگ آتش بتافت خرده توان آتش افروختن آنگه درخت کهن سوختن ملک چنان گرم خبر جوشش برآمد چو مرجل سر غضب دست خون درویش ولیکن سکون دست پرورده کشتن مردی ستم سردی میازار پرورده خویشتن چو تیر تیر مزن نعمت نبایست پروردن چو خواهی_به بیداد خون خوردن هنر یقین شد#شو ایوان شاه قرین شد#شو کنون یقین گشت#گرد گناه گفتار دشمن گزند مخواه ملک دل راز پوشیده قول حک نیوشیده دل ای خردمند زندان راز چو گفت#گو آمد#آ زنجیر پوشیده کار مرد خلل دید را هشیار مرد ناگه زی بنده پری چهره لب خنده کس جان هوش حکایت کنانند خموش چو دیده دیدار کردی دلیر گشت#گرد چو مستسقی دجله سیر ملک گمان بدی راست سودا خشمگین خواست حسن تدبیر را آهستگی گفتش ای نیک نام خردمند پنداشتم اسرار ملک امین داشت#دار گمان بردمت زیرک هوشمند ندانستمت خیره ناپسند مرتفع پایه گناه خطا بدگهر پرورم لاجرم خیانت روا داردم حرم برآورد سر مرد بسیاردان خسرو کاردان مرا دامن جرم پاک بود#باش خبث بداندیش باک خاطر در هرگز ظن رفت#رو دانست#دان رفت#رو شهنشاه گفت#گو بر گفت#گو خصمان اندر وزیر کهن دانست#دان بگوی کرد#کن تسبم کن دست لب کز آمد#آ آمد#آ شگفت حسود دید#بین خودم کجا زبان بد ساعت انگاشتم دشمن بنشاند شه زیردست منش چو سلطان فضیلت نهد و دانست#دان دشمن پیم مرا قیامت گرفت#گیر دوست چو دید#بین عز ذل اوست این گفت#گو حدیث درست گوش بنده داشت#دار دانست#دان کجا دید#بین کتاب ابلیس دید خواب صنوبر دیدن چو حور چو خورشید چهره می\\u200cتافت نور فرا ای عجب تو فرشته بود#باش بدین نیکو کاین داشت#دار حسن قمر جهانی زشت سمر نقش بند ایوان شاه دژم کرده\\u200cست زشت تباه شنید#شنو سخن بخت برگشته دیو زاری برآورد بانگ غریو که نیکبخت شکل ولیکن قلم کف دشمن مرا نام نیک لیک گفت#گو بداندیش نیک وزیر جاه آب بریخت فرسنگ مکر گریخت ولیکن نیندیشم خشم شاه دلاور سخن بی\\u200cگناه محتسب غم سنگ ترازو بارش چو حرف برآید درست قلم مرا حرف گیر غم ملک سخن گفتن خیره ماند#مان سر دست فرمانده برفشاند مجرم زرق زبان جرم گشت#گرد بری خصم همانا شنید#شنو آخر چشم خودم دید#بین کز زمره خلق بارگاه نمی\\u200cباشدت اینان نگاه خندید#خند مرد سخنگو حق سخن حق نشاید نهفت نکته #هست شنید#شنو حکمت روان باد دولت قوی دید#بین درویش دستگاه حسرت توانگر نگاه مرا دستگاه جوان برف لهو لعب زندگانی برف دیدار اینان داشت#دار شکیب سرمایه دار حسنند زیب مرا چهره گلفام بلورین اندام غایتم رشت کفن مو چو پنبه\\u200cست دوک بدن مرا جعد شبرنگ قبا نازک تنگ رسته در دهن چو دیوار خشت سیمین بپای کنون نگه کن وقت سخن بیفتاده چو سور کهن اینان حسرت نگریست#نگر عمر تلف یاد آورد#آور برف روز عزیز پایان رسید#رس ناگه روز چو دانشور معنی بسفت بگفت کز محال ارکان دولت نگه شاه کز خوب لفظ معنی مخواه شاهد رواست دانست#دان بدین شاهد عذر خواست عقل ار آهستگی کردمی گفتار خصم بیازردمی تند سبک دست بردن تیغ دندان برد دست دریغ صاحب غرض سخن شنید#شنو که\\u200cگر کار پشیمان شد#شو نکونام جاه تشریف مال بیفزود بدگو گوشمال تدبیر دستور دانشور نیک بشد نام کشور عدل کرم سال ملک راند برف نکونام ماند#مان پادشاه دین پرورند بازو دین گوی دولت برد#بر دید#بین عهد کس وگر #هست بوبکر سعد بس بهشتی درخت ای پادشاه افکنده سایه طمع بخت نیک اختر بال هما افکند سر خرد دولت بخشید#بخش همای\\u200cگر اقبال خواهی_در سایه آی خدایا رحمت کرد#کن سایه خلق گسترده دعا گوی دول بنده\\u200cوار خدایا سایه پاینده صواب کشش بند توانست#توان سر کشته پیوند خداوند فرمان را شکوه غوغا مردم گشت#گرد ستوه سر غرور تحمل تهی حرام تاج شاهنشه گفت#گو چو جنگ پای چو خشم آیدت عقل تحمل عقل #هست عقلی خشم زیردست چو لشکر برون تاخت خشم کمین انصاف ماند#مان تقوی دین دید#بین دیو فلک گریزند چندین ملک', 'حکم شرع آب خوردن خطاست وگر خون فتوی ریخت#ریز رواست شرع فتوی هلاک الا نداری کشتن باک وگر دانست#دان اندر تبار کس ببخشای راحت رس گنه مرد ستمکاره تاوان زن طفل بیچاره تنت زورمند لشکر گران ولیکن اقلیم دشمن مران حصار گریزد بلند رسید#رس کشور گنه گزند کن احوال زندان بی\\u200cگنه چو بازارگان دیار بمرد مالش خساست دستبرد کز بگریند زار گفت#گو تبار مسکین اقلیم غربت بمرد متاع کز ماند#مان ظالم ببرد بیندیش طفلک پدر وز آه دل دردمند حذر بسا نام نیکو پنجاه سال نام زشت پایمال پسندیده کار جاوید نام تطاول کرد#کن مال عام آفاق سر سر پادشاست چو مال توانگر ستاند گداست بمرد تهیدست آزاد مرد پهلوی مسکین شکم کرد#کن', 'شنید#شنو فرمانده دادگر قبا داشت#دار آستر گفتش ای خسرو نیکروز دیبا چینی قبا دوخت#دوز بگفت قدر ستر آسایش وز گذشت#گذر زیب آرایش بهر می\\u200cستانم خراج زینت تخت تاج چو زن حله تن مردی کجا دفع دشمن مرا صد آز هواست ولیکن خزینه مراست خزاین بهر لشکر بهر آذین زیور سپاه خوشدل بود#باش شاه ولایت نگاه چو دشمن خر روستا برد ملک باج ده خورد#خور مخالف خر برد سلطان خراج اقبال ماند#مان تخت تاج رعیت درخت پروری کام دل دوستان خورد#خور بی\\u200cرحم بیخ بارش مکن نادان حیف خویشتن مروت بود#باش افتاده زور برد مرغ دون دانه مور کس خورد#خور جوان بخت زیردستان گرفت#گیر سخت زیردستی آمد#آ پای حذر کن نالیدن خدا چو گرفتن نرمی دیار پیکار خون مشام میار مردی ملک زمین نیرزد خون چکد زمین شنید#شنو جمشید فرخ سرشت سرچشمه سنگ نوشت#نویس چشمه بس دم زد#زن برفتند چشم زد#زن گرفت#گیر عالم مردی زور ولیکن برد#بر گور چو دشمن باشدت دسترس مرنجانش کاو غصه بس عدو زنده سرگشته پیرامنت خون کشته گردن', 'شنید#شنو فرخ تبار لشکر جدا ماند#مان روز شکار دوان آمدش گله\\u200cبانی دل فرخنده کیش مگر دشمن جنگ دور دوخت#دوز تیر خدنگ کمان کیان زه راست دم وجود خواست بگفت ای خداوند ایران تور چشم بد روزگار آن اسب شه پرورم خدمت بدین مرغزار اندر ملک دل رفته خندید#خند ای نکوهیده را یاوری فرخ سروش وگر زه آورد#آور گوش نگهبان مرعی خندید#خند نصیحت منعم نهفت تدبیر محمود را نکوست دشمن دانست#دان شهنشه دوست چنان مهتر شرط زیست کهتر دانست#دان کیست مرا بار حضر دید#بین خیل چراگاه پرسید#پرس کنون مهر آمد#آ پیشباز دانست#دان بداندیش توانست#توان ای نامور شهریار اسب برون آرم صد هزار مرا گله\\u200cبانی عقل را گله باری بپای تخت ملک خلل غم تدبیر شاه شبان', 'کی شنید#شنو ناله دادخواه کیوان بر کله خوابگاه چنان خسب کآید فغان گوش دادخواهی برآرد خروش نالد ظالم توس جور کاو جور توس سگ دامن کاروان درید دهقان نادان سگ پرورید دلیر آمد#آ سعدیا سخن چو تیغ دست فتح کرد#کن گفت#گو دانست#دان حق رشوت ستانی عشوه ده طمع بند دفتر حکمت شد#شو طمع بگسل هرچه دانست#دان بگوی', 'خبر گردن\\u200cکشی عراق گفت#گو مسکین طاق دری هستی امیدوار امید نشینان برآر نخواهی_که دل دردمند دل دردمند برآور بند پریشان خاطر دادخواه براندازد مملکت پادشاه خفته خنک حرم نیمروز غریب برون گو گرما سوخت#سوز ستاننده کس خداست توانست#توان پادشه دادخواست', 'بزرگ اهل تمیز حکایت ابن عبدالعزیز بودش نگین انگشتر فرو مانده قیمت جوهر شب گفت#گو جرم گیتی فروز دری روشنایی چو روز قضا درآمد خشک سال بدر سیما مردم هلال چو مردم آرام قوت دید#بین آسوده مروت دید#بین چو دید#بین زهر کام خلق کیش گذشت#گذر آب نوشین حلق بفرمود بفروختندش سیم رحم آمدش غریب یتیم هفته نقد تاراج درویش مسکین محتاج فتادند ملامت کن دست آمد#آ چنان شنید#شنو گفت#گو باران دمع فرو می\\u200cدویدش عارض چو شمع زشت پیرایه شهریار دل شهر ناتوان فگار مرا انگشتر بی\\u200cنگین نشاید دل خلق اندوهگین خنک آسایش مرد زن گزیند آرایش خویشتن کرد#کن رغبت هنرپرور شادی غم خوش بخسبد ملک سریر نپندارم آسوده خسبد فقیر وگر زنده شب دیر بخسبند مردم آرام ناز بحمدالله سیرت راست اتابک ابوبکر بن سعد راست کس فتنه پارس نشان دید#بین مگر قامت مهوشان بیتم خوش گوش مجلس می\\u200cسرودند دوش مرا راحت زندگی دوش ماهرو آغوش مر چو دید#بین سر خواب مست دوید#دو گفت#گو ای سرو پست دمی نرگس خواب نوشین شد#شو چو گلبن خندید#خند چو بلبل بگوی می\\u200cخسبی ای فتنه روزگار آمد#آ می\\u200cلعل نوشین بیار نگه شوریده خواب مرا فتنه خواند#خوان گفت#گو مخفت ایام سلطان روشن نفس دید#بین دگر فتنه بیدار کس', 'اخبار شاه پیشینه #هست تکله تخت زنگ دوران کس نیازرد کس سبق برد بس ره صاحبدلی عمر سر حاصل خواست#خواه کنج عبادت دریاب روز #هست چو می\\u200cبگذرد جاه ملک سریر نبرد جهان دولت الا فقیر چو بشنید دانا روشن نفس تند برآشفت کای تکله بس طریقت خدمت خلق تسبیح سجاده دلق تخت سلطان با اخلاق پاکیزه درویش با صدق ارادت بسته\\u200cدار طامات دعوی زبان بسته\\u200cدار قدم اندر طریقت دم اصل دم بی\\u200cقدم بزرگ نقد صفا خرقه قبا']\n"
     ]
    }
   ],
   "source": [
    "lemmatizer = Lemmatizer()\n",
    "lemmatize_boostan_poems = []\n",
    "all_cleaned_tokens = []\n",
    "stopwords = [normalizer.normalize(x.strip()) for x in stopwords_list()]+[\"-\", \"/\", \"ز\", '\\ufeff', \"]\", \"[\", \"?\", \"؟\"]\n",
    "\n",
    "poems_boostan = []\n",
    "\n",
    "for p in normalized_boostan_poems:\n",
    "    all_tokens =  word_tokenize(p)\n",
    "    all_tokens_nonstop = [t for t in (all_tokens) if t not in stopwords]\n",
    "    all_tokens_nonstop = [t for t in (all_tokens_nonstop) if len(t)>1]\n",
    "\n",
    "    all_tokens_lemm = []\n",
    "    for i in all_tokens_nonstop:\n",
    "        all_tokens_lemm.append(lemmatizer.lemmatize(i))\n",
    "    \n",
    "    poems_boostan.append(' '.join(all_tokens_lemm))\n",
    "\n",
    "print(poems_boostan[0:10])"
   ]
  },
  {
   "cell_type": "markdown",
   "id": "9df9dd08",
   "metadata": {},
   "source": [
    "# Embedding with BERT"
   ]
  },
  {
   "cell_type": "code",
   "execution_count": 27,
   "id": "482137c0",
   "metadata": {},
   "outputs": [
    {
     "name": "stdout",
     "output_type": "stream",
     "text": [
      "\u001b[33mWARNING: Ignoring invalid distribution -sgiref (/Library/Frameworks/Python.framework/Versions/3.9/lib/python3.9/site-packages)\u001b[0m\u001b[33m\n",
      "\u001b[0m\u001b[33mWARNING: Ignoring invalid distribution - (/Library/Frameworks/Python.framework/Versions/3.9/lib/python3.9/site-packages)\u001b[0m\u001b[33m\n",
      "\u001b[0m\u001b[33mWARNING: Ignoring invalid distribution -sgiref (/Library/Frameworks/Python.framework/Versions/3.9/lib/python3.9/site-packages)\u001b[0m\u001b[33m\n",
      "\u001b[0m\u001b[33mWARNING: Ignoring invalid distribution - (/Library/Frameworks/Python.framework/Versions/3.9/lib/python3.9/site-packages)\u001b[0m\u001b[33m\n",
      "\u001b[0mRequirement already satisfied: sentence_transformers in /Library/Frameworks/Python.framework/Versions/3.9/lib/python3.9/site-packages (2.2.0)\n",
      "Requirement already satisfied: transformers<5.0.0,>=4.6.0 in /Library/Frameworks/Python.framework/Versions/3.9/lib/python3.9/site-packages (from sentence_transformers) (4.19.2)\n",
      "Requirement already satisfied: tqdm in /Library/Frameworks/Python.framework/Versions/3.9/lib/python3.9/site-packages (from sentence_transformers) (4.62.3)\n",
      "Requirement already satisfied: torch>=1.6.0 in /Library/Frameworks/Python.framework/Versions/3.9/lib/python3.9/site-packages (from sentence_transformers) (1.10.1)\n",
      "Requirement already satisfied: torchvision in /Library/Frameworks/Python.framework/Versions/3.9/lib/python3.9/site-packages (from sentence_transformers) (0.11.2)\n",
      "Requirement already satisfied: numpy in /Library/Frameworks/Python.framework/Versions/3.9/lib/python3.9/site-packages (from sentence_transformers) (1.21.0)\n",
      "Requirement already satisfied: scikit-learn in /Library/Frameworks/Python.framework/Versions/3.9/lib/python3.9/site-packages (from sentence_transformers) (1.0.2)\n",
      "Requirement already satisfied: scipy in /Library/Frameworks/Python.framework/Versions/3.9/lib/python3.9/site-packages (from sentence_transformers) (1.7.0)\n",
      "Requirement already satisfied: nltk in /Library/Frameworks/Python.framework/Versions/3.9/lib/python3.9/site-packages (from sentence_transformers) (3.3)\n",
      "Requirement already satisfied: sentencepiece in /Library/Frameworks/Python.framework/Versions/3.9/lib/python3.9/site-packages (from sentence_transformers) (0.1.96)\n",
      "Requirement already satisfied: huggingface-hub in /Library/Frameworks/Python.framework/Versions/3.9/lib/python3.9/site-packages (from sentence_transformers) (0.7.0)\n",
      "Requirement already satisfied: typing-extensions in /Library/Frameworks/Python.framework/Versions/3.9/lib/python3.9/site-packages (from torch>=1.6.0->sentence_transformers) (4.0.1)\n",
      "Requirement already satisfied: filelock in /Library/Frameworks/Python.framework/Versions/3.9/lib/python3.9/site-packages (from transformers<5.0.0,>=4.6.0->sentence_transformers) (3.0.12)\n",
      "Requirement already satisfied: regex!=2019.12.17 in /Library/Frameworks/Python.framework/Versions/3.9/lib/python3.9/site-packages (from transformers<5.0.0,>=4.6.0->sentence_transformers) (2022.6.2)\n",
      "Requirement already satisfied: tokenizers!=0.11.3,<0.13,>=0.11.1 in /Library/Frameworks/Python.framework/Versions/3.9/lib/python3.9/site-packages (from transformers<5.0.0,>=4.6.0->sentence_transformers) (0.12.1)\n",
      "Requirement already satisfied: pyyaml>=5.1 in /Library/Frameworks/Python.framework/Versions/3.9/lib/python3.9/site-packages (from transformers<5.0.0,>=4.6.0->sentence_transformers) (6.0)\n",
      "Requirement already satisfied: requests in /Library/Frameworks/Python.framework/Versions/3.9/lib/python3.9/site-packages (from transformers<5.0.0,>=4.6.0->sentence_transformers) (2.26.0)\n",
      "Requirement already satisfied: packaging>=20.0 in /Library/Frameworks/Python.framework/Versions/3.9/lib/python3.9/site-packages (from transformers<5.0.0,>=4.6.0->sentence_transformers) (21.2)\n",
      "Requirement already satisfied: six in /Library/Frameworks/Python.framework/Versions/3.9/lib/python3.9/site-packages (from nltk->sentence_transformers) (1.15.0)\n",
      "Requirement already satisfied: threadpoolctl>=2.0.0 in /Library/Frameworks/Python.framework/Versions/3.9/lib/python3.9/site-packages (from scikit-learn->sentence_transformers) (3.0.0)\n",
      "Requirement already satisfied: joblib>=0.11 in /Library/Frameworks/Python.framework/Versions/3.9/lib/python3.9/site-packages (from scikit-learn->sentence_transformers) (1.0.1)\n",
      "Requirement already satisfied: pillow!=8.3.0,>=5.3.0 in /Library/Frameworks/Python.framework/Versions/3.9/lib/python3.9/site-packages (from torchvision->sentence_transformers) (8.4.0)\n",
      "Requirement already satisfied: pyparsing<3,>=2.0.2 in /Library/Frameworks/Python.framework/Versions/3.9/lib/python3.9/site-packages (from packaging>=20.0->transformers<5.0.0,>=4.6.0->sentence_transformers) (2.4.7)\n",
      "Requirement already satisfied: charset-normalizer~=2.0.0 in /Library/Frameworks/Python.framework/Versions/3.9/lib/python3.9/site-packages (from requests->transformers<5.0.0,>=4.6.0->sentence_transformers) (2.0.7)\n",
      "Requirement already satisfied: urllib3<1.27,>=1.21.1 in /Library/Frameworks/Python.framework/Versions/3.9/lib/python3.9/site-packages (from requests->transformers<5.0.0,>=4.6.0->sentence_transformers) (1.26.7)\n",
      "Requirement already satisfied: certifi>=2017.4.17 in /Library/Frameworks/Python.framework/Versions/3.9/lib/python3.9/site-packages (from requests->transformers<5.0.0,>=4.6.0->sentence_transformers) (2021.10.8)\n",
      "Requirement already satisfied: idna<4,>=2.5 in /Library/Frameworks/Python.framework/Versions/3.9/lib/python3.9/site-packages (from requests->transformers<5.0.0,>=4.6.0->sentence_transformers) (3.3)\n",
      "\u001b[33mWARNING: Ignoring invalid distribution -sgiref (/Library/Frameworks/Python.framework/Versions/3.9/lib/python3.9/site-packages)\u001b[0m\u001b[33m\n",
      "\u001b[0m\u001b[33mWARNING: Ignoring invalid distribution - (/Library/Frameworks/Python.framework/Versions/3.9/lib/python3.9/site-packages)\u001b[0m\u001b[33m\n",
      "\u001b[0m\u001b[33mWARNING: Ignoring invalid distribution -sgiref (/Library/Frameworks/Python.framework/Versions/3.9/lib/python3.9/site-packages)\u001b[0m\u001b[33m\n",
      "\u001b[0m\u001b[33mWARNING: Ignoring invalid distribution - (/Library/Frameworks/Python.framework/Versions/3.9/lib/python3.9/site-packages)\u001b[0m\u001b[33m\n",
      "\u001b[0m\u001b[33mWARNING: Ignoring invalid distribution -sgiref (/Library/Frameworks/Python.framework/Versions/3.9/lib/python3.9/site-packages)\u001b[0m\u001b[33m\n",
      "\u001b[0m\u001b[33mWARNING: Ignoring invalid distribution - (/Library/Frameworks/Python.framework/Versions/3.9/lib/python3.9/site-packages)\u001b[0m\u001b[33m\n",
      "\u001b[0m\u001b[33mWARNING: Ignoring invalid distribution -sgiref (/Library/Frameworks/Python.framework/Versions/3.9/lib/python3.9/site-packages)\u001b[0m\u001b[33m\n",
      "\u001b[0m\u001b[33mWARNING: Ignoring invalid distribution - (/Library/Frameworks/Python.framework/Versions/3.9/lib/python3.9/site-packages)\u001b[0m\u001b[33m\n",
      "\u001b[0m"
     ]
    }
   ],
   "source": [
    "!pip install sentence_transformers"
   ]
  },
  {
   "cell_type": "code",
   "execution_count": 28,
   "id": "4f34afa4",
   "metadata": {},
   "outputs": [],
   "source": [
    "from sentence_transformers import SentenceTransformer"
   ]
  },
  {
   "cell_type": "code",
   "execution_count": 39,
   "id": "399dae00",
   "metadata": {},
   "outputs": [
    {
     "data": {
      "text/plain": [
       "8127"
      ]
     },
     "execution_count": 39,
     "metadata": {},
     "output_type": "execute_result"
    }
   ],
   "source": [
    "mesra_boostan = list(filter(None, mesra_boostan))\n",
    "len(mesra_boostan)"
   ]
  },
  {
   "cell_type": "code",
   "execution_count": 159,
   "id": "021ebdf3",
   "metadata": {},
   "outputs": [
    {
     "data": {
      "text/plain": [
       "230"
      ]
     },
     "execution_count": 159,
     "metadata": {},
     "output_type": "execute_result"
    }
   ],
   "source": [
    "poems_array = list(filter(None, poems_array))\n",
    "len(poems_array)"
   ]
  },
  {
   "cell_type": "markdown",
   "id": "b3247b13",
   "metadata": {},
   "source": [
    "## Mesra Embedding"
   ]
  },
  {
   "cell_type": "code",
   "execution_count": null,
   "id": "6fd0993b",
   "metadata": {},
   "outputs": [],
   "source": [
    "model_mesra = SentenceTransformer('bert-base-nli-mean-tokens')"
   ]
  },
  {
   "cell_type": "code",
   "execution_count": 41,
   "id": "d9bd5979",
   "metadata": {},
   "outputs": [
    {
     "data": {
      "text/plain": [
       "(8127, 768)"
      ]
     },
     "execution_count": 41,
     "metadata": {},
     "output_type": "execute_result"
    }
   ],
   "source": [
    "mesra_boostan_embeddings = model_mesra.encode(mesra_boostan) \n",
    "mesra_boostan_embeddings.shape"
   ]
  },
  {
   "cell_type": "markdown",
   "id": "b7c8c847",
   "metadata": {},
   "source": [
    "## Poems Embedding"
   ]
  },
  {
   "cell_type": "code",
   "execution_count": 188,
   "id": "3380811c",
   "metadata": {},
   "outputs": [],
   "source": [
    "model_poems = SentenceTransformer('bert-base-nli-mean-tokens')"
   ]
  },
  {
   "cell_type": "code",
   "execution_count": 189,
   "id": "07ed49a9",
   "metadata": {},
   "outputs": [
    {
     "data": {
      "text/plain": [
       "(230, 768)"
      ]
     },
     "execution_count": 189,
     "metadata": {},
     "output_type": "execute_result"
    }
   ],
   "source": [
    "poems_boostan_embeddings = model_poems.encode(poems_array) \n",
    "poems_boostan_embeddings.shape"
   ]
  },
  {
   "cell_type": "markdown",
   "id": "997e2a47",
   "metadata": {},
   "source": [
    "# Clustering with KMeans"
   ]
  },
  {
   "cell_type": "markdown",
   "id": "aaec9285",
   "metadata": {},
   "source": [
    "## Mesras Clustering"
   ]
  },
  {
   "cell_type": "markdown",
   "id": "b324eab8",
   "metadata": {},
   "source": [
    "Finding the optimum K for the least distortion"
   ]
  },
  {
   "cell_type": "code",
   "execution_count": 47,
   "id": "5c7620b4",
   "metadata": {},
   "outputs": [
    {
     "data": {
      "image/png": "[encoded data removed]",
      "text/plain": [
       "<Figure size 432x288 with 1 Axes>"
      ]
     },
     "metadata": {
      "needs_background": "light"
     },
     "output_type": "display_data"
    }
   ],
   "source": [
    "# calculate distortion for a range of number of cluster\n",
    "distortions = []\n",
    "for i in range(1, 11):\n",
    "    km = KMeans(\n",
    "        n_clusters=i, init='random',\n",
    "        n_init=10, max_iter=300,\n",
    "        tol=1e-04, random_state=0\n",
    "    )\n",
    "    km.fit(mesra_boostan_embeddings)\n",
    "    distortions.append(km.inertia_)\n",
    "\n",
    "# plot\n",
    "plt.plot(range(1, 11), distortions, marker='o')\n",
    "plt.xlabel('Number of clusters')\n",
    "plt.ylabel('Distortion')\n",
    "plt.show()"
   ]
  },
  {
   "cell_type": "code",
   "execution_count": 48,
   "id": "8ad6a9e3",
   "metadata": {},
   "outputs": [
    {
     "name": "stdout",
     "output_type": "stream",
     "text": [
      "[0 9 7 ... 7 6 7]\n"
     ]
    }
   ],
   "source": [
    "#Import required module\n",
    "from sklearn.cluster import KMeans\n",
    " \n",
    "#Initialize the class object\n",
    "kmeans = KMeans(n_clusters= 10, random_state=0)\n",
    " \n",
    "#predict the labels of clusters.\n",
    "label = kmeans.fit_predict(mesra_boostan_embeddings)\n",
    " \n",
    "print(label)"
   ]
  },
  {
   "cell_type": "code",
   "execution_count": 53,
   "id": "876b0c4f",
   "metadata": {},
   "outputs": [
    {
     "data": {
      "image/png": "[encoded data removed]",
      "text/plain": [
       "<Figure size 432x288 with 1 Axes>"
      ]
     },
     "metadata": {
      "needs_background": "light"
     },
     "output_type": "display_data"
    }
   ],
   "source": [
    "import matplotlib.pyplot as plt\n",
    " \n",
    "#filter rows of original data\n",
    "filtered_label0 = mesra_boostan_embeddings[label == 0]\n",
    " \n",
    "#plotting the results\n",
    "plt.scatter(filtered_label0[:,0] , filtered_label0[:,1])\n",
    "plt.show()"
   ]
  },
  {
   "cell_type": "code",
   "execution_count": 51,
   "id": "3c045fb4",
   "metadata": {},
   "outputs": [
    {
     "data": {
      "image/png": "[encoded data removed]",
      "text/plain": [
       "<Figure size 432x288 with 1 Axes>"
      ]
     },
     "metadata": {
      "needs_background": "light"
     },
     "output_type": "display_data"
    }
   ],
   "source": [
    "#Getting unique labels\n",
    " \n",
    "u_labels = np.unique(label)\n",
    " \n",
    "#plotting the results:\n",
    " \n",
    "for i in u_labels:\n",
    "    plt.scatter(mesra_boostan_embeddings[label == i , 0] , mesra_boostan_embeddings[label == i , 1] , label = i)\n",
    "plt.legend()\n",
    "plt.show()"
   ]
  },
  {
   "cell_type": "markdown",
   "id": "3db8a403",
   "metadata": {},
   "source": [
    "## Poems Clustering"
   ]
  },
  {
   "cell_type": "markdown",
   "id": "66389343",
   "metadata": {},
   "source": [
    "Finding the optimum K for the least distortion"
   ]
  },
  {
   "cell_type": "code",
   "execution_count": 190,
   "id": "795f7e64",
   "metadata": {},
   "outputs": [
    {
     "data": {
      "image/png": "[encoded data removed]",
      "text/plain": [
       "<Figure size 432x288 with 1 Axes>"
      ]
     },
     "metadata": {
      "needs_background": "light"
     },
     "output_type": "display_data"
    }
   ],
   "source": [
    "# calculate distortion for a range of number of cluster\n",
    "distortions = []\n",
    "for i in range(1, 11):\n",
    "    km = KMeans(\n",
    "        n_clusters=i, init='random',\n",
    "        n_init=10, max_iter=300,\n",
    "        tol=1e-04, random_state=0\n",
    "    )\n",
    "    km.fit(poems_boostan_embeddings)\n",
    "    distortions.append(km.inertia_)\n",
    "\n",
    "# plot\n",
    "plt.plot(range(1, 11), distortions, marker='o')\n",
    "plt.xlabel('Number of clusters')\n",
    "plt.ylabel('Distortion')\n",
    "plt.show()"
   ]
  },
  {
   "cell_type": "code",
   "execution_count": 191,
   "id": "f0711b71",
   "metadata": {},
   "outputs": [
    {
     "name": "stdout",
     "output_type": "stream",
     "text": [
      "[3 3 6 2 9 3 5 9 9 2 5 3 6 8 0 4 4 8 5 6 3 6 6 6 3 8 8 8 2 6 4 6 5 4 5 3 4\n",
      " 1 9 8 7 2 8 5 2 9 9 4 9 3 6 5 6 2 5 4 3 0 0 7 8 9 5 7 3 4 6 9 6 4 5 9 6 9\n",
      " 3 1 8 3 6 9 6 3 9 3 7 2 6 9 3 2 2 3 9 4 2 5 0 3 2 4 6 6 3 9 6 3 9 9 9 3 2\n",
      " 6 5 4 9 1 6 5 0 0 0 3 9 6 6 5 6 3 4 3 1 6 9 6 9 0 0 6 7 4 5 1 4 8 9 5 5 2\n",
      " 1 9 7 0 1 2 1 4 6 6 8 9 4 4 2 1 3 1 8 6 3 9 5 9 3 9 6 6 6 4 2 8 1 3 3 0 1\n",
      " 9 2 1 1 6 3 0 3 4 6 4 2 6 1 7 6 8 3 8 4 8 3 8 4 7 7 6 9 2 8 6 2 6 1 6 6 1\n",
      " 0 2 2 3 4 5 2 3]\n"
     ]
    }
   ],
   "source": [
    "#Import required module\n",
    "from sklearn.cluster import KMeans\n",
    " \n",
    "#Initialize the class object\n",
    "kmeans_poems = KMeans(n_clusters= 10, random_state=0)\n",
    " \n",
    "#predict the labels of clusters.\n",
    "label = kmeans.fit_predict(poems_boostan_embeddings)\n",
    " \n",
    "print(label)"
   ]
  },
  {
   "cell_type": "code",
   "execution_count": 192,
   "id": "7a72b65e",
   "metadata": {},
   "outputs": [
    {
     "data": {
      "image/png": "[encoded data removed]",
      "text/plain": [
       "<Figure size 432x288 with 1 Axes>"
      ]
     },
     "metadata": {
      "needs_background": "light"
     },
     "output_type": "display_data"
    }
   ],
   "source": [
    "import matplotlib.pyplot as plt\n",
    " \n",
    "#filter rows of original data\n",
    "filtered_label0 = poems_boostan_embeddings[label == 0]\n",
    " \n",
    "#plotting the results\n",
    "plt.scatter(filtered_label0[:,0] , filtered_label0[:,1])\n",
    "plt.show()"
   ]
  },
  {
   "cell_type": "code",
   "execution_count": 193,
   "id": "91a20dcc",
   "metadata": {},
   "outputs": [
    {
     "data": {
      "image/png": "[encoded data removed]",
      "text/plain": [
       "<Figure size 432x288 with 1 Axes>"
      ]
     },
     "metadata": {
      "needs_background": "light"
     },
     "output_type": "display_data"
    }
   ],
   "source": [
    "#Getting unique labels\n",
    " \n",
    "u_labels = np.unique(label)\n",
    " \n",
    "#plotting the results:\n",
    " \n",
    "for i in u_labels:\n",
    "    plt.scatter(poems_boostan_embeddings[label == i , 0] , poems_boostan_embeddings[label == i , 1] , label = i)\n",
    "plt.legend()\n",
    "plt.show()"
   ]
  },
  {
   "cell_type": "markdown",
   "id": "1fac7aa2",
   "metadata": {},
   "source": [
    "# Comparing Clusters with Boostan Babs"
   ]
  },
  {
   "cell_type": "code",
   "execution_count": 194,
   "id": "dacb8646",
   "metadata": {},
   "outputs": [],
   "source": [
    "cluster_0 = []\n",
    "cluster_1 = []\n",
    "cluster_2 = []\n",
    "cluster_3 = []\n",
    "cluster_4 = []\n",
    "cluster_5 = []\n",
    "cluster_6 = []\n",
    "cluster_7 = []\n",
    "cluster_8 = []\n",
    "cluster_9 = []\n",
    "for i in range(len(label)):\n",
    "    if label[i] == 0:\n",
    "        cluster_0.append(poems_array[i])\n",
    "    elif label[i] == 1:\n",
    "        cluster_1.append(poems_array[i])\n",
    "    elif label[i] == 2:\n",
    "        cluster_2.append(poems_array[i])\n",
    "    elif label[i] == 3:\n",
    "        cluster_3.append(poems_array[i])\n",
    "    elif label[i] == 4:\n",
    "        cluster_4.append(poems_array[i])\n",
    "    elif label[i] == 5:\n",
    "        cluster_5.append(poems_array[i])\n",
    "    elif label[i] == 6:\n",
    "        cluster_6.append(poems_array[i])\n",
    "    elif label[i] == 7:\n",
    "        cluster_7.append(poems_array[i])\n",
    "    elif label[i] == 8:\n",
    "        cluster_8.append(poems_array[i])\n",
    "    elif label[i] == 9:\n",
    "        cluster_9.append(poems_array[i])"
   ]
  },
  {
   "cell_type": "code",
   "execution_count": 195,
   "id": "05ff2ed8",
   "metadata": {},
   "outputs": [],
   "source": [
    "def preprocess_query(query):\n",
    "    normalizer = Normalizer()\n",
    "    lemmatizer = Lemmatizer()\n",
    "    stopwords = [normalizer.normalize(x.strip()) for x in stopwords_list()]+[\"-\", \"/\", \"ز\", '\\ufeff', \"]\", \"[\", \"?\", \"؟\"]\n",
    "    query_normalized = normalizer.normalize(query)\n",
    "    all_tokens = word_tokenize(query_normalized)\n",
    "    all_tokens_nonstop = [t for t in (all_tokens) if t not in stopwords]\n",
    "    all_tokens_nonstop = [t for t in (all_tokens_nonstop) if len(t)>1]\n",
    "\n",
    "    all_tokens_lemm = []\n",
    "    for i in all_tokens_nonstop:\n",
    "        all_tokens_lemm.append(lemmatizer.lemmatize(i))\n",
    "        \n",
    "    return ' '.join(all_tokens_lemm)"
   ]
  },
  {
   "cell_type": "code",
   "execution_count": 196,
   "id": "af1011e0",
   "metadata": {},
   "outputs": [],
   "source": [
    "boostan_baabs ={}\n",
    "for file in boostan_file_name:\n",
    "    if file.startswith('b'):\n",
    "        baab_name = int(re.findall(r'\\d+',file)[0])\n",
    "    else :\n",
    "        baab_name = 'n'+ re.findall(r'\\d+',file)[0]\n",
    "    if not baab_name in boostan_baabs.keys():\n",
    "        boostan_baabs[baab_name] = []\n",
    "    fi = open(\"./Boostan/\"+file, \"r\", encoding=\"utf-8\")\n",
    "    text = fi.read().replace('\\n',' ')\n",
    "    boostan_baabs[baab_name].append(text)"
   ]
  },
  {
   "cell_type": "code",
   "execution_count": 197,
   "id": "37734b15",
   "metadata": {},
   "outputs": [],
   "source": [
    "cluster_0_numbers = {}\n",
    "cluster_1_numbers = {}\n",
    "cluster_2_numbers = {}\n",
    "cluster_3_numbers = {}\n",
    "cluster_4_numbers = {}\n",
    "cluster_5_numbers = {}\n",
    "cluster_6_numbers = {}\n",
    "cluster_7_numbers = {}\n",
    "cluster_8_numbers = {}\n",
    "cluster_9_numbers = {}\n",
    "\n",
    "def find_baabs(cluster):\n",
    "    cluster_0_numbers = {}\n",
    "    for baab in boostan_baabs:\n",
    "        if baab not in cluster_0_numbers.keys():\n",
    "            cluster_0_numbers[baab] = []\n",
    "        for poems in boostan_baabs[baab]:\n",
    "            for i in cluster:\n",
    "                if i in poems:\n",
    "                    cluster_0_numbers[baab].append(1)\n",
    "    return cluster_0_numbers\n",
    "\n",
    "cluster_0_numbers = find_baabs(cluster_0)\n",
    "cluster_1_numbers = find_baabs(cluster_1)\n",
    "cluster_2_numbers = find_baabs(cluster_2)\n",
    "cluster_3_numbers = find_baabs(cluster_3)\n",
    "cluster_4_numbers = find_baabs(cluster_4)\n",
    "cluster_5_numbers = find_baabs(cluster_5)\n",
    "cluster_6_numbers = find_baabs(cluster_6)\n",
    "cluster_7_numbers = find_baabs(cluster_7)\n",
    "cluster_8_numbers = find_baabs(cluster_8)\n",
    "cluster_9_numbers = find_baabs(cluster_9)"
   ]
  },
  {
   "cell_type": "code",
   "execution_count": 198,
   "id": "741ee923",
   "metadata": {},
   "outputs": [],
   "source": [
    "def get_percentage(cluster_dict,cluster_num):\n",
    "    percentage_dict = {}\n",
    "    for i in cluster_dict:\n",
    "        percentage_dict[i] = (sum(cluster_dict[i])/len(cluster_num))*100\n",
    "    return percentage_dict"
   ]
  },
  {
   "cell_type": "code",
   "execution_count": 199,
   "id": "4c6e612e",
   "metadata": {},
   "outputs": [],
   "source": [
    "cluster_0_percentages = get_percentage(cluster_0_numbers,cluster_0)\n",
    "cluster_1_percentages = get_percentage(cluster_1_numbers,cluster_1)\n",
    "cluster_2_percentages = get_percentage(cluster_2_numbers,cluster_2)\n",
    "cluster_3_percentages = get_percentage(cluster_3_numbers,cluster_3)\n",
    "cluster_4_percentages = get_percentage(cluster_4_numbers,cluster_4)\n",
    "cluster_5_percentages = get_percentage(cluster_5_numbers,cluster_5)\n",
    "cluster_6_percentages = get_percentage(cluster_6_numbers,cluster_6)\n",
    "cluster_7_percentages = get_percentage(cluster_7_numbers,cluster_7)\n",
    "cluster_8_percentages = get_percentage(cluster_8_numbers,cluster_8)\n",
    "cluster_9_percentages = get_percentage(cluster_9_numbers,cluster_9)"
   ]
  },
  {
   "cell_type": "code",
   "execution_count": 200,
   "id": "c0a8ebe1",
   "metadata": {},
   "outputs": [
    {
     "name": "stdout",
     "output_type": "stream",
     "text": [
      " 4 : highest presence in a baab is : 23.076923076923077\n",
      " 7 : highest presence in a baab is : 35.294117647058826\n",
      " 3 : highest presence in a baab is : 21.73913043478261\n",
      " 3 : highest presence in a baab is : 20.588235294117645\n",
      " 1 : highest presence in a baab is : 20.833333333333336\n",
      " 1 : highest presence in a baab is : 26.31578947368421\n",
      " 1 : highest presence in a baab is : 19.047619047619047\n",
      " 9 : highest presence in a baab is : 22.22222222222222\n",
      " 1 : highest presence in a baab is : 33.33333333333333\n",
      " 4 : highest presence in a baab is : 19.35483870967742\n"
     ]
    }
   ],
   "source": [
    "import operator\n",
    "print(\" {} : highest presence in a baab is : {}\".\n",
    "      format(max(cluster_0_percentages.items(),key=operator.itemgetter(1))[0],\n",
    "             cluster_0_percentages[max(cluster_0_percentages.items(),key=operator.itemgetter(1))[0]]))\n",
    "\n",
    "print(\" {} : highest presence in a baab is : {}\".\n",
    "      format(max(cluster_1_percentages.items(),key=operator.itemgetter(1))[0],\n",
    "             cluster_1_percentages[max(cluster_1_percentages.items(),key=operator.itemgetter(1))[0]]))\n",
    "\n",
    "print(\" {} : highest presence in a baab is : {}\"\n",
    "      .format(max(cluster_2_percentages.items(),key=operator.itemgetter(1))[0],\n",
    "              cluster_2_percentages[max(cluster_2_percentages.items(),key=operator.itemgetter(1))[0]]))\n",
    "\n",
    "print(\" {} : highest presence in a baab is : {}\"\n",
    "      .format(max(cluster_3_percentages.items(),key=operator.itemgetter(1))[0],\n",
    "              cluster_3_percentages[max(cluster_3_percentages.items(),key=operator.itemgetter(1))[0]]))\n",
    "\n",
    "print(\" {} : highest presence in a baab is : {}\"\n",
    "      .format(max(cluster_4_percentages.items(),key=operator.itemgetter(1))[0],\n",
    "              cluster_4_percentages[max(cluster_4_percentages.items(),key=operator.itemgetter(1))[0]]))\n",
    "\n",
    "print(\" {} : highest presence in a baab is : {}\"\n",
    "      .format(max(cluster_5_percentages.items(),key=operator.itemgetter(1))[0],\n",
    "              cluster_5_percentages[max(cluster_5_percentages.items(),key=operator.itemgetter(1))[0]]))\n",
    "\n",
    "print(\" {} : highest presence in a baab is : {}\"\n",
    "      .format(max(cluster_6_percentages.items(),key=operator.itemgetter(1))[0],\n",
    "              cluster_6_percentages[max(cluster_6_percentages.items(),key=operator.itemgetter(1))[0]]))\n",
    "\n",
    "print(\" {} : highest presence in a baab is : {}\"\n",
    "      .format(max(cluster_7_percentages.items(),key=operator.itemgetter(1))[0],\n",
    "              cluster_7_percentages[max(cluster_7_percentages.items(),key=operator.itemgetter(1))[0]]))\n",
    "\n",
    "print(\" {} : highest presence in a baab is : {}\"\n",
    "      .format(max(cluster_8_percentages.items(),key=operator.itemgetter(1))[0],\n",
    "              cluster_8_percentages[max(cluster_8_percentages.items(),key=operator.itemgetter(1))[0]]))\n",
    "\n",
    "print(\" {} : highest presence in a baab is : {}\"\n",
    "      .format(max(cluster_9_percentages.items(),key=operator.itemgetter(1))[0],\n",
    "              cluster_9_percentages[max(cluster_9_percentages.items(),key=operator.itemgetter(1))[0]]))"
   ]
  }
 ],
 "metadata": {
  "kernelspec": {
   "display_name": "Python 3 (ipykernel)",
   "language": "python",
   "name": "python3"
  },
  "language_info": {
   "codemirror_mode": {
    "name": "ipython",
    "version": 3
   },
   "file_extension": ".py",
   "mimetype": "text/x-python",
   "name": "python",
   "nbconvert_exporter": "python",
   "pygments_lexer": "ipython3",
   "version": "3.9.0"
  }
 },
 "nbformat": 4,
 "nbformat_minor": 5
}
