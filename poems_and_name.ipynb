{
 "cells": [
  {
   "cell_type": "code",
   "execution_count": 1,
   "id": "2157969e",
   "metadata": {},
   "outputs": [
    {
     "name": "stdout",
     "output_type": "stream",
     "text": [
      "Requirement already satisfied: bs4 in c:\\users\\user\\anaconda3\\lib\\site-packages (0.0.1)\n",
      "Requirement already satisfied: beautifulsoup4 in c:\\users\\user\\anaconda3\\lib\\site-packages (from bs4) (4.9.3)\n",
      "Requirement already satisfied: soupsieve>1.2 in c:\\users\\user\\anaconda3\\lib\\site-packages (from beautifulsoup4->bs4) (2.2.1)\n"
     ]
    },
    {
     "name": "stderr",
     "output_type": "stream",
     "text": [
      "ERROR: Could not find a version that satisfies the requirement pands\n",
      "ERROR: No matching distribution found for pands\n"
     ]
    }
   ],
   "source": [
    "!pip install bs4\n",
    "!pip install pands"
   ]
  },
  {
   "cell_type": "code",
   "execution_count": 8,
   "id": "28587bcb",
   "metadata": {},
   "outputs": [],
   "source": [
    "from bs4 import BeautifulSoup\n",
    "import requests\n",
    "import pandas as pd\n",
    "import re"
   ]
  },
  {
   "cell_type": "code",
   "execution_count": 9,
   "id": "02a701ae",
   "metadata": {},
   "outputs": [],
   "source": [
    "boostan_url = \"https://ganjoor.net/saadi/boostan\""
   ]
  },
  {
   "cell_type": "markdown",
   "id": "02227c06",
   "metadata": {},
   "source": [
    "request to boostan"
   ]
  },
  {
   "cell_type": "code",
   "execution_count": 10,
   "id": "52cdd201",
   "metadata": {},
   "outputs": [
    {
     "data": {
      "text/plain": [
       "<Response [200]>"
      ]
     },
     "execution_count": 10,
     "metadata": {},
     "output_type": "execute_result"
    }
   ],
   "source": [
    "boostan_response = requests.get(boostan_url)\n",
    "boostan_response"
   ]
  },
  {
   "cell_type": "markdown",
   "id": "4344b79f",
   "metadata": {},
   "source": [
    "extract boostan links"
   ]
  },
  {
   "cell_type": "code",
   "execution_count": 11,
   "id": "251ba081",
   "metadata": {},
   "outputs": [
    {
     "name": "stdout",
     "output_type": "stream",
     "text": [
      "[<a href=\"/saadi/boostan/niyayesh\">در نیایش خداوند</a>, <a href=\"/saadi/boostan/bab1\">باب اول در عدل و تدبیر و رای</a>, <a href=\"/saadi/boostan/bab2\">باب دوم در احسان</a>, <a href=\"/saadi/boostan/bab3\">باب سوم در عشق و مستی و شور</a>, <a href=\"/saadi/boostan/bab4\">باب چهارم در تواضع</a>, <a href=\"/saadi/boostan/bab5\">باب پنجم در رضا</a>, <a href=\"/saadi/boostan/bab6\">باب ششم در قناعت</a>, <a href=\"/saadi/boostan/bab7\">باب هفتم در عالم تربیت</a>, <a href=\"/saadi/boostan/bab8\">باب هشتم در شکر بر عافیت</a>, <a href=\"/saadi/boostan/bab9\">باب نهم در توبه و راه صواب</a>, <a href=\"/saadi/boostan/bab10\">باب دهم در مناجات و ختم کتاب</a>]\n"
     ]
    }
   ],
   "source": [
    "boostan_page = BeautifulSoup(boostan_response.content, \"html.parser\")\n",
    "boostan_links = boostan_page.find_all('a', {'href': re.compile(r'/saadi/boostan/')})\n",
    "\n",
    "print(boostan_links)"
   ]
  },
  {
   "cell_type": "markdown",
   "id": "6741e19d",
   "metadata": {},
   "source": [
    "clean the arrays and just exist link"
   ]
  },
  {
   "cell_type": "code",
   "execution_count": 12,
   "id": "ed2acce2",
   "metadata": {},
   "outputs": [],
   "source": [
    "pre_url = \"https://ganjoor.net/\""
   ]
  },
  {
   "cell_type": "markdown",
   "id": "4b152b69",
   "metadata": {},
   "source": [
    "## start Boostan crawling"
   ]
  },
  {
   "cell_type": "code",
   "execution_count": 13,
   "id": "2455cb2a",
   "metadata": {},
   "outputs": [
    {
     "data": {
      "text/plain": [
       "['https://ganjoor.net//saadi/boostan/niyayesh',\n",
       " 'https://ganjoor.net//saadi/boostan/bab1',\n",
       " 'https://ganjoor.net//saadi/boostan/bab2',\n",
       " 'https://ganjoor.net//saadi/boostan/bab3',\n",
       " 'https://ganjoor.net//saadi/boostan/bab4',\n",
       " 'https://ganjoor.net//saadi/boostan/bab5',\n",
       " 'https://ganjoor.net//saadi/boostan/bab6',\n",
       " 'https://ganjoor.net//saadi/boostan/bab7',\n",
       " 'https://ganjoor.net//saadi/boostan/bab8',\n",
       " 'https://ganjoor.net//saadi/boostan/bab9',\n",
       " 'https://ganjoor.net//saadi/boostan/bab10']"
      ]
     },
     "execution_count": 13,
     "metadata": {},
     "output_type": "execute_result"
    }
   ],
   "source": [
    "boostan_list_urls = []\n",
    "\n",
    "for link in boostan_links:\n",
    "    link = pre_url + link['href']\n",
    "    boostan_list_urls.append(link)\n",
    "\n",
    "boostan_list_urls"
   ]
  },
  {
   "cell_type": "code",
   "execution_count": 14,
   "metadata": {},
   "outputs": [
    {
     "data": {
      "text/plain": [
       "['niyayesh',\n",
       " 'bab1',\n",
       " 'bab2',\n",
       " 'bab3',\n",
       " 'bab4',\n",
       " 'bab5',\n",
       " 'bab6',\n",
       " 'bab7',\n",
       " 'bab8',\n",
       " 'bab9',\n",
       " 'bab10']"
      ]
     },
     "execution_count": 14,
     "metadata": {},
     "output_type": "execute_result"
    }
   ],
   "source": [
    "boostan_sec_names = []\n",
    "y = len(boostan_list_urls)\n",
    "\n",
    "\n",
    "\n",
    "for x in range(y):\n",
    "    boostan_sec_names.append(boostan_list_urls[x].split(\"/\")[6])\n",
    "\n",
    "boostan_sec_names"
   ]
  },
  {
   "cell_type": "code",
   "execution_count": 15,
   "id": "1aad3d58",
   "metadata": {},
   "outputs": [
    {
     "data": {
      "text/plain": [
       "[<a href=\"/saadi/boostan/bab1/sh1\">بخش ۱ - سر آغاز</a>,\n",
       " <a href=\"/saadi/boostan/bab1/sh2\">بخش ۲ - حکایت در تدبیر و تأخیر در سیاست</a>,\n",
       " <a href=\"/saadi/boostan/bab1/sh3\">بخش ۳ - گفتار اندر بخشایش بر ضعیفان</a>,\n",
       " <a href=\"/saadi/boostan/bab1/sh4\">بخش ۴ - در معنی شفقت بر حال رعیت</a>,\n",
       " <a href=\"/saadi/boostan/bab1/sh5\">بخش ۵ - حکایت در شناختن دوست و دشمن را</a>]"
      ]
     },
     "execution_count": 15,
     "metadata": {},
     "output_type": "execute_result"
    }
   ],
   "source": [
    "url = boostan_list_urls[1]\n",
    "res = requests.get(url)\n",
    "rgx = '/saadi/boostan/' + boostan_sec_names[1] + '/sh'\n",
    "content = BeautifulSoup(res.content, \"html.parser\").find('article').find_all('a', {'href': re.compile(rgx)})\n",
    "content[0:5]"
   ]
  },
  {
   "cell_type": "code",
   "execution_count": 16,
   "id": "109400f5",
   "metadata": {},
   "outputs": [
    {
     "data": {
      "text/plain": [
       "['بخش ۱ - سر آغاز',\n",
       " 'بخش ۲ - حکایت در تدبیر و تأخیر در سیاست',\n",
       " 'بخش ۳ - گفتار اندر بخشایش بر ضعیفان',\n",
       " 'بخش ۴ - در معنی شفقت بر حال رعیت',\n",
       " 'بخش ۵ - حکایت در شناختن دوست و دشمن را',\n",
       " 'بخش ۶ - گفتار اندر نظر در حق رعیت مظلوم',\n",
       " 'بخش ۷ - هم در این معنی',\n",
       " 'بخش ۸ - حکایت در معنی شفقت',\n",
       " 'بخش ۹ - حکایت اتابک تکله',\n",
       " 'بخش ۱۰ - حکایت ملک روم با دانشمند',\n",
       " 'بخش ۱۱ - حکایت مرزبان ستمگار با زاهد',\n",
       " 'بخش ۱۲ - گفتار اندر نگه داشتن خاطر درویشان',\n",
       " 'بخش ۱۳ - حکایت در معنی رحمت با ناتوانان در حال توانایی',\n",
       " 'بخش ۱۴ - حکایت',\n",
       " 'بخش ۱۵ - اندر معنی عدل و ظلم و ثمرهٔ آن',\n",
       " 'بخش ۱۶ - حکایت برادران ظالم و عادل و عاقبت ایشان',\n",
       " 'بخش ۱۷ - صفت جمعیت اوقات درویشان راضی',\n",
       " 'بخش ۱۸ - حکایت عابد و استخوان پوسیده',\n",
       " 'بخش ۱۹ - گفتار اندر نکوکاری و بدکاری و عاقبت آنها',\n",
       " 'بخش ۲۰ - حکایت شحنه مردم آزار',\n",
       " 'بخش ۲۱ - حکایت حجاج یوسف',\n",
       " 'بخش ۲۲ - در نواخت رعیت و رحمت بر افتادگان',\n",
       " 'بخش ۲۳ - حکایت در این معنی',\n",
       " 'بخش ۲۴ - گفتار اندر بی\\u200cوفائی دنیا',\n",
       " 'بخش ۲۵ - در تغیر روزگار و انتقال مملکت',\n",
       " 'بخش ۲۶ - حکایت قزل ارسلان با دانشمند',\n",
       " 'بخش ۲۷ - حکایت',\n",
       " 'بخش ۲۸ - حکایت پادشاه غور با روستایی',\n",
       " 'بخش ۲۹ - حکایت مأمون با کنیزک',\n",
       " 'بخش ۳۰ - حکایت درویش صادق و پادشاه بیدادگر',\n",
       " 'بخش ۳۱ - حکایت زورآزمای تنگدست',\n",
       " 'بخش ۳۲ - حکایت در معنی خاموشی از نصیحت کسی که پند نپذیرد',\n",
       " 'بخش ۳۳ - گفتار اندر رای و تدبیر ملک و لشکرکشی',\n",
       " 'بخش ۳۴ - گفتار اندر نواخت لشکریان در حالت امن',\n",
       " 'بخش ۳۵ - گفتار اندر تقویت مردان کار آزموده',\n",
       " 'بخش ۳۶ - گفتار اندر دلداری هنرمندان',\n",
       " 'بخش ۳۷ - گفتار اندر حذر کردن از دشمنان',\n",
       " 'بخش ۳۸ - گفتار اندر دفع دشمن به رای و تدبیر',\n",
       " 'بخش ۳۹ - گفتار اندر ملاطفت با دشمن از روی عاقبت اندیشی',\n",
       " 'بخش ۴۰ - گفتار اندر حذر از دشمنی که در طاعت آید',\n",
       " 'بخش ۴۱ - گفتار اندر پوشیدن راز خویش']"
      ]
     },
     "execution_count": 16,
     "metadata": {},
     "output_type": "execute_result"
    }
   ],
   "source": [
    "c = str(content[0])\n",
    "re.sub('<.*?>', '', c)\n",
    "poem_names = []\n",
    "\n",
    "for i in content:\n",
    "    c = str(i)\n",
    "    poem_names.append(re.sub('<.*?>', '', c))\n",
    "\n",
    "poem_names\n"
   ]
  },
  {
   "cell_type": "code",
   "execution_count": 17,
   "id": "b2277880",
   "metadata": {},
   "outputs": [],
   "source": [
    "poem_names = []\n",
    "ind = 0\n",
    "for url in boostan_list_urls:\n",
    "    res = requests.get(url)\n",
    "    rgx = '/saadi/boostan/' + boostan_sec_names[ind] + '/sh'\n",
    "    ind += 1\n",
    "    content = BeautifulSoup(res.content, \"html.parser\").find('article').find_all('a', {'href': re.compile(rgx)})\n",
    "    contentToStr = str(content[0])\n",
    "    re.sub('<.*?>', '', contentToStr)\n",
    "    for i in content:\n",
    "        contentToStr = str(i)\n",
    "        poem_names.append(re.sub('<.*?>', '', contentToStr))"
   ]
  },
  {
   "cell_type": "markdown",
   "id": "ee7dc758",
   "metadata": {},
   "source": [
    "Names of all poems saved in poem_names"
   ]
  },
  {
   "cell_type": "code",
   "execution_count": 18,
   "id": "652c45a9",
   "metadata": {},
   "outputs": [
    {
     "data": {
      "text/plain": [
       "['بخش ۱ - سرآغاز',\n",
       " 'بخش ۲ - فی نعت سید المرسلین علیه الصلوة و السلام',\n",
       " 'بخش ۳ - سبب نظم کتاب',\n",
       " 'بخش ۴ - مدح ابوبکر بن سعد بن زنگی',\n",
       " 'بخش ۵ - مدح محمد بن سعد بن ابوبکر',\n",
       " 'بخش ۶ - حکایت',\n",
       " 'بخش ۱ - سر آغاز',\n",
       " 'بخش ۲ - حکایت در تدبیر و تأخیر در سیاست',\n",
       " 'بخش ۳ - گفتار اندر بخشایش بر ضعیفان',\n",
       " 'بخش ۴ - در معنی شفقت بر حال رعیت']"
      ]
     },
     "execution_count": 18,
     "metadata": {},
     "output_type": "execute_result"
    }
   ],
   "source": [
    "poem_names[0:10]"
   ]
  },
  {
   "cell_type": "markdown",
   "id": "d5ba830e",
   "metadata": {},
   "source": [
    "# Save each poem to one element in array"
   ]
  },
  {
   "cell_type": "code",
   "execution_count": 2,
   "id": "521e9677",
   "metadata": {},
   "outputs": [],
   "source": [
    "import os"
   ]
  },
  {
   "cell_type": "code",
   "execution_count": 18,
   "id": "99886f62",
   "metadata": {},
   "outputs": [],
   "source": [
    "path = './Boostan/'\n",
    "all_path = []\n",
    "for filename in os.listdir(path):\n",
    "    all_files = os.path.join(path, filename)\n",
    "    if os.path.isfile(all_files):\n",
    "        all_path.append(all_files)\n"
   ]
  },
  {
   "cell_type": "code",
   "execution_count": 19,
   "id": "8927cfd6",
   "metadata": {},
   "outputs": [
    {
     "data": {
      "text/plain": [
       "['./Boostan/bab10sh1.txt',\n",
       " './Boostan/bab10sh2.txt',\n",
       " './Boostan/bab10sh3.txt',\n",
       " './Boostan/bab10sh4.txt',\n",
       " './Boostan/bab1sh1.txt',\n",
       " './Boostan/bab1sh10.txt',\n",
       " './Boostan/bab1sh11.txt',\n",
       " './Boostan/bab1sh12.txt',\n",
       " './Boostan/bab1sh13.txt',\n",
       " './Boostan/bab1sh14.txt',\n",
       " './Boostan/bab1sh15.txt',\n",
       " './Boostan/bab1sh16.txt',\n",
       " './Boostan/bab1sh17.txt',\n",
       " './Boostan/bab1sh18.txt',\n",
       " './Boostan/bab1sh19.txt',\n",
       " './Boostan/bab1sh2.txt',\n",
       " './Boostan/bab1sh20.txt',\n",
       " './Boostan/bab1sh21.txt',\n",
       " './Boostan/bab1sh22.txt',\n",
       " './Boostan/bab1sh23.txt',\n",
       " './Boostan/bab1sh24.txt',\n",
       " './Boostan/bab1sh25.txt',\n",
       " './Boostan/bab1sh26.txt',\n",
       " './Boostan/bab1sh27.txt',\n",
       " './Boostan/bab1sh28.txt',\n",
       " './Boostan/bab1sh29.txt',\n",
       " './Boostan/bab1sh3.txt',\n",
       " './Boostan/bab1sh30.txt',\n",
       " './Boostan/bab1sh31.txt',\n",
       " './Boostan/bab1sh32.txt',\n",
       " './Boostan/bab1sh33.txt',\n",
       " './Boostan/bab1sh34.txt',\n",
       " './Boostan/bab1sh35.txt',\n",
       " './Boostan/bab1sh36.txt',\n",
       " './Boostan/bab1sh37.txt',\n",
       " './Boostan/bab1sh38.txt',\n",
       " './Boostan/bab1sh39.txt',\n",
       " './Boostan/bab1sh4.txt',\n",
       " './Boostan/bab1sh40.txt',\n",
       " './Boostan/bab1sh41.txt',\n",
       " './Boostan/bab1sh5.txt',\n",
       " './Boostan/bab1sh6.txt',\n",
       " './Boostan/bab1sh7.txt',\n",
       " './Boostan/bab1sh8.txt',\n",
       " './Boostan/bab1sh9.txt',\n",
       " './Boostan/bab2sh1.txt',\n",
       " './Boostan/bab2sh10.txt',\n",
       " './Boostan/bab2sh11.txt',\n",
       " './Boostan/bab2sh12.txt',\n",
       " './Boostan/bab2sh13.txt',\n",
       " './Boostan/bab2sh14.txt',\n",
       " './Boostan/bab2sh15.txt',\n",
       " './Boostan/bab2sh16.txt',\n",
       " './Boostan/bab2sh17.txt',\n",
       " './Boostan/bab2sh18.txt',\n",
       " './Boostan/bab2sh19.txt',\n",
       " './Boostan/bab2sh2.txt',\n",
       " './Boostan/bab2sh20.txt',\n",
       " './Boostan/bab2sh21.txt',\n",
       " './Boostan/bab2sh22.txt',\n",
       " './Boostan/bab2sh23.txt',\n",
       " './Boostan/bab2sh24.txt',\n",
       " './Boostan/bab2sh25.txt',\n",
       " './Boostan/bab2sh26.txt',\n",
       " './Boostan/bab2sh27.txt',\n",
       " './Boostan/bab2sh28.txt',\n",
       " './Boostan/bab2sh29.txt',\n",
       " './Boostan/bab2sh3.txt',\n",
       " './Boostan/bab2sh30.txt',\n",
       " './Boostan/bab2sh4.txt',\n",
       " './Boostan/bab2sh5.txt',\n",
       " './Boostan/bab2sh6.txt',\n",
       " './Boostan/bab2sh7.txt',\n",
       " './Boostan/bab2sh8.txt',\n",
       " './Boostan/bab2sh9.txt',\n",
       " './Boostan/bab3sh1.txt',\n",
       " './Boostan/bab3sh10.txt',\n",
       " './Boostan/bab3sh11.txt',\n",
       " './Boostan/bab3sh12.txt',\n",
       " './Boostan/bab3sh13.txt',\n",
       " './Boostan/bab3sh14.txt',\n",
       " './Boostan/bab3sh15.txt',\n",
       " './Boostan/bab3sh16.txt',\n",
       " './Boostan/bab3sh17.txt',\n",
       " './Boostan/bab3sh18.txt',\n",
       " './Boostan/bab3sh19.txt',\n",
       " './Boostan/bab3sh2.txt',\n",
       " './Boostan/bab3sh20.txt',\n",
       " './Boostan/bab3sh21.txt',\n",
       " './Boostan/bab3sh22.txt',\n",
       " './Boostan/bab3sh23.txt',\n",
       " './Boostan/bab3sh24.txt',\n",
       " './Boostan/bab3sh25.txt',\n",
       " './Boostan/bab3sh3.txt',\n",
       " './Boostan/bab3sh4.txt',\n",
       " './Boostan/bab3sh5.txt',\n",
       " './Boostan/bab3sh6.txt',\n",
       " './Boostan/bab3sh7.txt',\n",
       " './Boostan/bab3sh8.txt',\n",
       " './Boostan/bab3sh9.txt',\n",
       " './Boostan/bab4sh1.txt',\n",
       " './Boostan/bab4sh10.txt',\n",
       " './Boostan/bab4sh11.txt',\n",
       " './Boostan/bab4sh12.txt',\n",
       " './Boostan/bab4sh13.txt',\n",
       " './Boostan/bab4sh14.txt',\n",
       " './Boostan/bab4sh15.txt',\n",
       " './Boostan/bab4sh16.txt',\n",
       " './Boostan/bab4sh17.txt',\n",
       " './Boostan/bab4sh18.txt',\n",
       " './Boostan/bab4sh19.txt',\n",
       " './Boostan/bab4sh2.txt',\n",
       " './Boostan/bab4sh20.txt',\n",
       " './Boostan/bab4sh21.txt',\n",
       " './Boostan/bab4sh22.txt',\n",
       " './Boostan/bab4sh23.txt',\n",
       " './Boostan/bab4sh24.txt',\n",
       " './Boostan/bab4sh25.txt',\n",
       " './Boostan/bab4sh26.txt',\n",
       " './Boostan/bab4sh27.txt',\n",
       " './Boostan/bab4sh28.txt',\n",
       " './Boostan/bab4sh3.txt',\n",
       " './Boostan/bab4sh4.txt',\n",
       " './Boostan/bab4sh5.txt',\n",
       " './Boostan/bab4sh6.txt',\n",
       " './Boostan/bab4sh7.txt',\n",
       " './Boostan/bab4sh8.txt',\n",
       " './Boostan/bab4sh9.txt',\n",
       " './Boostan/bab5sh1.txt',\n",
       " './Boostan/bab5sh10.txt',\n",
       " './Boostan/bab5sh11.txt',\n",
       " './Boostan/bab5sh12.txt',\n",
       " './Boostan/bab5sh13.txt',\n",
       " './Boostan/bab5sh14.txt',\n",
       " './Boostan/bab5sh15.txt',\n",
       " './Boostan/bab5sh2.txt',\n",
       " './Boostan/bab5sh3.txt',\n",
       " './Boostan/bab5sh4.txt',\n",
       " './Boostan/bab5sh5.txt',\n",
       " './Boostan/bab5sh6.txt',\n",
       " './Boostan/bab5sh7.txt',\n",
       " './Boostan/bab5sh8.txt',\n",
       " './Boostan/bab5sh9.txt',\n",
       " './Boostan/bab6sh1.txt',\n",
       " './Boostan/bab6sh10.txt',\n",
       " './Boostan/bab6sh11.txt',\n",
       " './Boostan/bab6sh12.txt',\n",
       " './Boostan/bab6sh13.txt',\n",
       " './Boostan/bab6sh14.txt',\n",
       " './Boostan/bab6sh15.txt',\n",
       " './Boostan/bab6sh2.txt',\n",
       " './Boostan/bab6sh3.txt',\n",
       " './Boostan/bab6sh4.txt',\n",
       " './Boostan/bab6sh5.txt',\n",
       " './Boostan/bab6sh6.txt',\n",
       " './Boostan/bab6sh7.txt',\n",
       " './Boostan/bab6sh8.txt',\n",
       " './Boostan/bab6sh9.txt',\n",
       " './Boostan/bab7sh1.txt',\n",
       " './Boostan/bab7sh10.txt',\n",
       " './Boostan/bab7sh11.txt',\n",
       " './Boostan/bab7sh12.txt',\n",
       " './Boostan/bab7sh13.txt',\n",
       " './Boostan/bab7sh14.txt',\n",
       " './Boostan/bab7sh15.txt',\n",
       " './Boostan/bab7sh16.txt',\n",
       " './Boostan/bab7sh17.txt',\n",
       " './Boostan/bab7sh18.txt',\n",
       " './Boostan/bab7sh19.txt',\n",
       " './Boostan/bab7sh2.txt',\n",
       " './Boostan/bab7sh20.txt',\n",
       " './Boostan/bab7sh21.txt',\n",
       " './Boostan/bab7sh22.txt',\n",
       " './Boostan/bab7sh23.txt',\n",
       " './Boostan/bab7sh24.txt',\n",
       " './Boostan/bab7sh25.txt',\n",
       " './Boostan/bab7sh26.txt',\n",
       " './Boostan/bab7sh27.txt',\n",
       " './Boostan/bab7sh28.txt',\n",
       " './Boostan/bab7sh29.txt',\n",
       " './Boostan/bab7sh3.txt',\n",
       " './Boostan/bab7sh4.txt',\n",
       " './Boostan/bab7sh5.txt',\n",
       " './Boostan/bab7sh6.txt',\n",
       " './Boostan/bab7sh7.txt',\n",
       " './Boostan/bab7sh8.txt',\n",
       " './Boostan/bab7sh9.txt',\n",
       " './Boostan/bab8sh1.txt',\n",
       " './Boostan/bab8sh10.txt',\n",
       " './Boostan/bab8sh11.txt',\n",
       " './Boostan/bab8sh12.txt',\n",
       " './Boostan/bab8sh13.txt',\n",
       " './Boostan/bab8sh14.txt',\n",
       " './Boostan/bab8sh15.txt',\n",
       " './Boostan/bab8sh2.txt',\n",
       " './Boostan/bab8sh3.txt',\n",
       " './Boostan/bab8sh4.txt',\n",
       " './Boostan/bab8sh5.txt',\n",
       " './Boostan/bab8sh6.txt',\n",
       " './Boostan/bab8sh7.txt',\n",
       " './Boostan/bab8sh8.txt',\n",
       " './Boostan/bab8sh9.txt',\n",
       " './Boostan/bab9sh1.txt',\n",
       " './Boostan/bab9sh10.txt',\n",
       " './Boostan/bab9sh11.txt',\n",
       " './Boostan/bab9sh12.txt',\n",
       " './Boostan/bab9sh13.txt',\n",
       " './Boostan/bab9sh14.txt',\n",
       " './Boostan/bab9sh15.txt',\n",
       " './Boostan/bab9sh16.txt',\n",
       " './Boostan/bab9sh17.txt',\n",
       " './Boostan/bab9sh18.txt',\n",
       " './Boostan/bab9sh19.txt',\n",
       " './Boostan/bab9sh2.txt',\n",
       " './Boostan/bab9sh20.txt',\n",
       " './Boostan/bab9sh21.txt',\n",
       " './Boostan/bab9sh22.txt',\n",
       " './Boostan/bab9sh3.txt',\n",
       " './Boostan/bab9sh4.txt',\n",
       " './Boostan/bab9sh5.txt',\n",
       " './Boostan/bab9sh6.txt',\n",
       " './Boostan/bab9sh7.txt',\n",
       " './Boostan/bab9sh8.txt',\n",
       " './Boostan/bab9sh9.txt',\n",
       " './Boostan/niyayeshsh1.txt',\n",
       " './Boostan/niyayeshsh2.txt',\n",
       " './Boostan/niyayeshsh3.txt',\n",
       " './Boostan/niyayeshsh4.txt',\n",
       " './Boostan/niyayeshsh5.txt',\n",
       " './Boostan/niyayeshsh6.txt']"
      ]
     },
     "execution_count": 19,
     "metadata": {},
     "output_type": "execute_result"
    }
   ],
   "source": [
    "all_path"
   ]
  },
  {
   "cell_type": "code",
   "execution_count": 37,
   "id": "460ed488",
   "metadata": {},
   "outputs": [
    {
     "name": "stdout",
     "output_type": "stream",
     "text": [
      "['./Boostan/bab1sh1.txt', './Boostan/bab1sh2.txt', './Boostan/bab1sh3.txt', './Boostan/bab1sh4.txt', './Boostan/bab1sh5.txt', './Boostan/bab1sh6.txt', './Boostan/bab1sh7.txt', './Boostan/bab1sh8.txt', './Boostan/bab1sh9.txt']\n"
     ]
    }
   ],
   "source": [
    "import re\n",
    "\n",
    "def atoi(text):\n",
    "    return int(text) if text.isdigit() else text\n",
    "\n",
    "def natural_keys(text):\n",
    "    return [atoi(c) for i, c in enumerate( re.split(r'(\\d+)', text)) if c.isdigit()]\n",
    "\n",
    "alist=[\"b10sh1\", \"b2sh1\",\n",
    "\"b1sh1\"]\n",
    "\n",
    "all_path.sort(key=natural_keys)\n",
    "print(all_path[1:10])"
   ]
  },
  {
   "cell_type": "code",
   "execution_count": 38,
   "id": "184866e4",
   "metadata": {},
   "outputs": [
    {
     "data": {
      "text/plain": [
       "['به نام خداوندِ جان\\u200cآفرین حکیمِ سخن\\u200cدرزبان\\u200cآفرین خداوند بخشندهٔ دستگیر کریم خطابخش پوزش\\u200cپذیر عزیزی که هر کز درش سر بتافت به هر در که شد هیچ عزت نیافت سر پادشاهان گردن\\u200cفراز به درگاه او بر زمین نیاز نه گردن\\u200cکشان را بگیرد به فور نه عذرآوران را براند به جور وگر خشم گیرد ز کردار زشت چو بازآمدی ماجرا درنوشت اگر با پدر جنگ جوید کسی پدر بی\\u200cگمان خشم گیرد بسی وگر خویش راضی نباشد ز خویش چو بیگانگانش براند ز پیش وگر بنده چابک نباشد به کار عزیزش ندارد خداوندگار وگر بر رفیقان نباشی شفیق به فرسنگ بگریزد از تو رفیق وگر ترک خدمت کند لشکری شود شاهِ لشکرکُش از وی بری ولیکن خداوند بالا و پست به عصیان در رزق بر کس نبست دو کونش یکی قطره از بحر علم گنه بیند و پرده پوشد به حلم ادیم زمین، سفرهٔ عام اوست بر این خوان یغما چه دشمن چه دوست اگر بر جفاپیشه بشتافتی که از دست قهرش امان یافتی؟ بری ذاتش از تهمت ضد و جنس غنی ملکش از طاعت جن و انس پرستار امرش همه چیز و کس بنی\\u200cآدم و مرغ و مور و مگس چنان پهن خوان کرم گسترد که سیمرغ در قاف قسمت خورد لطیف کرم\\u200cگستر کارساز که دارای خَلق است و دانای راز مر او را رسد کبریا و منی که ملکش قدیم است و ذاتش غنی یکی را به سر برنهد تاج بخت یکی را به خاک اندر آرد ز تخت کلاه سعادت یکی بر سرش گلیم شقاوت یکی در برش گلستان کند آتشی بر خلیل گروهی بر آتش برد ز آب نیل گر آن است، منشور احسان اوست ور این است، توقیع فرمان اوست پس پرده بیند عمل\\u200cهای بد هم او پرده پوشد به آلای خود به تهدید اگر برکشد تیغ حکم بمانند کروبیان صم و بکم وگر دردهد یک صلای کرم عزازیل گوید نصیبی برم به درگاه لطف و بزرگیش بر بزرگان نهاده بزرگی ز سر فروماندگان را به رحمت قریب تضرع\\u200cکنان را به دعوت مجیب بر احوال نابوده، علمش بصیر به اسرار ناگفته، لطفش خبیر به قدرت، نگهدار بالا و شیب خداوند دیوان روز حسیب نه مستغنی از طاعتش پشت کس نه بر حرف او جای انگشت کس قدیمی نکوکار نیکی\\u200cپسند به کلک قضا در رحم نقش\\u200cبند ز مشرق به مغرب مه و آفتاب روان کرد و بنهاد گیتی بر آب زمین از تبِ لرزه آمد ستوه فروکوفت بر دامنش میخ کوه دهد نطفه را صورتی چون پری که کرده\\u200cست بر آب صورتگری؟ نهد لعل و پیروزه در صلب سنگ گل و لعل در شاخ پیروزه\\u200cرنگ ز ابر افکند قطره\\u200cای سویِ یَم ز صلب افکند نطفه\\u200cای در شکم از آن قطره لولوی لالا کند وز این، صورتی سروبالا کند بر او علم یک ذره پوشیده نیست که پیدا و پنهان به نزدش یکی\\u200cست مهیاکن روزی مار و مور اگر چند بی\\u200cدست\\u200cوپایند و زور به امرش وجود از عدم نقش بست که داند جز او کردن از نیست، هست؟ دگر ره به کتم عدم در برد وز آنجا به صحرای محشر برد جهان متفق بر الهیتش فرومانده از کنه ماهیتش بشر ماورای جلالش نیافت بصر منتهای جمالش نیافت نه بر اوج ذاتش پرد مرغ وهم نه در ذیل وصفش رسد دست فهم در این ورطه کشتی فروشد هزار که پیدا نشد تخته\\u200cای بر کنار چه شب\\u200cها نشستم در این سِیر، گم که دهشت گرفت آستینم که قم محیط است علم مَلِک بر بسیط قیاس تو بر وی نگردد محیط نه ادراک در کنه ذاتش رسید نه فکرت به غور صفاتش رسید توان در بلاغت به سَحبان رسید نه در کنه بی\\u200cچون سُبحان رسید که خاصان در این ره فَرَس رانده\\u200cاند به لااحصیٖ از تک فرومانده\\u200cاند نه هر جای مرکب توان تاختن که جاها سپر باید انداختن وگر سالکی محرم راز گشت ببندند بر وی در بازگشت کسی را در این بزم ساغر دهند که داروی بیهوشی\\u200cاش دَردهند یکی باز را دیده بردوخته\\u200cست یکی دیده\\u200cها باز و پر سوخته\\u200cست کسی ره سوی گنج قارون نِبُرد وگر بُرد، ره باز بیرون نبرد بمردم در این موج دریای خون کز او کس نبرده\\u200cست کشتی برون اگر طالبی کاین زمین طی کنی نخست اسب بازآمدن پی کنی تأمل در آیینهٔ دل کنی صفایی به\\u200cتدریج حاصل کنی مگر بویی از عشق مستت کند طلبکار عهد الستت کند به پای طلب ره بدان جا بری وز آنجا به بال محبت پری بِدَرَّد یقین پرده\\u200cهای خیال نماند سراپرده الا جلال دگر مرکب عقل را پویه نیست عنانش بگیرد تحیر که بیست در این بحر جز مرد راعی نرفت گم آن شد که دنبال داعی نرفت کسانی کز این راه برگشته\\u200cاند برفتند بسیار و سرگشته\\u200cاند خلاف پیمبر کسی ره گزید که هرگز به منزل نخواهد رسید مپندار سعدی که راه صفا توان رفت جز بر پی مصطفی ',\n",
       " 'شنیدم که در وقت نزع روان به هرمز چنین گفت نوشیروان که خاطر نگهدار درویش باش نه در بند آسایش خویش باش نیاساید اندر دیار تو کس چو آسایش خویش جویی و بس نیاید به نزدیک دانا پسند شبان خفته و گرگ در گوسفند برو پاس درویش محتاج دار که شاه از رعیت بود تاجدار رعیت چو بیخند و سلطان درخت درخت، ای پسر، باشد از بیخ سخت مکن تا توانی دل خلق ریش وگر می\\u200cکنی می\\u200cکنی بیخ خویش اگر جاده\\u200cای بایدت مستقیم ره پارسایان امید است و بیم طبیعت شود مرد را بخردی به امید نیکی و بیم بدی گر این هر دو در پادشه یافتی در اقلیم و ملکش پنه یافتی که بخشایش آرد بر امیدوار به امید بخشایش کردگار گزند کسانش نیاید پسند که ترسد که در ملکش آید گزند وگر در سرشت وی این خوی نیست در آن کشور آسودگی بوی نیست اگر پای بندی رضا پیش گیر وگر یک سواری سر خویش گیر فراخی در آن مرز و کشور مخواه که دلتنگ بینی رعیت ز شاه ز مستکبران دلاور بترس از آن کاو نترسد ز داور بترس دگر کشور آباد بیند به خواب که دارد دل اهل کشور خراب خرابی و بدنامی آید ز جور رسد پیش بین این سخن را به غور رعیت نشاید به بیداد کشت که مر سلطنت را پناهند و پشت مراعات دهقان کن از بهر خویش که مزدور خوشدل کند کار بیش مروت نباشد بدی با کسی کز او نیکویی دیده باشی بسی شنیدم که خسرو به شیرویه گفت در آن دم که چشمش زدیدن بخفت بر آن باش تا هرچه نیت کنی نظر در صلاح رعیت کنی الا تا نپیچی سر از عدل و رای که مردم ز دستت نپیچند پای گریزد رعیت ز بیدادگر کند نام زشتش به گیتی سمر بسی بر نیاید که بنیاد خود بکند آن که بنهاد بنیاد بد خرابی کند مرد شمشیر زن نه چندان که دود دل طفل و زن چراغی که بیوه زنی برفروخت بسی دیده باشی که شهری بسوخت از آن بهره\\u200cورتر در آفاق کیست که در ملکرانی به انصاف زیست چو نوبت رسد زین جهان غربتش ترحم فرستند بر تربتش بد و نیک مردم چو می\\u200cبگذرند همان به که نامت به نیکی برند خداترس را بر رعیت گمار که معمار ملک است پرهیزگار بد اندیش توست آن و خونخوار خلق که نفع تو جوید در آزار خلق ریاست به دست کسانی خطاست که از دستشان دستها برخداست نکوکارپرور نبیند بدی چو بد پروری خصم خون خودی مکافات موذی به مالش مکن که بیخش برآورد باید ز بن مکن صبر بر عامل ظلم دوست که از فربهی بایدش کند پوست سر گرگ باید هم اول برید نه چون گوسفندان مردم درید چه خوش گفت بازارگانی اسیر چو گردش گرفتند دزدان به تیر چو مردانگی آید از رهزنان چه مردان لشکر، چه خیل زنان شهنشه که بازارگان را بخست در خیر بر شهر و لشکر ببست کی آن جا دگر هوشمندان روند چو آوازهٔ رسم بد بشنوند؟ نکو بایدت نام و نیکی قبول نکو دار بازارگان و رسول بزرگان مسافر به جان پرورند که نام نکویی به عالم برند تبه گردد آن مملکت عن قریب کز او خاطر آزرده آید غریب غریب آشنا باش و سیاح دوست که سیاح جلاب نام نکوست نکو دار ضیف و مسافر عزیز وز آسیبشان بر حذر باش نیز ز بیگانه پرهیز کردن نکوست که دشمن توان بود در زی دوست غریبی که پر فتنه باشد سرش میازار و بیرون کن از کشورش تو گر خشم بر وی نگیری رواست که خود خوی بد دشمنش در قفاست وگر پارسی باشدش زاد و بوم به صنعاش مفرست و سقلاب و روم هم آن جا امانش مده تا به چاشت نشاید بلا بر دگر کس گماشت که گویند برگشته باد آن زمین کز او مردم آیند بیرون چنین قدیمان خود را بیفزای قدر که هرگز نیاید ز پرورده غدر چو خدمتگزاریت گردد کهن حق سالیانش فرامش مکن گر او را هرم دست خدمت ببست تو را بر کرم همچنان دست هست شنیدم که شاپور دم در کشید چو خسرو به رسمش قلم در کشید چو شد حالش از بینوایی تباه نبشت این حکایت به نزدیک شاه چو بذل تو کردم جوانی خویش به هنگام پیری مرانم ز پیش عمل گر دهی مرد منعم شناس که مفلس ندارد ز سلطان هراس چو مفلس فرو برد گردن به دوش از او بر نیاید دگر جز خروش چو مشرف دو دست از امانت بداشت بباید بر او ناظری بر گماشت ور او نیز در ساخت با خاطرش ز مشرف عمل بر کن و ناظرش خدا ترس باید امانت گزار امین کز تو ترسد امینش مدار امین باید از داور اندیشناک نه از رفع دیوان و زجر و هلاک بیفشان و بشمار و فارغ نشین که از صد یکی را نبینی امین دو همجنس دیرینه را هم\\u200cقلم نباید فرستاد یک جا به هم چه دانی که همدست گردند و یار یکی دزد باشد، یکی پرده\\u200cدار چو دزدان ز هم باک دارند و بیم رود در میان کاروانی سلیم یکی را که معزول کردی ز جاه چو چندی برآید ببخشش گناه بر آوردن کام امیدوار به از قید بندی شکستن هزار نویسنده را گر ستون عمل بیفتد، نبرد طناب امل به فرمانبران بر شه دادگر پدروار خشم آورد بر پسر گهش می\\u200cزند تا شود دردناک گهی می\\u200cکند آبش از دیده پاک چو نرمی کنی خصم گردد دلیر وگر خشم گیری شوند از تو سیر درشتی و نرمی به هم در به است چو رگ\\u200cزن که جراح و مرهم نه است جوانمرد و خوش خوی و بخشنده باش چو حق بر تو پاشد تو بر خلق پاش نیامد کس اندر جهان کاو بماند مگر آن کز او نام نیکو بماند نمرد آن که ماند پس از وی به جای پل و خانی و خان و مهمان سرای هر آن کاو نماند از پسش یادگار درخت وجودش نیاورد بار وگر رفت و آثار خیرش نماند نشاید پس مرگش الحمد خواند چو خواهی که نامت بود جاودان مکن نام نیک بزرگان نهان همین نقش بر خوان پس از عهد خویش که دیدی پس از عهد شاهان پیش همین کام و ناز و طرب داشتند به آخر برفتند و بگذاشتند یکی نام نیکو ببرد از جهان یکی رسم بد ماند از او جاودان به سمع رضا مشنو ایذای کس وگر گفته آید به غورش برس گنهکار را عذر نسیان بنه چو زنهار خواهند زنهار ده گر آید گنهکاری اندر پناه نه شرط است کشتن به اول گناه چو باری بگفتند و نشنید پند بده گوشمالش به زندان و بند وگر پند و بندش نیاید بکار درختی خبیث است بیخش برآر چو خشم آیدت بر گناه کسی تأمل کنش در عقوبت بسی که سهل است لعل بدخشان شکست شکسته نشاید دگرباره بست ']"
      ]
     },
     "execution_count": 38,
     "metadata": {},
     "output_type": "execute_result"
    }
   ],
   "source": [
    "poems_array = []\n",
    "for p in all_path:\n",
    "    path = p\n",
    "    f = open(path, 'r', encoding='utf8')\n",
    "    poems_array.append(f.read().replace(\"\\n\", \" \"))\n",
    "poems_array[:2]"
   ]
  }
 ],
 "metadata": {
  "interpreter": {
   "hash": "f08154012ddadd8e950e6e9e035c7a7b32c136e7647e9b7c77e02eb723a8bedb"
  },
  "kernelspec": {
   "display_name": "Python 3.8.8 ('base')",
   "language": "python",
   "name": "python3"
  },
  "language_info": {
   "codemirror_mode": {
    "name": "ipython",
    "version": 3
   },
   "file_extension": ".py",
   "mimetype": "text/x-python",
   "name": "python",
   "nbconvert_exporter": "python",
   "pygments_lexer": "ipython3",
   "version": "3.8.8"
  }
 },
 "nbformat": 4,
 "nbformat_minor": 5
}
