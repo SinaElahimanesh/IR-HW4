{
 "cells": [
  {
   "cell_type": "code",
   "execution_count": 1,
   "id": "2157969e",
   "metadata": {},
   "outputs": [
    {
     "name": "stdout",
     "output_type": "stream",
     "text": [
      "Requirement already satisfied: bs4 in c:\\users\\user\\anaconda3\\lib\\site-packages (0.0.1)\n",
      "Requirement already satisfied: beautifulsoup4 in c:\\users\\user\\anaconda3\\lib\\site-packages (from bs4) (4.9.3)\n",
      "Requirement already satisfied: soupsieve>1.2 in c:\\users\\user\\anaconda3\\lib\\site-packages (from beautifulsoup4->bs4) (2.2.1)\n"
     ]
    },
    {
     "name": "stderr",
     "output_type": "stream",
     "text": [
      "ERROR: Could not find a version that satisfies the requirement pands\n",
      "ERROR: No matching distribution found for pands\n"
     ]
    }
   ],
   "source": [
    "!pip install bs4\n",
    "!pip install pands"
   ]
  },
  {
   "cell_type": "code",
   "execution_count": 8,
   "id": "28587bcb",
   "metadata": {},
   "outputs": [],
   "source": [
    "from bs4 import BeautifulSoup\n",
    "import requests\n",
    "import pandas as pd\n",
    "import re"
   ]
  },
  {
   "cell_type": "code",
   "execution_count": 9,
   "id": "02a701ae",
   "metadata": {},
   "outputs": [],
   "source": [
    "boostan_url = \"https://ganjoor.net/saadi/boostan\""
   ]
  },
  {
   "cell_type": "markdown",
   "id": "02227c06",
   "metadata": {},
   "source": [
    "request to boostan"
   ]
  },
  {
   "cell_type": "code",
   "execution_count": 10,
   "id": "52cdd201",
   "metadata": {},
   "outputs": [
    {
     "data": {
      "text/plain": [
       "<Response [200]>"
      ]
     },
     "execution_count": 10,
     "metadata": {},
     "output_type": "execute_result"
    }
   ],
   "source": [
    "boostan_response = requests.get(boostan_url)\n",
    "boostan_response"
   ]
  },
  {
   "cell_type": "markdown",
   "id": "4344b79f",
   "metadata": {},
   "source": [
    "extract boostan links"
   ]
  },
  {
   "cell_type": "code",
   "execution_count": 11,
   "id": "251ba081",
   "metadata": {},
   "outputs": [
    {
     "name": "stdout",
     "output_type": "stream",
     "text": [
      "[<a href=\"/saadi/boostan/niyayesh\">در نیایش خداوند</a>, <a href=\"/saadi/boostan/bab1\">باب اول در عدل و تدبیر و رای</a>, <a href=\"/saadi/boostan/bab2\">باب دوم در احسان</a>, <a href=\"/saadi/boostan/bab3\">باب سوم در عشق و مستی و شور</a>, <a href=\"/saadi/boostan/bab4\">باب چهارم در تواضع</a>, <a href=\"/saadi/boostan/bab5\">باب پنجم در رضا</a>, <a href=\"/saadi/boostan/bab6\">باب ششم در قناعت</a>, <a href=\"/saadi/boostan/bab7\">باب هفتم در عالم تربیت</a>, <a href=\"/saadi/boostan/bab8\">باب هشتم در شکر بر عافیت</a>, <a href=\"/saadi/boostan/bab9\">باب نهم در توبه و راه صواب</a>, <a href=\"/saadi/boostan/bab10\">باب دهم در مناجات و ختم کتاب</a>]\n"
     ]
    }
   ],
   "source": [
    "boostan_page = BeautifulSoup(boostan_response.content, \"html.parser\")\n",
    "boostan_links = boostan_page.find_all('a', {'href': re.compile(r'/saadi/boostan/')})\n",
    "\n",
    "print(boostan_links)"
   ]
  },
  {
   "cell_type": "markdown",
   "id": "6741e19d",
   "metadata": {},
   "source": [
    "clean the arrays and just exist link"
   ]
  },
  {
   "cell_type": "code",
   "execution_count": 12,
   "id": "ed2acce2",
   "metadata": {},
   "outputs": [],
   "source": [
    "pre_url = \"https://ganjoor.net/\""
   ]
  },
  {
   "cell_type": "markdown",
   "id": "4b152b69",
   "metadata": {},
   "source": [
    "## start Boostan crawling"
   ]
  },
  {
   "cell_type": "code",
   "execution_count": 13,
   "id": "2455cb2a",
   "metadata": {},
   "outputs": [
    {
     "data": {
      "text/plain": [
       "['https://ganjoor.net//saadi/boostan/niyayesh',\n",
       " 'https://ganjoor.net//saadi/boostan/bab1',\n",
       " 'https://ganjoor.net//saadi/boostan/bab2',\n",
       " 'https://ganjoor.net//saadi/boostan/bab3',\n",
       " 'https://ganjoor.net//saadi/boostan/bab4',\n",
       " 'https://ganjoor.net//saadi/boostan/bab5',\n",
       " 'https://ganjoor.net//saadi/boostan/bab6',\n",
       " 'https://ganjoor.net//saadi/boostan/bab7',\n",
       " 'https://ganjoor.net//saadi/boostan/bab8',\n",
       " 'https://ganjoor.net//saadi/boostan/bab9',\n",
       " 'https://ganjoor.net//saadi/boostan/bab10']"
      ]
     },
     "execution_count": 13,
     "metadata": {},
     "output_type": "execute_result"
    }
   ],
   "source": [
    "boostan_list_urls = []\n",
    "\n",
    "for link in boostan_links:\n",
    "    link = pre_url + link['href']\n",
    "    boostan_list_urls.append(link)\n",
    "\n",
    "boostan_list_urls"
   ]
  },
  {
   "cell_type": "code",
   "execution_count": 14,
   "metadata": {},
   "outputs": [
    {
     "data": {
      "text/plain": [
       "['niyayesh',\n",
       " 'bab1',\n",
       " 'bab2',\n",
       " 'bab3',\n",
       " 'bab4',\n",
       " 'bab5',\n",
       " 'bab6',\n",
       " 'bab7',\n",
       " 'bab8',\n",
       " 'bab9',\n",
       " 'bab10']"
      ]
     },
     "execution_count": 14,
     "metadata": {},
     "output_type": "execute_result"
    }
   ],
   "source": [
    "boostan_sec_names = []\n",
    "y = len(boostan_list_urls)\n",
    "\n",
    "\n",
    "\n",
    "for x in range(y):\n",
    "    boostan_sec_names.append(boostan_list_urls[x].split(\"/\")[6])\n",
    "\n",
    "boostan_sec_names"
   ]
  },
  {
   "cell_type": "code",
   "execution_count": 15,
   "id": "1aad3d58",
   "metadata": {},
   "outputs": [
    {
     "data": {
      "text/plain": [
       "[<a href=\"/saadi/boostan/bab1/sh1\">بخش ۱ - سر آغاز</a>,\n",
       " <a href=\"/saadi/boostan/bab1/sh2\">بخش ۲ - حکایت در تدبیر و تأخیر در سیاست</a>,\n",
       " <a href=\"/saadi/boostan/bab1/sh3\">بخش ۳ - گفتار اندر بخشایش بر ضعیفان</a>,\n",
       " <a href=\"/saadi/boostan/bab1/sh4\">بخش ۴ - در معنی شفقت بر حال رعیت</a>,\n",
       " <a href=\"/saadi/boostan/bab1/sh5\">بخش ۵ - حکایت در شناختن دوست و دشمن را</a>]"
      ]
     },
     "execution_count": 15,
     "metadata": {},
     "output_type": "execute_result"
    }
   ],
   "source": [
    "url = boostan_list_urls[1]\n",
    "res = requests.get(url)\n",
    "rgx = '/saadi/boostan/' + boostan_sec_names[1] + '/sh'\n",
    "content = BeautifulSoup(res.content, \"html.parser\").find('article').find_all('a', {'href': re.compile(rgx)})\n",
    "content[0:5]"
   ]
  },
  {
   "cell_type": "code",
   "execution_count": 16,
   "id": "109400f5",
   "metadata": {},
   "outputs": [
    {
     "data": {
      "text/plain": [
       "['بخش ۱ - سر آغاز',\n",
       " 'بخش ۲ - حکایت در تدبیر و تأخیر در سیاست',\n",
       " 'بخش ۳ - گفتار اندر بخشایش بر ضعیفان',\n",
       " 'بخش ۴ - در معنی شفقت بر حال رعیت',\n",
       " 'بخش ۵ - حکایت در شناختن دوست و دشمن را',\n",
       " 'بخش ۶ - گفتار اندر نظر در حق رعیت مظلوم',\n",
       " 'بخش ۷ - هم در این معنی',\n",
       " 'بخش ۸ - حکایت در معنی شفقت',\n",
       " 'بخش ۹ - حکایت اتابک تکله',\n",
       " 'بخش ۱۰ - حکایت ملک روم با دانشمند',\n",
       " 'بخش ۱۱ - حکایت مرزبان ستمگار با زاهد',\n",
       " 'بخش ۱۲ - گفتار اندر نگه داشتن خاطر درویشان',\n",
       " 'بخش ۱۳ - حکایت در معنی رحمت با ناتوانان در حال توانایی',\n",
       " 'بخش ۱۴ - حکایت',\n",
       " 'بخش ۱۵ - اندر معنی عدل و ظلم و ثمرهٔ آن',\n",
       " 'بخش ۱۶ - حکایت برادران ظالم و عادل و عاقبت ایشان',\n",
       " 'بخش ۱۷ - صفت جمعیت اوقات درویشان راضی',\n",
       " 'بخش ۱۸ - حکایت عابد و استخوان پوسیده',\n",
       " 'بخش ۱۹ - گفتار اندر نکوکاری و بدکاری و عاقبت آنها',\n",
       " 'بخش ۲۰ - حکایت شحنه مردم آزار',\n",
       " 'بخش ۲۱ - حکایت حجاج یوسف',\n",
       " 'بخش ۲۲ - در نواخت رعیت و رحمت بر افتادگان',\n",
       " 'بخش ۲۳ - حکایت در این معنی',\n",
       " 'بخش ۲۴ - گفتار اندر بی\\u200cوفائی دنیا',\n",
       " 'بخش ۲۵ - در تغیر روزگار و انتقال مملکت',\n",
       " 'بخش ۲۶ - حکایت قزل ارسلان با دانشمند',\n",
       " 'بخش ۲۷ - حکایت',\n",
       " 'بخش ۲۸ - حکایت پادشاه غور با روستایی',\n",
       " 'بخش ۲۹ - حکایت مأمون با کنیزک',\n",
       " 'بخش ۳۰ - حکایت درویش صادق و پادشاه بیدادگر',\n",
       " 'بخش ۳۱ - حکایت زورآزمای تنگدست',\n",
       " 'بخش ۳۲ - حکایت در معنی خاموشی از نصیحت کسی که پند نپذیرد',\n",
       " 'بخش ۳۳ - گفتار اندر رای و تدبیر ملک و لشکرکشی',\n",
       " 'بخش ۳۴ - گفتار اندر نواخت لشکریان در حالت امن',\n",
       " 'بخش ۳۵ - گفتار اندر تقویت مردان کار آزموده',\n",
       " 'بخش ۳۶ - گفتار اندر دلداری هنرمندان',\n",
       " 'بخش ۳۷ - گفتار اندر حذر کردن از دشمنان',\n",
       " 'بخش ۳۸ - گفتار اندر دفع دشمن به رای و تدبیر',\n",
       " 'بخش ۳۹ - گفتار اندر ملاطفت با دشمن از روی عاقبت اندیشی',\n",
       " 'بخش ۴۰ - گفتار اندر حذر از دشمنی که در طاعت آید',\n",
       " 'بخش ۴۱ - گفتار اندر پوشیدن راز خویش']"
      ]
     },
     "execution_count": 16,
     "metadata": {},
     "output_type": "execute_result"
    }
   ],
   "source": [
    "c = str(content[0])\n",
    "re.sub('<.*?>', '', c)\n",
    "poem_names = []\n",
    "\n",
    "for i in content:\n",
    "    c = str(i)\n",
    "    poem_names.append(re.sub('<.*?>', '', c))\n",
    "\n",
    "poem_names\n"
   ]
  },
  {
   "cell_type": "code",
   "execution_count": 17,
   "id": "b2277880",
   "metadata": {},
   "outputs": [],
   "source": [
    "poem_names = []\n",
    "ind = 0\n",
    "for url in boostan_list_urls:\n",
    "    res = requests.get(url)\n",
    "    rgx = '/saadi/boostan/' + boostan_sec_names[ind] + '/sh'\n",
    "    ind += 1\n",
    "    content = BeautifulSoup(res.content, \"html.parser\").find('article').find_all('a', {'href': re.compile(rgx)})\n",
    "    contentToStr = str(content[0])\n",
    "    re.sub('<.*?>', '', contentToStr)\n",
    "    for i in content:\n",
    "        contentToStr = str(i)\n",
    "        poem_names.append(re.sub('<.*?>', '', contentToStr))"
   ]
  },
  {
   "cell_type": "markdown",
   "id": "ee7dc758",
   "metadata": {},
   "source": [
    "Names of all poems saved in poem_names"
   ]
  },
  {
   "cell_type": "code",
   "execution_count": 18,
   "id": "652c45a9",
   "metadata": {},
   "outputs": [
    {
     "data": {
      "text/plain": [
       "['بخش ۱ - سرآغاز',\n",
       " 'بخش ۲ - فی نعت سید المرسلین علیه الصلوة و السلام',\n",
       " 'بخش ۳ - سبب نظم کتاب',\n",
       " 'بخش ۴ - مدح ابوبکر بن سعد بن زنگی',\n",
       " 'بخش ۵ - مدح محمد بن سعد بن ابوبکر',\n",
       " 'بخش ۶ - حکایت',\n",
       " 'بخش ۱ - سر آغاز',\n",
       " 'بخش ۲ - حکایت در تدبیر و تأخیر در سیاست',\n",
       " 'بخش ۳ - گفتار اندر بخشایش بر ضعیفان',\n",
       " 'بخش ۴ - در معنی شفقت بر حال رعیت']"
      ]
     },
     "execution_count": 18,
     "metadata": {},
     "output_type": "execute_result"
    }
   ],
   "source": [
    "poem_names[0:10]"
   ]
  },
  {
   "cell_type": "markdown",
   "id": "d5ba830e",
   "metadata": {},
   "source": [
    "# Save each poem to one element in array"
   ]
  },
  {
   "cell_type": "code",
   "execution_count": 1,
   "id": "521e9677",
   "metadata": {},
   "outputs": [],
   "source": [
    "import os"
   ]
  },
  {
   "cell_type": "code",
   "execution_count": 3,
   "id": "99886f62",
   "metadata": {},
   "outputs": [],
   "source": [
    "path = './Boostan/'\n",
    "all_path = []\n",
    "for filename in os.listdir(path):\n",
    "    all_files = os.path.join(path, filename)\n",
    "    if os.path.isfile(all_files):\n",
    "        all_path.append(all_files)\n"
   ]
  },
  {
   "cell_type": "code",
   "execution_count": 5,
   "id": "184866e4",
   "metadata": {},
   "outputs": [
    {
     "data": {
      "text/plain": [
       "['بیا تا برآریم دستی ز دل که نتوان برآورد فردا ز گل به فصل خزان در نبینی درخت که بی برگ ماند ز سرمای سخت برآرد تهی دستهای نیاز ز رحمت نگردد تهیدست باز مپندار از آن در که هرگز نبست که نومید گردد بر آورده دست قضا خلعتی نامدارش دهد قدر میوه در آستینش نهد همه طاعت آرند و مسکین نیاز بیا تا به درگاه مسکین نواز چو شاخ برهنه برآریم دست که بی برگ از این بیش نتوان نشست خداوندگارا نظر کن به جود که جرم آمد از بندگان در وجود گناه آید از بندهٔ خاکسار به امید عفو خداوندگار کریما به رزق تو پرورده\\u200cایم به انعام و لطف تو خو کرده\\u200cایم گدا چون کرم بیند و لطف و ناز نگردد ز دنبال بخشنده باز چو ما را به دنیا تو کردی عزیز به عقبی همین چشم داریم نیز عزیزی و خواری تو بخشی و بس عزیز تو خواری نبیند ز کس خدایا به عزت که خوارم مکن به ذل گنه شرمسارم مکن مسلط مکن چون منی بر سرم ز دست تو به گر عقوبت برم به گیتی بتر زین نباشد بدی جفا بردن از دست همچون خودی مرا شرمساری ز روی تو بس دگر شرمسارم مکن پیش کس گرم بر سر افتد ز تو سایه\\u200cای سپهرم بود کهترین پایه\\u200cای اگر تاج بخشی سر افرازدم تو بردار تا کس نیندازدم تنم می\\u200cبلرزد چو یاد آورم مناجات شوریده\\u200cای در حرم که می\\u200cگفت شوریدهٔ دلفگار الها ببخش و به ذلّم مدار همی\\u200cگفت با حق به زاری بسی میفکن که دستم نگیرد کسی به لطفم بخوان و مران از درم ندارد به جز آستانت سرم تو دانی که مسکین و بیچاره\\u200cایم فرو مانده نفس اماره\\u200cایم نمی\\u200cتازد این نفس سرکش چنان که عقلش تواند گرفتن عنان که با نفس و شیطان بر آید به زور؟ مصاف پلنگان نیاید ز مور به مردان راهت که راهی بده وز این دشمنانم پناهی بده خدایا به ذات خداوندیت به اوصاف بی مثل و مانندیت به لبیک حجاج بیت\\u200cالحرام به مدفون یثرب علیه\\u200cالسلام به تکبیر مردان شمشیر زن که مرد وغا را شمارند زن به طاعات پیران آراسته به صدق جوانان نوخاسته که ما را در آن ورطهٔ یک نفس ز ننگ دو گفتن به فریاد رس امید است از آنان که طاعت کنند که بی طاعتان را شفاعت کنند به پاکان کز آلایشم دور دار وگر زلتی رفت معذور دار به پیران پشت از عبادت دو تا ز شرم گنه دیده بر پشت پا که چشمم ز روی سعادت مبند زبانم به وقت شهادت مبند چراغ یقینم فرا راه دار ز بد کردنم دست کوتاه دار بگردان ز نادیدنی دیده\\u200cام مده دست بر ناپسندیده\\u200cام من آن ذره\\u200cام در هوای تو نیست وجود و عدم ز احتقارم یکی است ز خورشید لطفت شعاعی بسم که جز در شعاعت نبیند کسم بدی را نگه کن که بهتر کس است گدا را ز شاه التفاتی بس است مرا گر بگیری به انصاف و داد بنالم که عفوم نه این وعده داد خدایا به ذلت مران از درم که صورت نبندد دری دیگرم ور از جهل غایب شدم روز چند کنون کآمدم در به رویم مبند چه عذر آرم از ننگ تردامنی؟ مگر عجز پیش آورم کای غنی فقیرم به جرم و گناهم مگیر غنی را ترحم بود بر فقیر چرا باید از ضعف حالم گریست؟ اگر من ضعیفم پناهم قوی است خدایا به غفلت شکستیم عهد چه زور آورد با قضا دست جهد؟ چه برخیزد از دست تدبیر ما؟ همین نکته بس عذر تقصیر ما همه هر چه کردم تو بر هم زدی چه قوت کند با خدایی خودی؟ نه من سر ز حکمت به در می\\u200cبرم که حکمت چنین می\\u200cرود بر سرم ',\n",
       " 'سیه چرده\\u200cای را کسی زشت خواند جوابی بگفتش که حیران بماند نه من صورت خویش خود کرده\\u200cام که عیبم شماری که بد کرده\\u200cام تو را با من ار زشت رویم چه کار؟ نه آخر منم زشت و زیبا نگار از آنم که بر سر نبشتی ز پیش نه کم کردم ای بنده پرور نه بیش تو دانایی آخر که قادر نیم توانای مطلق تویی، من کیم؟ گرم ره نمایی رسیدم به خیر وگر گم کنی باز ماندم ز سیر جهان آفرین گر نه یاری کند کجا بنده پرهیزگاری کند؟ چه خوش گفت درویش کوتاه دست که شب توبه کرد و سحرگه شکست گر او توبه بخشد بماند درست که پیمان ما بی ثبات است و سست به حقت که چشمم ز باطل بدوز به نورت که فردا به نارم مسوز ز مسکینیم روی در خاک رفت غبار گناهم بر افلاک رفت تو یک نوبت ای ابر رحمت ببار که در پیش باران نپاید غبار ز جرمم در این مملکت جاه نیست ولیکن به ملکی دگر راه نیست تو دانی ضمیر زبان بستگان تو مرهم نهی بر دل خستگان ']"
      ]
     },
     "execution_count": 5,
     "metadata": {},
     "output_type": "execute_result"
    }
   ],
   "source": [
    "poems_array = []\n",
    "for p in all_path:\n",
    "    path = p\n",
    "    f = open(path, 'r', encoding='utf8')\n",
    "    poems_array.append(f.read().replace(\"\\n\", \" \"))\n",
    "poems_array[:2]"
   ]
  }
 ],
 "metadata": {
  "interpreter": {
   "hash": "f08154012ddadd8e950e6e9e035c7a7b32c136e7647e9b7c77e02eb723a8bedb"
  },
  "kernelspec": {
   "display_name": "Python 3.8.8 ('base')",
   "language": "python",
   "name": "python3"
  },
  "language_info": {
   "codemirror_mode": {
    "name": "ipython",
    "version": 3
   },
   "file_extension": ".py",
   "mimetype": "text/x-python",
   "name": "python",
   "nbconvert_exporter": "python",
   "pygments_lexer": "ipython3",
   "version": "3.8.8"
  }
 },
 "nbformat": 4,
 "nbformat_minor": 5
}
